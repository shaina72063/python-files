{
 "cells": [
  {
   "cell_type": "markdown",
   "id": "e073c4e4-62d0-4366-88fa-96c13f4e9c64",
   "metadata": {},
   "source": [
    "# Tuple"
   ]
  },
  {
   "cell_type": "code",
   "execution_count": 1,
   "id": "70589d3d-0caf-417a-94b2-b53e4e409ead",
   "metadata": {},
   "outputs": [],
   "source": [
    "tuple1 = (\"mercury\",\"venus\",\"earth\",\"mars\",\"jupiter\",\"saturn\",\"uranus\",\"neptune\")"
   ]
  },
  {
   "cell_type": "code",
   "execution_count": 2,
   "id": "73fd7be7-5e53-4e1f-bc83-1b19367a4109",
   "metadata": {},
   "outputs": [
    {
     "data": {
      "text/plain": [
       "('mercury', 'venus', 'earth', 'mars', 'jupiter', 'saturn', 'uranus', 'neptune')"
      ]
     },
     "execution_count": 2,
     "metadata": {},
     "output_type": "execute_result"
    }
   ],
   "source": [
    "tuple1"
   ]
  },
  {
   "cell_type": "code",
   "execution_count": 3,
   "id": "1d171c81-b1c2-419e-b5a3-b025c5465ebd",
   "metadata": {},
   "outputs": [
    {
     "ename": "TypeError",
     "evalue": "'tuple' object does not support item assignment",
     "output_type": "error",
     "traceback": [
      "\u001b[1;31m---------------------------------------------------------------------------\u001b[0m",
      "\u001b[1;31mTypeError\u001b[0m                                 Traceback (most recent call last)",
      "Cell \u001b[1;32mIn[3], line 1\u001b[0m\n\u001b[1;32m----> 1\u001b[0m tuple1[\u001b[38;5;241m2\u001b[39m] \u001b[38;5;241m=\u001b[39m \u001b[38;5;124m\"\u001b[39m\u001b[38;5;124mmoon\u001b[39m\u001b[38;5;124m\"\u001b[39m\n",
      "\u001b[1;31mTypeError\u001b[0m: 'tuple' object does not support item assignment"
     ]
    }
   ],
   "source": [
    "tuple1[2] = \"moon\""
   ]
  },
  {
   "cell_type": "code",
   "execution_count": 4,
   "id": "759ac280-4cb0-4aa8-837a-d62370274751",
   "metadata": {},
   "outputs": [],
   "source": [
    "list1 = ['mercury', 'venus', 'earth', 'mars', 'jupiter', 'saturn', 'uranus', 'neptune']"
   ]
  },
  {
   "cell_type": "code",
   "execution_count": 5,
   "id": "18470772-9f68-4873-8318-bb5470c64bcf",
   "metadata": {},
   "outputs": [
    {
     "data": {
      "text/plain": [
       "['mercury', 'venus', 'earth', 'mars', 'jupiter', 'saturn', 'uranus', 'neptune']"
      ]
     },
     "execution_count": 5,
     "metadata": {},
     "output_type": "execute_result"
    }
   ],
   "source": [
    "list1"
   ]
  },
  {
   "cell_type": "code",
   "execution_count": 6,
   "id": "78259475-f3e5-4c8c-9fdb-c7530a50d8cc",
   "metadata": {},
   "outputs": [],
   "source": [
    "list1[2] = \"moon\""
   ]
  },
  {
   "cell_type": "code",
   "execution_count": 7,
   "id": "6c6a479c-ef64-4970-9ed7-256e82738920",
   "metadata": {},
   "outputs": [
    {
     "data": {
      "text/plain": [
       "['mercury', 'venus', 'moon', 'mars', 'jupiter', 'saturn', 'uranus', 'neptune']"
      ]
     },
     "execution_count": 7,
     "metadata": {},
     "output_type": "execute_result"
    }
   ],
   "source": [
    "list1"
   ]
  },
  {
   "cell_type": "code",
   "execution_count": 8,
   "id": "b26a4b6b-cc3e-4fc0-bc15-f529e5590b44",
   "metadata": {},
   "outputs": [],
   "source": [
    "t1 = (5,)"
   ]
  },
  {
   "cell_type": "code",
   "execution_count": 9,
   "id": "33fd6cbf-48c8-4e65-b43f-7b98ec717368",
   "metadata": {},
   "outputs": [
    {
     "data": {
      "text/plain": [
       "(5,)"
      ]
     },
     "execution_count": 9,
     "metadata": {},
     "output_type": "execute_result"
    }
   ],
   "source": [
    "t1"
   ]
  },
  {
   "cell_type": "code",
   "execution_count": 10,
   "id": "a14810ea-5bf0-4a9c-bf1a-05131a8a3170",
   "metadata": {},
   "outputs": [
    {
     "data": {
      "text/plain": [
       "tuple"
      ]
     },
     "execution_count": 10,
     "metadata": {},
     "output_type": "execute_result"
    }
   ],
   "source": [
    "type(t1)"
   ]
  },
  {
   "cell_type": "code",
   "execution_count": 11,
   "id": "1afbd701-2a87-47b3-8145-864bfe5c48f3",
   "metadata": {},
   "outputs": [],
   "source": [
    "t2 =()"
   ]
  },
  {
   "cell_type": "code",
   "execution_count": 12,
   "id": "317497f2-48b4-47ca-afbe-298245bdb57b",
   "metadata": {},
   "outputs": [
    {
     "data": {
      "text/plain": [
       "()"
      ]
     },
     "execution_count": 12,
     "metadata": {},
     "output_type": "execute_result"
    }
   ],
   "source": [
    "t2"
   ]
  },
  {
   "cell_type": "markdown",
   "id": "5e3974f0-e924-4cda-9a19-d0a4de8a54a5",
   "metadata": {},
   "source": [
    "# how to make a tuple mutable"
   ]
  },
  {
   "cell_type": "code",
   "execution_count": 13,
   "id": "873391bc-6d67-4a7d-a008-b918bbcca3a3",
   "metadata": {},
   "outputs": [],
   "source": [
    "fruits = (\"banana\",\"mango\",[\"apple\",\"grapes\"],\"watermelon\",\"orange\")"
   ]
  },
  {
   "cell_type": "code",
   "execution_count": 14,
   "id": "002eddc5-bfe3-484c-9342-49577b03e176",
   "metadata": {},
   "outputs": [
    {
     "data": {
      "text/plain": [
       "['apple', 'grapes']"
      ]
     },
     "execution_count": 14,
     "metadata": {},
     "output_type": "execute_result"
    }
   ],
   "source": [
    "fruits[2]"
   ]
  },
  {
   "cell_type": "code",
   "execution_count": 15,
   "id": "2bd165a2-2147-43f9-a146-6d3cb540f41b",
   "metadata": {},
   "outputs": [],
   "source": [
    "fruits[2][0] = 'guava'"
   ]
  },
  {
   "cell_type": "code",
   "execution_count": 16,
   "id": "5d5f8f62-40a0-40da-bfef-0cc6260ef0c8",
   "metadata": {},
   "outputs": [
    {
     "data": {
      "text/plain": [
       "('banana', 'mango', ['guava', 'grapes'], 'watermelon', 'orange')"
      ]
     },
     "execution_count": 16,
     "metadata": {},
     "output_type": "execute_result"
    }
   ],
   "source": [
    "fruits"
   ]
  },
  {
   "cell_type": "code",
   "execution_count": 17,
   "id": "28380862-10e9-4d67-815a-31699c45481b",
   "metadata": {},
   "outputs": [
    {
     "ename": "TypeError",
     "evalue": "'tuple' object does not support item assignment",
     "output_type": "error",
     "traceback": [
      "\u001b[1;31m---------------------------------------------------------------------------\u001b[0m",
      "\u001b[1;31mTypeError\u001b[0m                                 Traceback (most recent call last)",
      "Cell \u001b[1;32mIn[17], line 1\u001b[0m\n\u001b[1;32m----> 1\u001b[0m fruits[\u001b[38;5;241m3\u001b[39m] \u001b[38;5;241m=\u001b[39m \u001b[38;5;124m\"\u001b[39m\u001b[38;5;124mpineapple\u001b[39m\u001b[38;5;124m\"\u001b[39m\n",
      "\u001b[1;31mTypeError\u001b[0m: 'tuple' object does not support item assignment"
     ]
    }
   ],
   "source": [
    "fruits[3] = \"pineapple\""
   ]
  },
  {
   "cell_type": "code",
   "execution_count": 18,
   "id": "ecc4bc55-3bfa-4319-8a3d-657227828c5f",
   "metadata": {},
   "outputs": [
    {
     "data": {
      "text/plain": [
       "['banana', 'mango', ['guava', 'grapes'], 'watermelon', 'orange']"
      ]
     },
     "execution_count": 18,
     "metadata": {},
     "output_type": "execute_result"
    }
   ],
   "source": [
    "list(fruits)"
   ]
  },
  {
   "cell_type": "markdown",
   "id": "ddb6baf5-bd00-40ae-87ec-c1df98113a7d",
   "metadata": {},
   "source": [
    "# unpacking of tuple"
   ]
  },
  {
   "cell_type": "code",
   "execution_count": 19,
   "id": "7241e60f-feef-47a5-b468-ba4cd57697c8",
   "metadata": {},
   "outputs": [
    {
     "name": "stdout",
     "output_type": "stream",
     "text": [
      "banana\n",
      "mango\n",
      "['guava', 'grapes']\n",
      "watermelon\n",
      "orange\n"
     ]
    }
   ],
   "source": [
    "for i in fruits:\n",
    "    print(i)"
   ]
  },
  {
   "cell_type": "code",
   "execution_count": 20,
   "id": "fddc1e39-f9f5-4f91-8b60-5da91a23ddee",
   "metadata": {},
   "outputs": [
    {
     "data": {
      "text/plain": [
       "1"
      ]
     },
     "execution_count": 20,
     "metadata": {},
     "output_type": "execute_result"
    }
   ],
   "source": [
    "fruits.count('orange')"
   ]
  },
  {
   "cell_type": "code",
   "execution_count": 21,
   "id": "1f7e0a21-e006-4ac3-9935-f71202904f39",
   "metadata": {},
   "outputs": [
    {
     "data": {
      "text/plain": [
       "3"
      ]
     },
     "execution_count": 21,
     "metadata": {},
     "output_type": "execute_result"
    }
   ],
   "source": [
    "fruits.index('watermelon')"
   ]
  },
  {
   "cell_type": "code",
   "execution_count": 22,
   "id": "21218119-32fa-4eac-a1bc-f4b14d8afb28",
   "metadata": {},
   "outputs": [],
   "source": [
    "price = (120,140,200)"
   ]
  },
  {
   "cell_type": "code",
   "execution_count": 23,
   "id": "c863490b-0693-40b7-b401-3ae09013ff39",
   "metadata": {},
   "outputs": [],
   "source": [
    "fruits_price = fruits + price"
   ]
  },
  {
   "cell_type": "code",
   "execution_count": 24,
   "id": "e9a22c45-da1b-4390-91bf-572011d51fec",
   "metadata": {},
   "outputs": [
    {
     "data": {
      "text/plain": [
       "('banana', 'mango', ['guava', 'grapes'], 'watermelon', 'orange', 120, 140, 200)"
      ]
     },
     "execution_count": 24,
     "metadata": {},
     "output_type": "execute_result"
    }
   ],
   "source": [
    "fruits_price"
   ]
  },
  {
   "cell_type": "code",
   "execution_count": 27,
   "id": "a78afa28-fef5-420c-b5fa-d88605b603b8",
   "metadata": {},
   "outputs": [
    {
     "data": {
      "text/plain": [
       "2"
      ]
     },
     "execution_count": 27,
     "metadata": {},
     "output_type": "execute_result"
    }
   ],
   "source": [
    "fruits_price.index(['guava', 'grapes'])"
   ]
  },
  {
   "cell_type": "code",
   "execution_count": 26,
   "id": "71b876ca-35d5-4d99-a796-c7e291cc5621",
   "metadata": {},
   "outputs": [
    {
     "name": "stdin",
     "output_type": "stream",
     "text": [
      "enter a name: shaina\n"
     ]
    },
    {
     "name": "stdout",
     "output_type": "stream",
     "text": [
      "{'s': 1, 'h': 1, 'a': 2, 'i': 1, 'n': 1}\n"
     ]
    }
   ],
   "source": [
    "name = input(\"enter a name:\")\n",
    "freq = {}\n",
    "for i in name:\n",
    "    if i not in freq:\n",
    "        freq[i] = 1\n",
    "    else:\n",
    "        freq[i] +=1\n",
    "print(freq)"
   ]
  },
  {
   "cell_type": "code",
   "execution_count": null,
   "id": "6bf10dae-ae6d-497b-864f-76ffac0b0a9a",
   "metadata": {},
   "outputs": [],
   "source": []
  }
 ],
 "metadata": {
  "kernelspec": {
   "display_name": "Python 3 (ipykernel)",
   "language": "python",
   "name": "python3"
  },
  "language_info": {
   "codemirror_mode": {
    "name": "ipython",
    "version": 3
   },
   "file_extension": ".py",
   "mimetype": "text/x-python",
   "name": "python",
   "nbconvert_exporter": "python",
   "pygments_lexer": "ipython3",
   "version": "3.11.7"
  }
 },
 "nbformat": 4,
 "nbformat_minor": 5
}
