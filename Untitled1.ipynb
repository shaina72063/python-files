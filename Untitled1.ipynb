{
 "cells": [
  {
   "cell_type": "code",
   "execution_count": 1,
   "id": "61ff1394-d4c5-46d6-9731-ed3447c2a55e",
   "metadata": {},
   "outputs": [
    {
     "name": "stdout",
     "output_type": "stream",
     "text": [
      "True\n"
     ]
    }
   ],
   "source": [
    "dict1 = {\"key1\":1, \"key2\":2}\n",
    "dict2 = {\"key2\":2, \"key1\":1}\n",
    "print(dict1 == dict2)"
   ]
  },
  {
   "cell_type": "code",
   "execution_count": 2,
   "id": "d7e892de-69ed-4c19-bc8a-5eaa300e8156",
   "metadata": {},
   "outputs": [
    {
     "name": "stdout",
     "output_type": "stream",
     "text": [
      "{'first': 1, 'second': 2, 'third': 3}\n"
     ]
    }
   ],
   "source": [
    "sampleDict = dict([\n",
    "    ('first', 1),\n",
    "    ('second', 2),\n",
    "    ('third', 3)\n",
    "])\n",
    "print(sampleDict)"
   ]
  },
  {
   "cell_type": "code",
   "execution_count": 3,
   "id": "36697d92-67d1-4ad9-91f9-225aa4210a44",
   "metadata": {},
   "outputs": [],
   "source": [
    "student = { \n",
    "  \"name\": \"Emma\", \n",
    "  \"class\": 9, \n",
    "  \"marks\": 75 \n",
    "}"
   ]
  },
  {
   "cell_type": "code",
   "execution_count": 4,
   "id": "5299d00e-8fc8-4be1-9909-281254de3a0f",
   "metadata": {},
   "outputs": [],
   "source": [
    "student.clear()"
   ]
  },
  {
   "cell_type": "code",
   "execution_count": 5,
   "id": "e1c4b26b-a661-49be-ac4c-eebced5da4ab",
   "metadata": {},
   "outputs": [
    {
     "data": {
      "text/plain": [
       "{}"
      ]
     },
     "execution_count": 5,
     "metadata": {},
     "output_type": "execute_result"
    }
   ],
   "source": [
    "student"
   ]
  },
  {
   "cell_type": "code",
   "execution_count": 6,
   "id": "1d2eb99e-8781-44d8-8659-825430e9f6b9",
   "metadata": {},
   "outputs": [],
   "source": [
    "student = {1: {'name': 'Emma', 'age': '27', 'sex': 'Female'},\n",
    "           2: {'name': 'Mike', 'age': '22', 'sex': 'Male'}}"
   ]
  },
  {
   "cell_type": "code",
   "execution_count": 7,
   "id": "de53cc62-4090-4828-b0c2-d143610eefff",
   "metadata": {},
   "outputs": [
    {
     "ename": "KeyError",
     "evalue": "0",
     "output_type": "error",
     "traceback": [
      "\u001b[1;31m---------------------------------------------------------------------------\u001b[0m",
      "\u001b[1;31mKeyError\u001b[0m                                  Traceback (most recent call last)",
      "Cell \u001b[1;32mIn[7], line 1\u001b[0m\n\u001b[1;32m----> 1\u001b[0m student[\u001b[38;5;241m0\u001b[39m][\u001b[38;5;241m1\u001b[39m]\n",
      "\u001b[1;31mKeyError\u001b[0m: 0"
     ]
    }
   ],
   "source": [
    "student[0][1]"
   ]
  },
  {
   "cell_type": "code",
   "execution_count": 8,
   "id": "dc046574-e9d9-4308-8615-c84c6f6ac215",
   "metadata": {},
   "outputs": [
    {
     "data": {
      "text/plain": [
       "'27'"
      ]
     },
     "execution_count": 8,
     "metadata": {},
     "output_type": "execute_result"
    }
   ],
   "source": [
    "student[1][\"age\"]"
   ]
  },
  {
   "cell_type": "code",
   "execution_count": 9,
   "id": "d3556225-0553-45d2-a325-8940d260ce35",
   "metadata": {},
   "outputs": [
    {
     "ename": "KeyError",
     "evalue": "'age'",
     "output_type": "error",
     "traceback": [
      "\u001b[1;31m---------------------------------------------------------------------------\u001b[0m",
      "\u001b[1;31mKeyError\u001b[0m                                  Traceback (most recent call last)",
      "Cell \u001b[1;32mIn[9], line 2\u001b[0m\n\u001b[0;32m      1\u001b[0m dict1 \u001b[38;5;241m=\u001b[39m {\u001b[38;5;124m\"\u001b[39m\u001b[38;5;124mname\u001b[39m\u001b[38;5;124m\"\u001b[39m: \u001b[38;5;124m\"\u001b[39m\u001b[38;5;124mMike\u001b[39m\u001b[38;5;124m\"\u001b[39m, \u001b[38;5;124m\"\u001b[39m\u001b[38;5;124msalary\u001b[39m\u001b[38;5;124m\"\u001b[39m: \u001b[38;5;241m8000\u001b[39m}\n\u001b[1;32m----> 2\u001b[0m temp \u001b[38;5;241m=\u001b[39m dict1\u001b[38;5;241m.\u001b[39mpop(\u001b[38;5;124m\"\u001b[39m\u001b[38;5;124mage\u001b[39m\u001b[38;5;124m\"\u001b[39m)\n\u001b[0;32m      3\u001b[0m \u001b[38;5;28mprint\u001b[39m(temp)\n",
      "\u001b[1;31mKeyError\u001b[0m: 'age'"
     ]
    }
   ],
   "source": [
    "dict1 = {\"name\": \"Mike\", \"salary\": 8000}\n",
    "temp = dict1.pop(\"age\")\n",
    "print(temp)"
   ]
  },
  {
   "cell_type": "code",
   "execution_count": 10,
   "id": "c35906f8-9b97-4616-8e6a-ee1c78b68749",
   "metadata": {},
   "outputs": [],
   "source": [
    "student = { \n",
    "  \"name\": \"Emma\", \n",
    "  \"class\": 9, \n",
    "  \"marks\": 75 \n",
    "}"
   ]
  },
  {
   "cell_type": "code",
   "execution_count": 11,
   "id": "ec82ad53-5dcc-4379-afd9-d7dab25738c2",
   "metadata": {},
   "outputs": [
    {
     "ename": "TypeError",
     "evalue": "dict.popitem() takes no arguments (1 given)",
     "output_type": "error",
     "traceback": [
      "\u001b[1;31m---------------------------------------------------------------------------\u001b[0m",
      "\u001b[1;31mTypeError\u001b[0m                                 Traceback (most recent call last)",
      "Cell \u001b[1;32mIn[11], line 1\u001b[0m\n\u001b[1;32m----> 1\u001b[0m student\u001b[38;5;241m.\u001b[39mpopitem(\u001b[38;5;124m\"\u001b[39m\u001b[38;5;124mmarks\u001b[39m\u001b[38;5;124m\"\u001b[39m)\n",
      "\u001b[1;31mTypeError\u001b[0m: dict.popitem() takes no arguments (1 given)"
     ]
    }
   ],
   "source": [
    "student.popitem(\"marks\")"
   ]
  },
  {
   "cell_type": "code",
   "execution_count": 12,
   "id": "e5d287e5-298f-4292-812c-b80ae9fc0988",
   "metadata": {},
   "outputs": [
    {
     "name": "stdout",
     "output_type": "stream",
     "text": [
      "None\n"
     ]
    }
   ],
   "source": [
    "dict1 = {\"name\": \"Mike\", \"salary\": 8000}\n",
    "temp = dict1.get(\"age\")\n",
    "print(temp)"
   ]
  },
  {
   "cell_type": "code",
   "execution_count": 13,
   "id": "633acae4-16c9-46e0-93fb-87c471024912",
   "metadata": {},
   "outputs": [],
   "source": [
    "student = {\n",
    "  \"name\": \"Emma\",\n",
    "  \"class\": 9,\n",
    "  \"marks\": 75\n",
    "}"
   ]
  },
  {
   "cell_type": "code",
   "execution_count": 16,
   "id": "8ad7d281-462d-4d1f-960e-261f912823f9",
   "metadata": {},
   "outputs": [],
   "source": [
    "student.get(2)"
   ]
  },
  {
   "cell_type": "code",
   "execution_count": 17,
   "id": "236f39b0-17f5-43ab-a5dd-07f838187d0f",
   "metadata": {},
   "outputs": [
    {
     "name": "stdout",
     "output_type": "stream",
     "text": [
      "[30, 40, 50]\n",
      "[10, 20, 30, 40]\n",
      "[40, 50, 60, 70, 80]\n"
     ]
    }
   ],
   "source": [
    "aList = [10, 20, 30, 40, 50, 60, 70, 80]\n",
    "print(aList[2:5])\n",
    "print(aList[:4])\n",
    "print(aList[3:])"
   ]
  },
  {
   "cell_type": "code",
   "execution_count": 18,
   "id": "580f1a9d-9a42-420b-a769-773524f150c2",
   "metadata": {},
   "outputs": [
    {
     "name": "stdout",
     "output_type": "stream",
     "text": [
      "[25, 10]\n"
     ]
    }
   ],
   "source": [
    "aList = [5, 10, 15, 25]\n",
    "print(aList[::-2])"
   ]
  },
  {
   "cell_type": "code",
   "execution_count": 19,
   "id": "b2d85e7f-1321-4a5b-a641-e1e9cc4fe380",
   "metadata": {},
   "outputs": [
    {
     "name": "stdout",
     "output_type": "stream",
     "text": [
      "Y\n",
      "16\n"
     ]
    }
   ],
   "source": [
    "aList = [\"PYnative\", [4, 8, 12, 16]]\n",
    "print(aList[0][1])    \n",
    "print(aList[1][3])"
   ]
  },
  {
   "cell_type": "code",
   "execution_count": 20,
   "id": "54542336-e56d-4f1c-82e1-b8ee42f20be4",
   "metadata": {},
   "outputs": [
    {
     "name": "stdout",
     "output_type": "stream",
     "text": [
      "zara\n"
     ]
    }
   ],
   "source": [
    "list1 = ['xyz', 'zara', 'PYnative']\n",
    "print (max(list1))"
   ]
  },
  {
   "cell_type": "code",
   "execution_count": 21,
   "id": "6fd2151c-b169-431f-b87c-8a078ad89fd8",
   "metadata": {},
   "outputs": [
    {
     "name": "stdout",
     "output_type": "stream",
     "text": [
      "['Hello Dear', 'Hello Bye', 'Good Dear', 'Good Bye']\n"
     ]
    }
   ],
   "source": [
    "resList = [x+y for x in ['Hello ', 'Good '] for y in ['Dear', 'Bye']]\n",
    "print(resList)"
   ]
  },
  {
   "cell_type": "code",
   "execution_count": 22,
   "id": "0669f833-e48b-4c9c-a5ee-9f563b970a74",
   "metadata": {},
   "outputs": [
    {
     "name": "stdout",
     "output_type": "stream",
     "text": [
      "[10, 20, 30, 40, 50, 60]\n",
      "[10, 20, 30, 40, 50, 60, 60]\n"
     ]
    }
   ],
   "source": [
    "sampleList = [10, 20, 30, 40, 50]\n",
    "sampleList.append(60)\n",
    "print(sampleList)\n",
    "\n",
    "sampleList.append(60)\n",
    "print(sampleList)"
   ]
  },
  {
   "cell_type": "code",
   "execution_count": 23,
   "id": "ff092a2d-a70e-49d1-9f72-9b7bf9d46c55",
   "metadata": {},
   "outputs": [
    {
     "name": "stdout",
     "output_type": "stream",
     "text": [
      "10\n"
     ]
    }
   ],
   "source": [
    "l = [None] * 10\n",
    "print(len(l))"
   ]
  },
  {
   "cell_type": "code",
   "execution_count": 24,
   "id": "db9ece3c-3ba4-4141-a445-5197959ad948",
   "metadata": {},
   "outputs": [
    {
     "name": "stdout",
     "output_type": "stream",
     "text": [
      "[]\n"
     ]
    }
   ],
   "source": [
    "sampleList = [10, 20, 30, 40]\n",
    "del sampleList[0:6]\n",
    "print(sampleList)"
   ]
  },
  {
   "cell_type": "code",
   "execution_count": 25,
   "id": "5ce72f88-4639-4c52-a538-1daf977087d8",
   "metadata": {},
   "outputs": [
    {
     "name": "stdout",
     "output_type": "stream",
     "text": [
      "Hello-Python\n"
     ]
    }
   ],
   "source": [
    "my_list = [\"Hello\", \"Python\"]\n",
    "print(\"-\".join(my_list))"
   ]
  },
  {
   "cell_type": "code",
   "execution_count": 26,
   "id": "c584331b-29db-4b7a-b5e4-12045c73e06f",
   "metadata": {},
   "outputs": [
    {
     "name": "stdout",
     "output_type": "stream",
     "text": [
      "40\n",
      "[20, 30, 40]\n"
     ]
    }
   ],
   "source": [
    "sampleList = [10, 20, 30, 40, 50]\n",
    "print(sampleList[-2])\n",
    "print(sampleList[-4:-1])"
   ]
  },
  {
   "cell_type": "code",
   "execution_count": 27,
   "id": "77a43fb3-4b80-4203-947d-9b7b308e050b",
   "metadata": {},
   "outputs": [
    {
     "name": "stdout",
     "output_type": "stream",
     "text": [
      "[2, 4, 6, 8, 10, 12, 14]\n"
     ]
    }
   ],
   "source": [
    "aList = [1, 2, 3, 4, 5, 6, 7]\n",
    "pow2 =  [2 * x for x in aList]\n",
    "print(pow2)"
   ]
  },
  {
   "cell_type": "code",
   "execution_count": 28,
   "id": "c9f29658-9be0-42e2-8aee-2710e6427d55",
   "metadata": {},
   "outputs": [
    {
     "name": "stdout",
     "output_type": "stream",
     "text": [
      "[10, 20, 30, 40]\n",
      "[10, 20, 40]\n"
     ]
    }
   ],
   "source": [
    "sampleList = [10, 20, 30, 40, 50]\n",
    "sampleList.pop()\n",
    "print(sampleList)\n",
    "\n",
    "sampleList.pop(2)\n",
    "print(sampleList)"
   ]
  },
  {
   "cell_type": "code",
   "execution_count": 29,
   "id": "9705c29d-646f-41d3-a14b-4b8d410aadfa",
   "metadata": {},
   "outputs": [
    {
     "name": "stdout",
     "output_type": "stream",
     "text": [
      "[4, 20, 24, 28]\n"
     ]
    }
   ],
   "source": [
    "aList = [4, 8, 12, 16]\n",
    "aList[1:4] = [20, 24, 28]\n",
    "print(aList)"
   ]
  },
  {
   "cell_type": "code",
   "execution_count": 30,
   "id": "e4761062-038d-4140-8a63-7251ebdca390",
   "metadata": {},
   "outputs": [
    {
     "name": "stdout",
     "output_type": "stream",
     "text": [
      "400\n",
      "(200, 300, 400)\n"
     ]
    }
   ],
   "source": [
    "aTuple = (100, 200, 300, 400, 500)\n",
    "print(aTuple[-2])\n",
    "print(aTuple[-4:-1])"
   ]
  },
  {
   "cell_type": "code",
   "execution_count": 31,
   "id": "978a381b-85ed-4d83-950b-4f806dc12c14",
   "metadata": {},
   "outputs": [
    {
     "name": "stdout",
     "output_type": "stream",
     "text": [
      "(30, 40, 50) (10, 20, 30, 40) (40, 50, 60, 70, 80)\n"
     ]
    }
   ],
   "source": [
    "aTuple = (10, 20, 30, 40, 50, 60, 70, 80)\n",
    "print(aTuple[2:5], aTuple[:4], aTuple[3:])"
   ]
  },
  {
   "cell_type": "code",
   "execution_count": 32,
   "id": "482c1eb9-89c8-4400-b85d-7e6524d343c9",
   "metadata": {},
   "outputs": [
    {
     "name": "stdout",
     "output_type": "stream",
     "text": [
      "(100, 100)\n"
     ]
    }
   ],
   "source": [
    "aTuple = (100,)\n",
    "print(aTuple * 2)"
   ]
  },
  {
   "cell_type": "code",
   "execution_count": 33,
   "id": "336d1b12-6d58-4b5a-ab1c-8799e6387e70",
   "metadata": {},
   "outputs": [
    {
     "ename": "SyntaxError",
     "evalue": "invalid syntax (1878300225.py, line 1)",
     "output_type": "error",
     "traceback": [
      "\u001b[1;36m  Cell \u001b[1;32mIn[33], line 1\u001b[1;36m\u001b[0m\n\u001b[1;33m    Choose the correct way to access value 20 from the following tuple\u001b[0m\n\u001b[1;37m           ^\u001b[0m\n\u001b[1;31mSyntaxError\u001b[0m\u001b[1;31m:\u001b[0m invalid syntax\n"
     ]
    }
   ],
   "source": [
    "Choose the correct way to access value 20 from the following tuple\n",
    "\n",
    "aTuple = (\"Orange\", [10, 20, 30], (5, 15, 25))\n",
    " aTuple[1:2][1]\n",
    " aTuple[1:2](1)\n",
    " aTuple[1:2][1]\n",
    " aTuple[1][1]"
   ]
  },
  {
   "cell_type": "code",
   "execution_count": 34,
   "id": "7bd4036d-d673-4329-887f-e94154ed762d",
   "metadata": {},
   "outputs": [
    {
     "ename": "AttributeError",
     "evalue": "'tuple' object has no attribute 'pop'",
     "output_type": "error",
     "traceback": [
      "\u001b[1;31m---------------------------------------------------------------------------\u001b[0m",
      "\u001b[1;31mAttributeError\u001b[0m                            Traceback (most recent call last)",
      "Cell \u001b[1;32mIn[34], line 2\u001b[0m\n\u001b[0;32m      1\u001b[0m aTuple \u001b[38;5;241m=\u001b[39m (\u001b[38;5;241m100\u001b[39m, \u001b[38;5;241m200\u001b[39m, \u001b[38;5;241m300\u001b[39m, \u001b[38;5;241m400\u001b[39m, \u001b[38;5;241m500\u001b[39m)\n\u001b[1;32m----> 2\u001b[0m aTuple\u001b[38;5;241m.\u001b[39mpop(\u001b[38;5;241m2\u001b[39m)\n\u001b[0;32m      3\u001b[0m \u001b[38;5;28mprint\u001b[39m(aTuple)\n",
      "\u001b[1;31mAttributeError\u001b[0m: 'tuple' object has no attribute 'pop'"
     ]
    }
   ],
   "source": [
    "aTuple = (100, 200, 300, 400, 500)\n",
    "aTuple.pop(2)\n",
    "print(aTuple)"
   ]
  },
  {
   "cell_type": "code",
   "execution_count": 35,
   "id": "23e3ec1b-62a4-40f1-a75d-418dc11f1759",
   "metadata": {},
   "outputs": [
    {
     "name": "stdout",
     "output_type": "stream",
     "text": [
      "<class 'str'>\n"
     ]
    }
   ],
   "source": [
    "aTuple = (\"Orange\")\n",
    "print(type(aTuple))"
   ]
  },
  {
   "cell_type": "code",
   "execution_count": 36,
   "id": "9eaa28df-311e-4817-b75d-b874ac9b8e49",
   "metadata": {},
   "outputs": [
    {
     "ename": "TypeError",
     "evalue": "'>' not supported between instances of 'str' and 'int'",
     "output_type": "error",
     "traceback": [
      "\u001b[1;31m---------------------------------------------------------------------------\u001b[0m",
      "\u001b[1;31mTypeError\u001b[0m                                 Traceback (most recent call last)",
      "Cell \u001b[1;32mIn[36], line 2\u001b[0m\n\u001b[0;32m      1\u001b[0m tuple1 \u001b[38;5;241m=\u001b[39m (\u001b[38;5;241m1120\u001b[39m, \u001b[38;5;124m'\u001b[39m\u001b[38;5;124ma\u001b[39m\u001b[38;5;124m'\u001b[39m)\n\u001b[1;32m----> 2\u001b[0m \u001b[38;5;28mprint\u001b[39m(\u001b[38;5;28mmax\u001b[39m(tuple1))\n",
      "\u001b[1;31mTypeError\u001b[0m: '>' not supported between instances of 'str' and 'int'"
     ]
    }
   ],
   "source": [
    "tuple1 = (1120, 'a')\n",
    "print(max(tuple1))"
   ]
  },
  {
   "cell_type": "code",
   "execution_count": 37,
   "id": "9f31d2e7-5c2c-4b31-b5b6-89d0a679707f",
   "metadata": {},
   "outputs": [
    {
     "ename": "TypeError",
     "evalue": "'tuple' object does not support item assignment",
     "output_type": "error",
     "traceback": [
      "\u001b[1;31m---------------------------------------------------------------------------\u001b[0m",
      "\u001b[1;31mTypeError\u001b[0m                                 Traceback (most recent call last)",
      "Cell \u001b[1;32mIn[37], line 2\u001b[0m\n\u001b[0;32m      1\u001b[0m aTuple \u001b[38;5;241m=\u001b[39m (\u001b[38;5;241m100\u001b[39m, \u001b[38;5;241m200\u001b[39m, \u001b[38;5;241m300\u001b[39m, \u001b[38;5;241m400\u001b[39m, \u001b[38;5;241m500\u001b[39m)\n\u001b[1;32m----> 2\u001b[0m aTuple[\u001b[38;5;241m1\u001b[39m] \u001b[38;5;241m=\u001b[39m \u001b[38;5;241m800\u001b[39m\n\u001b[0;32m      3\u001b[0m \u001b[38;5;28mprint\u001b[39m(aTuple)\n",
      "\u001b[1;31mTypeError\u001b[0m: 'tuple' object does not support item assignment"
     ]
    }
   ],
   "source": [
    "aTuple = (100, 200, 300, 400, 500)\n",
    "aTuple[1] = 800\n",
    "print(aTuple)"
   ]
  },
  {
   "cell_type": "code",
   "execution_count": 38,
   "id": "eea7a2e9-2be1-4604-a3d1-83db76075b29",
   "metadata": {},
   "outputs": [
    {
     "name": "stdout",
     "output_type": "stream",
     "text": [
      "Yellow\n"
     ]
    }
   ],
   "source": [
    "aTuple = \"Yellow\", 20, \"Red\"\n",
    "a, b, c = aTuple\n",
    "print(a)"
   ]
  },
  {
   "cell_type": "code",
   "execution_count": null,
   "id": "d846db77-0bc4-46c4-ad07-a1567395299b",
   "metadata": {},
   "outputs": [],
   "source": []
  }
 ],
 "metadata": {
  "kernelspec": {
   "display_name": "Python 3 (ipykernel)",
   "language": "python",
   "name": "python3"
  },
  "language_info": {
   "codemirror_mode": {
    "name": "ipython",
    "version": 3
   },
   "file_extension": ".py",
   "mimetype": "text/x-python",
   "name": "python",
   "nbconvert_exporter": "python",
   "pygments_lexer": "ipython3",
   "version": "3.11.7"
  }
 },
 "nbformat": 4,
 "nbformat_minor": 5
}
