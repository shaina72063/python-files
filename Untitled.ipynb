{
 "cells": [
  {
   "cell_type": "code",
   "execution_count": 1,
   "id": "3c116f24-1ee1-46a5-afb2-cd3c56f0632b",
   "metadata": {},
   "outputs": [
    {
     "name": "stdout",
     "output_type": "stream",
     "text": [
      "1\n",
      "2\n",
      "3\n",
      "4\n",
      "5\n",
      "6\n",
      "7\n",
      "8\n",
      "9\n",
      "10\n"
     ]
    }
   ],
   "source": [
    "for i in range(1,11):\n",
    "    print(i)"
   ]
  },
  {
   "cell_type": "code",
   "execution_count": 2,
   "id": "45778d4d-db4c-4189-86ee-075a60cb6954",
   "metadata": {},
   "outputs": [
    {
     "data": {
      "text/plain": [
       "\u001b[1;31mInit signature:\u001b[0m \u001b[0mrange\u001b[0m\u001b[1;33m(\u001b[0m\u001b[0mself\u001b[0m\u001b[1;33m,\u001b[0m \u001b[1;33m/\u001b[0m\u001b[1;33m,\u001b[0m \u001b[1;33m*\u001b[0m\u001b[0margs\u001b[0m\u001b[1;33m,\u001b[0m \u001b[1;33m**\u001b[0m\u001b[0mkwargs\u001b[0m\u001b[1;33m)\u001b[0m\u001b[1;33m\u001b[0m\u001b[1;33m\u001b[0m\u001b[0m\n",
       "\u001b[1;31mDocstring:\u001b[0m     \n",
       "range(stop) -> range object\n",
       "range(start, stop[, step]) -> range object\n",
       "\n",
       "Return an object that produces a sequence of integers from start (inclusive)\n",
       "to stop (exclusive) by step.  range(i, j) produces i, i+1, i+2, ..., j-1.\n",
       "start defaults to 0, and stop is omitted!  range(4) produces 0, 1, 2, 3.\n",
       "These are exactly the valid indices for a list of 4 elements.\n",
       "When step is given, it specifies the increment (or decrement).\n",
       "\u001b[1;31mType:\u001b[0m           type\n",
       "\u001b[1;31mSubclasses:\u001b[0m     "
      ]
     },
     "metadata": {},
     "output_type": "display_data"
    }
   ],
   "source": [
    "range?"
   ]
  },
  {
   "cell_type": "code",
   "execution_count": 8,
   "id": "70ea9fda-37ca-462f-b13c-4d02799bcc80",
   "metadata": {},
   "outputs": [
    {
     "name": "stdout",
     "output_type": "stream",
     "text": [
      "2\n",
      "4\n",
      "6\n",
      "8\n",
      "10\n",
      "12\n",
      "14\n",
      "16\n",
      "18\n",
      "20\n",
      "22\n",
      "24\n",
      "26\n",
      "28\n",
      "30\n",
      "32\n",
      "34\n",
      "36\n",
      "38\n",
      "40\n",
      "42\n",
      "44\n",
      "46\n",
      "48\n",
      "50\n"
     ]
    }
   ],
   "source": [
    "for i in range(2,51,2): # for even numbers and for odd numbers we will write range(1,51,2)\n",
    "    print(i)"
   ]
  },
  {
   "cell_type": "code",
   "execution_count": 9,
   "id": "570bd342-c6f3-407c-a80f-8af9acfe9d4f",
   "metadata": {},
   "outputs": [
    {
     "name": "stdout",
     "output_type": "stream",
     "text": [
      "10\n",
      "9\n",
      "8\n",
      "7\n",
      "6\n",
      "5\n",
      "4\n",
      "3\n",
      "2\n",
      "1\n"
     ]
    }
   ],
   "source": [
    "for i in range(10,0,-1):\n",
    "    print(i)"
   ]
  },
  {
   "cell_type": "markdown",
   "id": "0d4fc0b1-5435-4228-8d81-4992faa611d1",
   "metadata": {},
   "source": [
    "for i in range(1,10,2):\n",
    "    print(i)"
   ]
  },
  {
   "cell_type": "code",
   "execution_count": 11,
   "id": "0278422c-a2d0-4f96-93b7-1c16777786c1",
   "metadata": {},
   "outputs": [
    {
     "data": {
      "text/plain": [
       "'# # # #\\n   # # # #\\n   # # # #\\n   # # # #'"
      ]
     },
     "execution_count": 11,
     "metadata": {},
     "output_type": "execute_result"
    }
   ],
   "source": [
    "\"\"\"# # # #\n",
    "   # # # #\n",
    "   # # # #\n",
    "   # # # #\"\"\"\n"
   ]
  },
  {
   "cell_type": "code",
   "execution_count": 16,
   "id": "7d56c323-dc73-46d3-893d-1174bb9b8484",
   "metadata": {},
   "outputs": [
    {
     "name": "stdout",
     "output_type": "stream",
     "text": [
      "# # # # \n",
      "# # # # \n",
      "# # # # \n",
      "# # # # \n"
     ]
    }
   ],
   "source": [
    "for i in range(1,5):\n",
    "    for i in range(1,5):\n",
    "        print(\"#\",end=\" \")\n",
    "    print()\n",
    "\n"
   ]
  },
  {
   "cell_type": "code",
   "execution_count": 21,
   "id": "3d4d533e-5165-4a8e-916e-2695506fa80e",
   "metadata": {},
   "outputs": [],
   "source": [
    "# list"
   ]
  },
  {
   "cell_type": "code",
   "execution_count": 28,
   "id": "f104272d-2d43-466c-80eb-482d68ad4ef7",
   "metadata": {},
   "outputs": [],
   "source": [
    "students = ['shaina','ana','anshul','aman','lakshi','aman']"
   ]
  },
  {
   "cell_type": "code",
   "execution_count": 23,
   "id": "388077d0-159b-475b-9ee9-37241a10b01e",
   "metadata": {},
   "outputs": [
    {
     "data": {
      "text/plain": [
       "['shaina', 'ana', 'anshul', 'aman', 'lakshi']"
      ]
     },
     "execution_count": 23,
     "metadata": {},
     "output_type": "execute_result"
    }
   ],
   "source": [
    "students"
   ]
  },
  {
   "cell_type": "code",
   "execution_count": 30,
   "id": "4650f25a-d1cb-4952-8fbc-eee61f064202",
   "metadata": {},
   "outputs": [
    {
     "data": {
      "text/plain": [
       "2"
      ]
     },
     "execution_count": 30,
     "metadata": {},
     "output_type": "execute_result"
    }
   ],
   "source": [
    "#count() - returns the nubmber of item present in list\n",
    "students.count(\"aman\")"
   ]
  },
  {
   "cell_type": "code",
   "execution_count": 27,
   "id": "b06a39a6-840a-41b8-a1d2-2bc9e9240a6a",
   "metadata": {},
   "outputs": [
    {
     "data": {
      "text/plain": [
       "3"
      ]
     },
     "execution_count": 27,
     "metadata": {},
     "output_type": "execute_result"
    }
   ],
   "source": [
    "#index() - returns the index of given item in list\n",
    "students.index(\"aman\")"
   ]
  },
  {
   "cell_type": "code",
   "execution_count": 34,
   "id": "88f71bc6-453b-40f3-80c0-2f68b548882c",
   "metadata": {},
   "outputs": [],
   "source": [
    "#insert() - it insert the item in list at a given index\n",
    "students.insert(2, \"vanshika\")"
   ]
  },
  {
   "cell_type": "code",
   "execution_count": 35,
   "id": "9f28c1fa-1cb3-4fd0-8555-39bf62210a1c",
   "metadata": {},
   "outputs": [
    {
     "data": {
      "text/plain": [
       "['shaina', 'ana', 'vanshika', 'vanshika', 'anshul', 'aman', 'lakshi', 'aman']"
      ]
     },
     "execution_count": 35,
     "metadata": {},
     "output_type": "execute_result"
    }
   ],
   "source": [
    "students"
   ]
  },
  {
   "cell_type": "code",
   "execution_count": 36,
   "id": "d6881947-5127-4090-a1b4-fded5a127336",
   "metadata": {},
   "outputs": [],
   "source": [
    "#pop() - it remove the last item of the list\n",
    "drop = students.pop()"
   ]
  },
  {
   "cell_type": "code",
   "execution_count": 37,
   "id": "644347d1-f194-436c-8db0-dee1412147d1",
   "metadata": {},
   "outputs": [
    {
     "data": {
      "text/plain": [
       "'aman'"
      ]
     },
     "execution_count": 37,
     "metadata": {},
     "output_type": "execute_result"
    }
   ],
   "source": [
    "drop"
   ]
  },
  {
   "cell_type": "code",
   "execution_count": 38,
   "id": "bca0070d-1716-47b6-9295-beb9b7be3b5f",
   "metadata": {},
   "outputs": [
    {
     "data": {
      "text/plain": [
       "['shaina', 'ana', 'vanshika', 'vanshika', 'anshul', 'aman', 'lakshi']"
      ]
     },
     "execution_count": 38,
     "metadata": {},
     "output_type": "execute_result"
    }
   ],
   "source": [
    "students"
   ]
  },
  {
   "cell_type": "code",
   "execution_count": 39,
   "id": "da8c4279-37e1-428d-be44-3399ebbe8c34",
   "metadata": {},
   "outputs": [],
   "source": [
    "#remove() - it removes the given data itme from list\n",
    "students.remove(\"vanshika\")"
   ]
  },
  {
   "cell_type": "code",
   "execution_count": 40,
   "id": "c79842c3-6407-4940-bf08-56364b58de81",
   "metadata": {},
   "outputs": [
    {
     "data": {
      "text/plain": [
       "['shaina', 'ana', 'vanshika', 'anshul', 'aman', 'lakshi']"
      ]
     },
     "execution_count": 40,
     "metadata": {},
     "output_type": "execute_result"
    }
   ],
   "source": [
    "students"
   ]
  },
  {
   "cell_type": "code",
   "execution_count": 41,
   "id": "1d9f856a-3f7b-4818-8166-787d4a7e39d8",
   "metadata": {},
   "outputs": [],
   "source": [
    "#sort() - it returns the sorte list of icons in ascending order or descending order\n",
    "students.sort()"
   ]
  },
  {
   "cell_type": "code",
   "execution_count": 43,
   "id": "9d911ba7-aaf4-4fe0-9123-54523f538baa",
   "metadata": {},
   "outputs": [
    {
     "data": {
      "text/plain": [
       "['aman', 'ana', 'anshul', 'lakshi', 'shaina', 'vanshika']"
      ]
     },
     "execution_count": 43,
     "metadata": {},
     "output_type": "execute_result"
    }
   ],
   "source": [
    "students"
   ]
  },
  {
   "cell_type": "code",
   "execution_count": 44,
   "id": "bc4438a2-1e13-4e5d-944c-1586276d8c88",
   "metadata": {},
   "outputs": [],
   "source": [
    "students.sort(reverse = True)"
   ]
  },
  {
   "cell_type": "code",
   "execution_count": 45,
   "id": "0c93d5f2-d911-4e41-9399-30f79b1b8178",
   "metadata": {},
   "outputs": [
    {
     "data": {
      "text/plain": [
       "['vanshika', 'shaina', 'lakshi', 'anshul', 'ana', 'aman']"
      ]
     },
     "execution_count": 45,
     "metadata": {},
     "output_type": "execute_result"
    }
   ],
   "source": [
    "students"
   ]
  },
  {
   "cell_type": "code",
   "execution_count": 46,
   "id": "7dc470d2-f3b4-42c9-9c78-4f08bb8ec3eb",
   "metadata": {},
   "outputs": [],
   "source": [
    "#append() - it adds the given item at the end of the list\n",
    "students.append(\"tanni\")"
   ]
  },
  {
   "cell_type": "code",
   "execution_count": 47,
   "id": "3e15d8a5-e97a-4361-bb4a-fa7f5f9859ea",
   "metadata": {},
   "outputs": [
    {
     "data": {
      "text/plain": [
       "['vanshika', 'shaina', 'lakshi', 'anshul', 'ana', 'aman', 'tanni']"
      ]
     },
     "execution_count": 47,
     "metadata": {},
     "output_type": "execute_result"
    }
   ],
   "source": [
    "students"
   ]
  },
  {
   "cell_type": "code",
   "execution_count": 48,
   "id": "84347414-956c-4bfe-9a48-644765d436a1",
   "metadata": {},
   "outputs": [],
   "source": [
    "surname = [\"sharma\",\"malik\",\"gupta\",\"goyal\",\"bansal\"]"
   ]
  },
  {
   "cell_type": "code",
   "execution_count": 49,
   "id": "0ceca477-5862-4b8c-b7c4-10441c4219cc",
   "metadata": {},
   "outputs": [],
   "source": [
    "#extend() - it adds the data item at the end of the list\n",
    "students.extend(surname)"
   ]
  },
  {
   "cell_type": "code",
   "execution_count": 50,
   "id": "24e549a6-6eeb-4b65-aaf8-13893b019591",
   "metadata": {},
   "outputs": [
    {
     "data": {
      "text/plain": [
       "['vanshika',\n",
       " 'shaina',\n",
       " 'lakshi',\n",
       " 'anshul',\n",
       " 'ana',\n",
       " 'aman',\n",
       " 'tanni',\n",
       " 'sharma',\n",
       " 'malik',\n",
       " 'gupta',\n",
       " 'goyal',\n",
       " 'bansal']"
      ]
     },
     "execution_count": 50,
     "metadata": {},
     "output_type": "execute_result"
    }
   ],
   "source": [
    "students"
   ]
  },
  {
   "cell_type": "code",
   "execution_count": 55,
   "id": "679623e0-bb0c-44df-901c-4189fda2d2d7",
   "metadata": {},
   "outputs": [],
   "source": [
    "students.append(['gupta','malik'])\n"
   ]
  },
  {
   "cell_type": "code",
   "execution_count": 56,
   "id": "c98e8223-e018-4146-9f09-0004d4593ade",
   "metadata": {},
   "outputs": [
    {
     "data": {
      "text/plain": [
       "['vanshika',\n",
       " 'shaina',\n",
       " 'lakshi',\n",
       " 'anshul',\n",
       " 'ana',\n",
       " 'aman',\n",
       " 'tanni',\n",
       " 'sharma',\n",
       " 'malik',\n",
       " 'gupta',\n",
       " 'goyal',\n",
       " 'bansal',\n",
       " 'gupta',\n",
       " 'gupta',\n",
       " ['gupta', 'malik']]"
      ]
     },
     "execution_count": 56,
     "metadata": {},
     "output_type": "execute_result"
    }
   ],
   "source": [
    "students"
   ]
  },
  {
   "cell_type": "code",
   "execution_count": 57,
   "id": "ed90f295-f746-4fa3-8931-3cbedec2e66a",
   "metadata": {},
   "outputs": [],
   "source": [
    "students_surname = students+surname"
   ]
  },
  {
   "cell_type": "code",
   "execution_count": 58,
   "id": "9fb64816-cd3b-4bcc-8cd1-97922f045123",
   "metadata": {},
   "outputs": [
    {
     "data": {
      "text/plain": [
       "['vanshika',\n",
       " 'shaina',\n",
       " 'lakshi',\n",
       " 'anshul',\n",
       " 'ana',\n",
       " 'aman',\n",
       " 'tanni',\n",
       " 'sharma',\n",
       " 'malik',\n",
       " 'gupta',\n",
       " 'goyal',\n",
       " 'bansal',\n",
       " 'gupta',\n",
       " 'gupta',\n",
       " ['gupta', 'malik'],\n",
       " 'sharma',\n",
       " 'malik',\n",
       " 'gupta',\n",
       " 'goyal',\n",
       " 'bansal']"
      ]
     },
     "execution_count": 58,
     "metadata": {},
     "output_type": "execute_result"
    }
   ],
   "source": [
    "students_surname"
   ]
  },
  {
   "cell_type": "code",
   "execution_count": 59,
   "id": "b2c19388-0020-45a3-a9d5-34687e5cce4c",
   "metadata": {},
   "outputs": [],
   "source": [
    "l1 = [1,2,3]\n",
    "l2 = [4,5,6]"
   ]
  },
  {
   "cell_type": "code",
   "execution_count": 60,
   "id": "ad3da485-f218-4fed-8a85-1d7cd6244cf6",
   "metadata": {},
   "outputs": [],
   "source": [
    "l3 = l1+l2"
   ]
  },
  {
   "cell_type": "code",
   "execution_count": 62,
   "id": "a62968ea-c595-4ce3-88a2-b1a15b7cc5f0",
   "metadata": {},
   "outputs": [
    {
     "data": {
      "text/plain": [
       "[1, 2, 3, 4, 5, 6]"
      ]
     },
     "execution_count": 62,
     "metadata": {},
     "output_type": "execute_result"
    }
   ],
   "source": [
    "l3"
   ]
  },
  {
   "cell_type": "markdown",
   "id": "62bb389d-0bb8-4577-913a-a0ba91a560db",
   "metadata": {},
   "source": [
    "# Slicing of list"
   ]
  },
  {
   "cell_type": "code",
   "execution_count": 64,
   "id": "b95fe813-8296-4d71-ace1-ac32cf633d81",
   "metadata": {},
   "outputs": [
    {
     "data": {
      "text/plain": [
       "['vanshika', 'shaina', 'lakshi', 'anshul']"
      ]
     },
     "execution_count": 64,
     "metadata": {},
     "output_type": "execute_result"
    }
   ],
   "source": [
    "students[0:4]"
   ]
  },
  {
   "cell_type": "code",
   "execution_count": 65,
   "id": "6f7afe1d-584e-41f0-ac9c-acb14cbbe3ff",
   "metadata": {},
   "outputs": [
    {
     "data": {
      "text/plain": [
       "['gupta', 'malik']"
      ]
     },
     "execution_count": 65,
     "metadata": {},
     "output_type": "execute_result"
    }
   ],
   "source": [
    "students[-1]"
   ]
  },
  {
   "cell_type": "code",
   "execution_count": 66,
   "id": "fd57e852-f199-4c56-bf19-5ce2e2f9a168",
   "metadata": {},
   "outputs": [],
   "source": [
    "number = [1,2,3,4,5,6,7,8]"
   ]
  },
  {
   "cell_type": "code",
   "execution_count": 67,
   "id": "8b769e4d-1a9d-4a88-8d31-c768176ddfb7",
   "metadata": {},
   "outputs": [
    {
     "data": {
      "text/plain": [
       "8"
      ]
     },
     "execution_count": 67,
     "metadata": {},
     "output_type": "execute_result"
    }
   ],
   "source": [
    "number[-1]"
   ]
  },
  {
   "cell_type": "code",
   "execution_count": 68,
   "id": "3b1e31f1-8f04-43c9-a8d8-5ba33e047b83",
   "metadata": {},
   "outputs": [
    {
     "data": {
      "text/plain": [
       "[2, 3, 4]"
      ]
     },
     "execution_count": 68,
     "metadata": {},
     "output_type": "execute_result"
    }
   ],
   "source": [
    "number[1:4]"
   ]
  },
  {
   "cell_type": "code",
   "execution_count": 69,
   "id": "f7b5ceda-0aff-42e0-95ae-18c92abd74d5",
   "metadata": {},
   "outputs": [
    {
     "data": {
      "text/plain": [
       "6"
      ]
     },
     "execution_count": 69,
     "metadata": {},
     "output_type": "execute_result"
    }
   ],
   "source": [
    "number[5]"
   ]
  },
  {
   "cell_type": "code",
   "execution_count": 70,
   "id": "ff28ad27-9563-4075-9866-eb994e00c646",
   "metadata": {},
   "outputs": [
    {
     "data": {
      "text/plain": [
       "2"
      ]
     },
     "execution_count": 70,
     "metadata": {},
     "output_type": "execute_result"
    }
   ],
   "source": [
    "number[-7]"
   ]
  },
  {
   "cell_type": "code",
   "execution_count": 72,
   "id": "35926de7-0c3d-47cb-a8f9-d63507ed3e6b",
   "metadata": {},
   "outputs": [
    {
     "data": {
      "text/plain": [
       "[1, 2, 3, 4, 5]"
      ]
     },
     "execution_count": 72,
     "metadata": {},
     "output_type": "execute_result"
    }
   ],
   "source": [
    "number[0:5]"
   ]
  },
  {
   "cell_type": "code",
   "execution_count": 73,
   "id": "f9652c0d-5b88-420a-abd6-88754571fc8f",
   "metadata": {},
   "outputs": [
    {
     "data": {
      "text/plain": [
       "[1, 6]"
      ]
     },
     "execution_count": 73,
     "metadata": {},
     "output_type": "execute_result"
    }
   ],
   "source": [
    "number[::5]"
   ]
  },
  {
   "cell_type": "code",
   "execution_count": 74,
   "id": "d1afb2b1-0f25-4f61-83c5-92a812e02ce4",
   "metadata": {},
   "outputs": [],
   "source": [
    "friends = ['lakshi','anshul','kajal','divya','tanishq','yash']"
   ]
  },
  {
   "cell_type": "code",
   "execution_count": 75,
   "id": "2665bb18-d36f-4983-b99d-1960eb1f0e71",
   "metadata": {},
   "outputs": [
    {
     "name": "stdout",
     "output_type": "stream",
     "text": [
      "Happy Friendship Day to lakshi\n",
      "Happy Friendship Day to anshul\n",
      "Happy Friendship Day to kajal\n",
      "Happy Friendship Day to divya\n",
      "Happy Friendship Day to tanishq\n",
      "Happy Friendship Day to yash\n"
     ]
    }
   ],
   "source": [
    "for i in friends:\n",
    "    print(\"Happy Friendship Day to\",i)"
   ]
  },
  {
   "cell_type": "code",
   "execution_count": null,
   "id": "2d3801d4-d911-4e34-9f19-0848b6145a7a",
   "metadata": {},
   "outputs": [],
   "source": []
  }
 ],
 "metadata": {
  "kernelspec": {
   "display_name": "Python 3 (ipykernel)",
   "language": "python",
   "name": "python3"
  },
  "language_info": {
   "codemirror_mode": {
    "name": "ipython",
    "version": 3
   },
   "file_extension": ".py",
   "mimetype": "text/x-python",
   "name": "python",
   "nbconvert_exporter": "python",
   "pygments_lexer": "ipython3",
   "version": "3.11.7"
  }
 },
 "nbformat": 4,
 "nbformat_minor": 5
}
