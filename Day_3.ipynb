{
 "cells": [
  {
   "cell_type": "markdown",
   "id": "b1746f74-b648-40ab-beb0-f9b364393a42",
   "metadata": {},
   "source": [
    "# looping statement"
   ]
  },
  {
   "cell_type": "code",
   "execution_count": null,
   "id": "96e14737-725e-4ef3-98da-3f00c04d19db",
   "metadata": {},
   "outputs": [],
   "source": [
    "i = 1\n",
    "while i<= 10:\n",
    "    print(i, end = \", \" )\n",
    "    i = i+1"
   ]
  },
  {
   "cell_type": "code",
   "execution_count": null,
   "id": "bf97f3cf-7198-4675-a1f1-5c15c966e4f3",
   "metadata": {},
   "outputs": [],
   "source": [
    "i =1\n",
    "while i<= 100:\n",
    "    if i%2 == 0:\n",
    "        print(i,end=\",\")\n",
    "    i+=1"
   ]
  },
  {
   "cell_type": "raw",
   "id": "91ed5db6-9d9b-4cd4-af5d-185c860d4f2e",
   "metadata": {},
   "source": [
    "# range()"
   ]
  },
  {
   "cell_type": "code",
   "execution_count": null,
   "id": "8d16f251-fd3a-47ec-8df8-a506e12396e6",
   "metadata": {},
   "outputs": [],
   "source": [
    "print(range(4))\n"
   ]
  },
  {
   "cell_type": "code",
   "execution_count": null,
   "id": "d4527c10-e238-4d64-984e-2c573ca12b36",
   "metadata": {},
   "outputs": [],
   "source": []
  }
 ],
 "metadata": {
  "kernelspec": {
   "display_name": "Python 3 (ipykernel)",
   "language": "python",
   "name": "python3"
  },
  "language_info": {
   "codemirror_mode": {
    "name": "ipython",
    "version": 3
   },
   "file_extension": ".py",
   "mimetype": "text/x-python",
   "name": "python",
   "nbconvert_exporter": "python",
   "pygments_lexer": "ipython3",
   "version": "3.11.7"
  }
 },
 "nbformat": 4,
 "nbformat_minor": 5
}
