{
 "cells": [
  {
   "cell_type": "code",
   "execution_count": 73,
   "id": "65e10acb-7b35-429f-8340-10a07306fa17",
   "metadata": {},
   "outputs": [
    {
     "name": "stdout",
     "output_type": "stream",
     "text": [
      "Welcome in Geeta University\n"
     ]
    }
   ],
   "source": [
    "print(\"Welcome in Geeta University\")"
   ]
  },
  {
   "cell_type": "code",
   "execution_count": 74,
   "id": "5174b9cc-4339-4bb9-95c8-3c969db5784f",
   "metadata": {},
   "outputs": [
    {
     "data": {
      "text/plain": [
       "\u001b[1;31mSignature:\u001b[0m \u001b[0mprint\u001b[0m\u001b[1;33m(\u001b[0m\u001b[1;33m*\u001b[0m\u001b[0margs\u001b[0m\u001b[1;33m,\u001b[0m \u001b[0msep\u001b[0m\u001b[1;33m=\u001b[0m\u001b[1;34m' '\u001b[0m\u001b[1;33m,\u001b[0m \u001b[0mend\u001b[0m\u001b[1;33m=\u001b[0m\u001b[1;34m'\\n'\u001b[0m\u001b[1;33m,\u001b[0m \u001b[0mfile\u001b[0m\u001b[1;33m=\u001b[0m\u001b[1;32mNone\u001b[0m\u001b[1;33m,\u001b[0m \u001b[0mflush\u001b[0m\u001b[1;33m=\u001b[0m\u001b[1;32mFalse\u001b[0m\u001b[1;33m)\u001b[0m\u001b[1;33m\u001b[0m\u001b[1;33m\u001b[0m\u001b[0m\n",
       "\u001b[1;31mDocstring:\u001b[0m\n",
       "Prints the values to a stream, or to sys.stdout by default.\n",
       "\n",
       "sep\n",
       "  string inserted between values, default a space.\n",
       "end\n",
       "  string appended after the last value, default a newline.\n",
       "file\n",
       "  a file-like object (stream); defaults to the current sys.stdout.\n",
       "flush\n",
       "  whether to forcibly flush the stream.\n",
       "\u001b[1;31mType:\u001b[0m      builtin_function_or_method"
      ]
     },
     "metadata": {},
     "output_type": "display_data"
    }
   ],
   "source": [
    "print?"
   ]
  },
  {
   "cell_type": "code",
   "execution_count": 75,
   "id": "978ecd2b-1613-441b-8459-1e8b2e6ddbac",
   "metadata": {},
   "outputs": [
    {
     "name": "stdout",
     "output_type": "stream",
     "text": [
      "shaina ana ani\n"
     ]
    }
   ],
   "source": [
    "print(\"shaina\",\"ana\",\"ani\")\n"
   ]
  },
  {
   "cell_type": "code",
   "execution_count": 76,
   "id": "854894e9-778d-4b83-b50c-95598dcb3499",
   "metadata": {},
   "outputs": [
    {
     "name": "stdout",
     "output_type": "stream",
     "text": [
      "10,20,30,40\n"
     ]
    }
   ],
   "source": [
    "print(10,20,30,40,sep=\",\")\n"
   ]
  },
  {
   "cell_type": "code",
   "execution_count": 77,
   "id": "3f2259b0-4007-4aa6-a062-e72bbda7beaf",
   "metadata": {},
   "outputs": [
    {
     "name": "stdout",
     "output_type": "stream",
     "text": [
      "Welcome in  Summer Internship\n"
     ]
    }
   ],
   "source": [
    "print(\"Welcome in\",end=\" \")\n",
    "print(\" Summer Internship\")"
   ]
  },
  {
   "cell_type": "code",
   "execution_count": 78,
   "id": "3b663223-3dac-448a-b9ff-ad78a758b2f8",
   "metadata": {},
   "outputs": [
    {
     "name": "stdout",
     "output_type": "stream",
     "text": [
      "5\n"
     ]
    }
   ],
   "source": [
    "print(5)\n"
   ]
  },
  {
   "cell_type": "code",
   "execution_count": 79,
   "id": "8b55263f-40a7-48c8-9213-2c04c6cd4407",
   "metadata": {},
   "outputs": [
    {
     "data": {
      "text/plain": [
       "int"
      ]
     },
     "execution_count": 79,
     "metadata": {},
     "output_type": "execute_result"
    }
   ],
   "source": [
    "type(5)"
   ]
  },
  {
   "cell_type": "code",
   "execution_count": 80,
   "id": "614c8abd-fc11-4e3d-9e60-bdc77ada90c0",
   "metadata": {},
   "outputs": [
    {
     "name": "stdout",
     "output_type": "stream",
     "text": [
      "5\n"
     ]
    }
   ],
   "source": [
    "print(\"5\")"
   ]
  },
  {
   "cell_type": "code",
   "execution_count": 81,
   "id": "a4ffe99c-56fb-4014-9b6b-c23836411465",
   "metadata": {},
   "outputs": [
    {
     "data": {
      "text/plain": [
       "str"
      ]
     },
     "execution_count": 81,
     "metadata": {},
     "output_type": "execute_result"
    }
   ],
   "source": [
    "type(\"5\")"
   ]
  },
  {
   "cell_type": "code",
   "execution_count": 82,
   "id": "bcacfede-40ac-45b2-8456-b190d9e1e827",
   "metadata": {},
   "outputs": [
    {
     "name": "stdout",
     "output_type": "stream",
     "text": [
      "hello5\n"
     ]
    }
   ],
   "source": [
    "print(\"hello\"+\"5\")"
   ]
  },
  {
   "cell_type": "code",
   "execution_count": 83,
   "id": "15317dd7-368d-401f-86f4-9195c9d239a9",
   "metadata": {},
   "outputs": [
    {
     "name": "stdout",
     "output_type": "stream",
     "text": [
      "hello hello hello hello hello hello hello hello hello hello \n"
     ]
    }
   ],
   "source": [
    "print(\"hello \" * 10)"
   ]
  },
  {
   "cell_type": "code",
   "execution_count": 84,
   "id": "b3748530-988f-47f1-8173-cbf2912a45a6",
   "metadata": {},
   "outputs": [],
   "source": [
    "#print"
   ]
  },
  {
   "cell_type": "code",
   "execution_count": 85,
   "id": "c5d8389a-e4a6-4784-9ce5-ddc8a530d2c3",
   "metadata": {},
   "outputs": [
    {
     "data": {
      "text/plain": [
       "'variable is a memory space\\nto store\\na value'"
      ]
     },
     "execution_count": 85,
     "metadata": {},
     "output_type": "execute_result"
    }
   ],
   "source": [
    "\"\"\"variable is a memory space\n",
    "to store\n",
    "a value\"\"\""
   ]
  },
  {
   "cell_type": "code",
   "execution_count": 86,
   "id": "db87ccc9-7ea6-40be-9137-05fc89ce7f00",
   "metadata": {},
   "outputs": [
    {
     "data": {
      "text/plain": [
       "'this is\\nmulti line\\nsomment'"
      ]
     },
     "execution_count": 86,
     "metadata": {},
     "output_type": "execute_result"
    }
   ],
   "source": [
    "'''this is\n",
    "multi line\n",
    "somment'''"
   ]
  },
  {
   "cell_type": "code",
   "execution_count": 87,
   "id": "29d8f6f3-e63a-4b27-afba-c9f15cb17176",
   "metadata": {},
   "outputs": [
    {
     "data": {
      "text/plain": [
       "\u001b[1;31mSignature:\u001b[0m \u001b[0mprint\u001b[0m\u001b[1;33m(\u001b[0m\u001b[1;33m*\u001b[0m\u001b[0margs\u001b[0m\u001b[1;33m,\u001b[0m \u001b[0msep\u001b[0m\u001b[1;33m=\u001b[0m\u001b[1;34m' '\u001b[0m\u001b[1;33m,\u001b[0m \u001b[0mend\u001b[0m\u001b[1;33m=\u001b[0m\u001b[1;34m'\\n'\u001b[0m\u001b[1;33m,\u001b[0m \u001b[0mfile\u001b[0m\u001b[1;33m=\u001b[0m\u001b[1;32mNone\u001b[0m\u001b[1;33m,\u001b[0m \u001b[0mflush\u001b[0m\u001b[1;33m=\u001b[0m\u001b[1;32mFalse\u001b[0m\u001b[1;33m)\u001b[0m\u001b[1;33m\u001b[0m\u001b[1;33m\u001b[0m\u001b[0m\n",
       "\u001b[1;31mDocstring:\u001b[0m\n",
       "Prints the values to a stream, or to sys.stdout by default.\n",
       "\n",
       "sep\n",
       "  string inserted between values, default a space.\n",
       "end\n",
       "  string appended after the last value, default a newline.\n",
       "file\n",
       "  a file-like object (stream); defaults to the current sys.stdout.\n",
       "flush\n",
       "  whether to forcibly flush the stream.\n",
       "\u001b[1;31mType:\u001b[0m      builtin_function_or_method"
      ]
     },
     "metadata": {},
     "output_type": "display_data"
    }
   ],
   "source": [
    "print?"
   ]
  },
  {
   "cell_type": "code",
   "execution_count": 88,
   "id": "1beeb786-ef9e-4256-a470-0e4769cb903e",
   "metadata": {},
   "outputs": [],
   "source": [
    "x=10"
   ]
  },
  {
   "cell_type": "code",
   "execution_count": 89,
   "id": "301510db-1041-4b1a-be78-ce469beb73c2",
   "metadata": {},
   "outputs": [
    {
     "name": "stdout",
     "output_type": "stream",
     "text": [
      "10\n"
     ]
    }
   ],
   "source": [
    "print(x)"
   ]
  },
  {
   "cell_type": "code",
   "execution_count": 90,
   "id": "2cdea4da-f32b-4230-a836-64e1def5a4ae",
   "metadata": {},
   "outputs": [],
   "source": [
    "x=15"
   ]
  },
  {
   "cell_type": "code",
   "execution_count": 91,
   "id": "a6f8d279-9da6-4123-b19c-31b5ac12309a",
   "metadata": {},
   "outputs": [
    {
     "name": "stdout",
     "output_type": "stream",
     "text": [
      "15\n"
     ]
    }
   ],
   "source": [
    "print(x)"
   ]
  },
  {
   "cell_type": "code",
   "execution_count": 92,
   "id": "c269f113-d265-4693-9f66-225bc7309505",
   "metadata": {},
   "outputs": [],
   "source": [
    "num_1=15"
   ]
  },
  {
   "cell_type": "code",
   "execution_count": 93,
   "id": "c4df5d70-c903-4bf9-85ab-0dfba0ddb0ad",
   "metadata": {},
   "outputs": [],
   "source": [
    "num_2=10"
   ]
  },
  {
   "cell_type": "code",
   "execution_count": 94,
   "id": "2962bb24-2e2a-45cb-806a-dc7c1de06f13",
   "metadata": {},
   "outputs": [
    {
     "name": "stdout",
     "output_type": "stream",
     "text": [
      "15 10\n"
     ]
    }
   ],
   "source": [
    "print(num_1,num_2)"
   ]
  },
  {
   "cell_type": "code",
   "execution_count": 95,
   "id": "3bb7d969-f731-4c25-9133-5bd7f18f0324",
   "metadata": {},
   "outputs": [
    {
     "ename": "SyntaxError",
     "evalue": "invalid decimal literal (4091887948.py, line 1)",
     "output_type": "error",
     "traceback": [
      "\u001b[1;36m  Cell \u001b[1;32mIn[95], line 1\u001b[1;36m\u001b[0m\n\u001b[1;33m    10_num=10\u001b[0m\n\u001b[1;37m      ^\u001b[0m\n\u001b[1;31mSyntaxError\u001b[0m\u001b[1;31m:\u001b[0m invalid decimal literal\n"
     ]
    }
   ],
   "source": [
    "10_num=10"
   ]
  },
  {
   "cell_type": "code",
   "execution_count": null,
   "id": "a13ad618-8fcb-434d-89dc-ae474e19c095",
   "metadata": {},
   "outputs": [],
   "source": [
    "num#1=10"
   ]
  },
  {
   "cell_type": "markdown",
   "id": "0d61e841-a4b0-4d15-a161-86c3999c67ec",
   "metadata": {},
   "source": [
    "first_name=\"shaina\""
   ]
  },
  {
   "cell_type": "code",
   "execution_count": null,
   "id": "dfdfa695-c0f5-457c-997d-54acc3d933d8",
   "metadata": {},
   "outputs": [],
   "source": [
    "first_name=\"shaina\""
   ]
  },
  {
   "cell_type": "code",
   "execution_count": null,
   "id": "ab796ff8-f853-4a4a-baed-e79422b1b265",
   "metadata": {},
   "outputs": [],
   "source": [
    "last_name=\"hussain\"\n",
    "print(first_name,last_name)"
   ]
  },
  {
   "cell_type": "code",
   "execution_count": 1,
   "id": "9d1fb6a7-0442-4192-bc5f-8e2d3bba0f85",
   "metadata": {},
   "outputs": [],
   "source": [
    "a=10.5"
   ]
  },
  {
   "cell_type": "code",
   "execution_count": 2,
   "id": "eca6163f-931e-4b54-976d-1bd3e081e7ab",
   "metadata": {},
   "outputs": [
    {
     "data": {
      "text/plain": [
       "\u001b[1;31mInit signature:\u001b[0m \u001b[0mtype\u001b[0m\u001b[1;33m(\u001b[0m\u001b[0mself\u001b[0m\u001b[1;33m,\u001b[0m \u001b[1;33m/\u001b[0m\u001b[1;33m,\u001b[0m \u001b[1;33m*\u001b[0m\u001b[0margs\u001b[0m\u001b[1;33m,\u001b[0m \u001b[1;33m**\u001b[0m\u001b[0mkwargs\u001b[0m\u001b[1;33m)\u001b[0m\u001b[1;33m\u001b[0m\u001b[1;33m\u001b[0m\u001b[0m\n",
       "\u001b[1;31mDocstring:\u001b[0m     \n",
       "type(object) -> the object's type\n",
       "type(name, bases, dict, **kwds) -> a new type\n",
       "\u001b[1;31mType:\u001b[0m           type\n",
       "\u001b[1;31mSubclasses:\u001b[0m     ABCMeta, EnumType, _AnyMeta, NamedTupleMeta, _TypedDictMeta, _DeprecatedType, _ABC, MetaHasDescriptors, PyCStructType, UnionType, ..."
      ]
     },
     "metadata": {},
     "output_type": "display_data"
    }
   ],
   "source": [
    "type?\n"
   ]
  },
  {
   "cell_type": "code",
   "execution_count": 3,
   "id": "a21828b1-7d5e-4143-b07c-c89c2b942ff5",
   "metadata": {},
   "outputs": [
    {
     "data": {
      "text/plain": [
       "\u001b[1;31mInit signature:\u001b[0m \u001b[0mtype\u001b[0m\u001b[1;33m(\u001b[0m\u001b[0mself\u001b[0m\u001b[1;33m,\u001b[0m \u001b[1;33m/\u001b[0m\u001b[1;33m,\u001b[0m \u001b[1;33m*\u001b[0m\u001b[0margs\u001b[0m\u001b[1;33m,\u001b[0m \u001b[1;33m**\u001b[0m\u001b[0mkwargs\u001b[0m\u001b[1;33m)\u001b[0m\u001b[1;33m\u001b[0m\u001b[1;33m\u001b[0m\u001b[0m\n",
       "\u001b[1;31mDocstring:\u001b[0m     \n",
       "type(object) -> the object's type\n",
       "type(name, bases, dict, **kwds) -> a new type\n",
       "\u001b[1;31mType:\u001b[0m           type\n",
       "\u001b[1;31mSubclasses:\u001b[0m     ABCMeta, EnumType, _AnyMeta, NamedTupleMeta, _TypedDictMeta, _DeprecatedType, _ABC, MetaHasDescriptors, PyCStructType, UnionType, ..."
      ]
     },
     "metadata": {},
     "output_type": "display_data"
    }
   ],
   "source": [
    "type?\n"
   ]
  },
  {
   "cell_type": "code",
   "execution_count": 4,
   "id": "cb28cd24-09c3-43fe-bc8c-e6400841ee40",
   "metadata": {},
   "outputs": [
    {
     "data": {
      "text/plain": [
       "float"
      ]
     },
     "execution_count": 4,
     "metadata": {},
     "output_type": "execute_result"
    }
   ],
   "source": [
    "type(a)"
   ]
  },
  {
   "cell_type": "code",
   "execution_count": 5,
   "id": "9c1d19a5-7fe3-4393-9c6d-594b750b3153",
   "metadata": {},
   "outputs": [],
   "source": [
    "b=20.5"
   ]
  },
  {
   "cell_type": "code",
   "execution_count": 6,
   "id": "5c4f60ee-4d9c-435b-907d-47f4260eb88d",
   "metadata": {},
   "outputs": [
    {
     "name": "stdout",
     "output_type": "stream",
     "text": [
      "31.0\n"
     ]
    }
   ],
   "source": [
    "print(a+b)"
   ]
  },
  {
   "cell_type": "code",
   "execution_count": 7,
   "id": "f0c6df45-bc21-4392-be0c-b63c71146390",
   "metadata": {},
   "outputs": [],
   "source": [
    "x=y=z=10"
   ]
  },
  {
   "cell_type": "code",
   "execution_count": 8,
   "id": "31727ae8-9c3b-4978-a915-41b86c268668",
   "metadata": {},
   "outputs": [
    {
     "name": "stdout",
     "output_type": "stream",
     "text": [
      "30\n"
     ]
    }
   ],
   "source": [
    "print(x+y+z)"
   ]
  },
  {
   "cell_type": "code",
   "execution_count": 11,
   "id": "d498ca7c-ff0a-4755-9210-6f7a4bf9c551",
   "metadata": {},
   "outputs": [],
   "source": [
    "sum=x+y"
   ]
  },
  {
   "cell_type": "code",
   "execution_count": 12,
   "id": "00a502eb-86a5-4e96-ba09-698806c45ac6",
   "metadata": {},
   "outputs": [],
   "source": [
    "sum=x+y"
   ]
  },
  {
   "cell_type": "code",
   "execution_count": null,
   "id": "bc68e716-0679-4718-96ca-abb70073c548",
   "metadata": {},
   "outputs": [],
   "source": []
  },
  {
   "cell_type": "code",
   "execution_count": 13,
   "id": "0293b283-686b-4888-9da5-f8b63faede2b",
   "metadata": {},
   "outputs": [],
   "source": [
    "dev=x/y"
   ]
  },
  {
   "cell_type": "code",
   "execution_count": 14,
   "id": "0ccb7190-7364-4cd4-bd94-9cba79c8f80e",
   "metadata": {},
   "outputs": [
    {
     "data": {
      "text/plain": [
       "float"
      ]
     },
     "execution_count": 14,
     "metadata": {},
     "output_type": "execute_result"
    }
   ],
   "source": [
    "type(dev)"
   ]
  },
  {
   "cell_type": "code",
   "execution_count": 15,
   "id": "c3988a55-b6e6-4231-acd2-3f9d8cb9e641",
   "metadata": {},
   "outputs": [
    {
     "name": "stdout",
     "output_type": "stream",
     "text": [
      "1.0\n"
     ]
    }
   ],
   "source": [
    "print(dev)"
   ]
  },
  {
   "cell_type": "code",
   "execution_count": 16,
   "id": "039ff01d-f932-41a5-8e48-b93c71f3229c",
   "metadata": {},
   "outputs": [
    {
     "data": {
      "text/plain": [
       "int"
      ]
     },
     "execution_count": 16,
     "metadata": {},
     "output_type": "execute_result"
    }
   ],
   "source": [
    "type(x*y)"
   ]
  },
  {
   "cell_type": "code",
   "execution_count": 6,
   "id": "c3bae1be-efa8-47ae-90d7-c92181eef5c4",
   "metadata": {},
   "outputs": [
    {
     "data": {
      "text/plain": [
       "float"
      ]
     },
     "execution_count": 6,
     "metadata": {},
     "output_type": "execute_result"
    }
   ],
   "source": [
    "type(x/y)"
   ]
  },
  {
   "cell_type": "code",
   "execution_count": 18,
   "id": "68d00235-5883-46b2-a691-77019e791815",
   "metadata": {},
   "outputs": [
    {
     "data": {
      "text/plain": [
       "int"
      ]
     },
     "execution_count": 18,
     "metadata": {},
     "output_type": "execute_result"
    }
   ],
   "source": [
    "type(x%y)"
   ]
  },
  {
   "cell_type": "code",
   "execution_count": 19,
   "id": "363642ad-b50a-4507-828b-9d6729e17f58",
   "metadata": {},
   "outputs": [],
   "source": [
    "x = True"
   ]
  },
  {
   "cell_type": "code",
   "execution_count": 20,
   "id": "9255018c-4d62-4f41-8a9c-2e9bf05231c4",
   "metadata": {},
   "outputs": [
    {
     "data": {
      "text/plain": [
       "bool"
      ]
     },
     "execution_count": 20,
     "metadata": {},
     "output_type": "execute_result"
    }
   ],
   "source": [
    "type(x)"
   ]
  },
  {
   "cell_type": "code",
   "execution_count": 21,
   "id": "96535334-e9ab-4bc1-aa59-9d471ae08c0a",
   "metadata": {},
   "outputs": [
    {
     "data": {
      "text/plain": [
       "140706654997056"
      ]
     },
     "execution_count": 21,
     "metadata": {},
     "output_type": "execute_result"
    }
   ],
   "source": [
    "id(x)"
   ]
  },
  {
   "cell_type": "code",
   "execution_count": 22,
   "id": "d002079a-a7b8-417d-83c2-76bacc702349",
   "metadata": {},
   "outputs": [
    {
     "data": {
      "text/plain": [
       "\u001b[1;31mSignature:\u001b[0m \u001b[0mid\u001b[0m\u001b[1;33m(\u001b[0m\u001b[0mobj\u001b[0m\u001b[1;33m,\u001b[0m \u001b[1;33m/\u001b[0m\u001b[1;33m)\u001b[0m\u001b[1;33m\u001b[0m\u001b[1;33m\u001b[0m\u001b[0m\n",
       "\u001b[1;31mDocstring:\u001b[0m\n",
       "Return the identity of an object.\n",
       "\n",
       "This is guaranteed to be unique among simultaneously existing objects.\n",
       "(CPython uses the object's memory address.)\n",
       "\u001b[1;31mType:\u001b[0m      builtin_function_or_method"
      ]
     },
     "metadata": {},
     "output_type": "display_data"
    }
   ],
   "source": [
    "id?"
   ]
  },
  {
   "cell_type": "code",
   "execution_count": 23,
   "id": "a0236460-879a-47aa-a2ae-710795a5a86e",
   "metadata": {},
   "outputs": [
    {
     "name": "stdout",
     "output_type": "stream",
     "text": [
      "Thia is my bag\n"
     ]
    }
   ],
   "source": [
    "print(\"Thia is my bag\")"
   ]
  },
  {
   "cell_type": "code",
   "execution_count": 24,
   "id": "dbe3d3ce-b4d0-4aa5-97ff-39e45f62846d",
   "metadata": {},
   "outputs": [
    {
     "name": "stdout",
     "output_type": "stream",
     "text": [
      "This is Shaina's bag\n"
     ]
    }
   ],
   "source": [
    "print('This is Shaina\\'s bag')"
   ]
  },
  {
   "cell_type": "code",
   "execution_count": null,
   "id": "8a8b1cb6-802a-4e6f-92a8-0bfafc29ba52",
   "metadata": {},
   "outputs": [],
   "source": [
    "x = int (input(\"Enter a number:\"))\n",
    "print(x+5)"
   ]
  },
  {
   "cell_type": "code",
   "execution_count": 98,
   "id": "dffc2180-822f-4911-bf03-03964f2be779",
   "metadata": {},
   "outputs": [
    {
     "name": "stdin",
     "output_type": "stream",
     "text": [
      "enter a number: 4\n",
      "enter another number: 9\n"
     ]
    },
    {
     "name": "stdout",
     "output_type": "stream",
     "text": [
      "sum of x and y: 13\n"
     ]
    }
   ],
   "source": [
    "x=int(input(\"enter a number:\"))\n",
    "y=int(input(\"enter another number:\"))\n",
    "print(\"sum of x and y:\",x+y)"
   ]
  },
  {
   "cell_type": "code",
   "execution_count": 97,
   "id": "c619988e-d762-43cf-8fe8-49fff66ea26e",
   "metadata": {},
   "outputs": [
    {
     "name": "stdout",
     "output_type": "stream",
     "text": [
      "10\n"
     ]
    }
   ],
   "source": [
    "print(x+5)"
   ]
  },
  {
   "cell_type": "code",
   "execution_count": null,
   "id": "5cb15c7a-5dbe-4f4d-ad33-22ebf16b08a9",
   "metadata": {},
   "outputs": [],
   "source": []
  }
 ],
 "metadata": {
  "kernelspec": {
   "display_name": "Python 3 (ipykernel)",
   "language": "python",
   "name": "python3"
  },
  "language_info": {
   "codemirror_mode": {
    "name": "ipython",
    "version": 3
   },
   "file_extension": ".py",
   "mimetype": "text/x-python",
   "name": "python",
   "nbconvert_exporter": "python",
   "pygments_lexer": "ipython3",
   "version": "3.11.7"
  }
 },
 "nbformat": 4,
 "nbformat_minor": 5
}
