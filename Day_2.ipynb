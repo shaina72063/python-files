{
 "cells": [
  {
   "cell_type": "code",
   "execution_count": 1,
   "id": "7710910f-5722-40ef-9e90-61eeeecde8e1",
   "metadata": {},
   "outputs": [],
   "source": [
    "a = 10"
   ]
  },
  {
   "cell_type": "code",
   "execution_count": 2,
   "id": "f37e567f-531b-44b6-b663-1a64e94b012d",
   "metadata": {},
   "outputs": [],
   "source": [
    "b= 5"
   ]
  },
  {
   "cell_type": "code",
   "execution_count": 3,
   "id": "da597a65-2006-4d70-a4d0-cadcc9a73a5d",
   "metadata": {},
   "outputs": [],
   "source": [
    "c= a/b"
   ]
  },
  {
   "cell_type": "code",
   "execution_count": 4,
   "id": "5e5988d9-1922-4a46-99e4-042b497b8845",
   "metadata": {},
   "outputs": [
    {
     "name": "stdout",
     "output_type": "stream",
     "text": [
      "2.0\n"
     ]
    }
   ],
   "source": [
    "print(c)"
   ]
  },
  {
   "cell_type": "code",
   "execution_count": 5,
   "id": "c3388110-8c7f-4491-b396-fc341cf491fa",
   "metadata": {},
   "outputs": [
    {
     "name": "stdout",
     "output_type": "stream",
     "text": [
      "2\n"
     ]
    }
   ],
   "source": [
    "d = a//b\n",
    "print(d)"
   ]
  },
  {
   "cell_type": "code",
   "execution_count": 6,
   "id": "e6dcbcfd-8415-4dc5-bcd3-21639c16ba81",
   "metadata": {},
   "outputs": [
    {
     "name": "stdout",
     "output_type": "stream",
     "text": [
      "8\n"
     ]
    }
   ],
   "source": [
    "print(2**3)"
   ]
  },
  {
   "cell_type": "code",
   "execution_count": 7,
   "id": "15f17d2e-2e93-4f47-9dbd-0c4d81255e1c",
   "metadata": {},
   "outputs": [
    {
     "name": "stdout",
     "output_type": "stream",
     "text": [
      "9\n"
     ]
    }
   ],
   "source": [
    "print(3**2)"
   ]
  },
  {
   "cell_type": "code",
   "execution_count": 8,
   "id": "0dae6989-4f61-41f3-a2c4-6a0c2a327fa7",
   "metadata": {},
   "outputs": [],
   "source": [
    "a= 20\n",
    "b =10\n",
    "c =15\n",
    "d=5\n",
    "e=2\n"
   ]
  },
  {
   "cell_type": "code",
   "execution_count": 9,
   "id": "f1bb6821-59b0-4f63-a8cd-3baa7255af1d",
   "metadata": {},
   "outputs": [
    {
     "name": "stdout",
     "output_type": "stream",
     "text": [
      "90.0\n"
     ]
    }
   ],
   "source": [
    "f = (a+b)*c/d\n",
    "print(f)"
   ]
  },
  {
   "cell_type": "code",
   "execution_count": 10,
   "id": "af8d200f-963f-43c4-b780-42214a9a55cf",
   "metadata": {},
   "outputs": [
    {
     "name": "stdout",
     "output_type": "stream",
     "text": [
      "48.0\n"
     ]
    }
   ],
   "source": [
    "g= a+(b*c)/d-e\n",
    "print(g)"
   ]
  },
  {
   "cell_type": "code",
   "execution_count": 11,
   "id": "4ca9aafd-fc3e-4a30-b3bf-f1551d07b638",
   "metadata": {},
   "outputs": [
    {
     "name": "stdout",
     "output_type": "stream",
     "text": [
      "2270\n"
     ]
    }
   ],
   "source": [
    "h = a+b*c**e\n",
    "print(h)"
   ]
  },
  {
   "cell_type": "markdown",
   "id": "89a4b95d-c8ae-4abe-adb5-cd66e13a6eac",
   "metadata": {},
   "source": [
    "# Multiple assignment"
   ]
  },
  {
   "cell_type": "code",
   "execution_count": 12,
   "id": "99752922-7bf3-4508-b755-07b5ff875aff",
   "metadata": {},
   "outputs": [],
   "source": [
    "a = b = c= 2"
   ]
  },
  {
   "cell_type": "code",
   "execution_count": 13,
   "id": "0f0c92de-b380-4625-9c91-75398581d7c2",
   "metadata": {},
   "outputs": [
    {
     "name": "stdout",
     "output_type": "stream",
     "text": [
      "2 2 2\n"
     ]
    }
   ],
   "source": [
    "print(a,b,c)"
   ]
  },
  {
   "cell_type": "code",
   "execution_count": 14,
   "id": "eb6cd3d9-5157-434c-aeed-2ddfae5e123a",
   "metadata": {},
   "outputs": [],
   "source": [
    "a,b,c=10,4.5,\"hello\""
   ]
  },
  {
   "cell_type": "code",
   "execution_count": 15,
   "id": "1e4ad7f6-973d-426c-8679-55d66896b350",
   "metadata": {},
   "outputs": [
    {
     "name": "stdout",
     "output_type": "stream",
     "text": [
      "10 4.5 hello\n"
     ]
    }
   ],
   "source": [
    "print(a,b,c)"
   ]
  },
  {
   "cell_type": "markdown",
   "id": "b6800056-3df0-4a47-9d76-bf87538a3211",
   "metadata": {},
   "source": [
    "# special use of + and *"
   ]
  },
  {
   "cell_type": "code",
   "execution_count": 16,
   "id": "141e4598-6663-41f3-b6d3-c2fee260f3ef",
   "metadata": {},
   "outputs": [
    {
     "name": "stdout",
     "output_type": "stream",
     "text": [
      "shaina hussain is here\n"
     ]
    }
   ],
   "source": [
    " x = \"shaina hussain\"\n",
    " y= \" is here\"\n",
    "print(x+y)"
   ]
  },
  {
   "cell_type": "code",
   "execution_count": 17,
   "id": "8823a90d-c425-4f4e-8608-f695b19e2565",
   "metadata": {},
   "outputs": [
    {
     "name": "stdout",
     "output_type": "stream",
     "text": [
      "it is  very very hot\n"
     ]
    }
   ],
   "source": [
    "print(\"it is \"+ 2* ' very' + ' hot')"
   ]
  },
  {
   "cell_type": "markdown",
   "id": "786b79d7-a67a-4c2b-87b0-880051de8dfc",
   "metadata": {},
   "source": [
    "# use of \\\" , \\n , \\t"
   ]
  },
  {
   "cell_type": "code",
   "execution_count": 18,
   "id": "cf66a62e-2e9f-4589-84d8-034f9a674c8f",
   "metadata": {},
   "outputs": [
    {
     "name": "stdout",
     "output_type": "stream",
     "text": [
      "my father says \"honesty is the best policy\" \n"
     ]
    }
   ],
   "source": [
    "print(\"my father says \\\"honesty is the best policy\\\" \")"
   ]
  },
  {
   "cell_type": "code",
   "execution_count": 19,
   "id": "f411d9b4-3504-45a1-b81e-454f35befeb3",
   "metadata": {},
   "outputs": [
    {
     "name": "stdout",
     "output_type": "stream",
     "text": [
      " this is rohan's dog\n"
     ]
    }
   ],
   "source": [
    "print(' this is rohan\\'s dog')"
   ]
  },
  {
   "cell_type": "code",
   "execution_count": 20,
   "id": "bdb4eddd-6ac9-4562-ae7e-b0f2d31c49c4",
   "metadata": {},
   "outputs": [
    {
     "name": "stdout",
     "output_type": "stream",
     "text": [
      "this is rohan's dog\n"
     ]
    }
   ],
   "source": [
    "print(\"this is rohan's dog\")"
   ]
  },
  {
   "cell_type": "code",
   "execution_count": 21,
   "id": "fc9c5e65-15e7-4e47-9c70-3756103f0a4e",
   "metadata": {},
   "outputs": [
    {
     "name": "stdout",
     "output_type": "stream",
     "text": [
      "a\t b\t\n"
     ]
    }
   ],
   "source": [
    "print(\"a\\t b\\t\")"
   ]
  },
  {
   "cell_type": "code",
   "execution_count": 22,
   "id": "bbc2dd81-995c-4707-8534-f776e82dea30",
   "metadata": {},
   "outputs": [
    {
     "name": "stdout",
     "output_type": "stream",
     "text": [
      "Summer\n",
      "Internship\n"
     ]
    }
   ],
   "source": [
    "print(\"Summer\\nInternship\")"
   ]
  },
  {
   "cell_type": "code",
   "execution_count": 23,
   "id": "15aaad17-fb85-4f88-a9c9-57d81a252673",
   "metadata": {},
   "outputs": [
    {
     "name": "stdout",
     "output_type": "stream",
     "text": [
      "Hi ! How are you\n"
     ]
    }
   ],
   "source": [
    "#This is single line comment\n",
    "print (\"Hi ! How are you\")"
   ]
  },
  {
   "cell_type": "code",
   "execution_count": 24,
   "id": "37ab06e3-b82f-44bd-bda2-3cea59f5360b",
   "metadata": {},
   "outputs": [
    {
     "name": "stdout",
     "output_type": "stream",
     "text": [
      "Geeta University\n"
     ]
    }
   ],
   "source": [
    "\"\"\" this is \n",
    "multi line\n",
    "comment\"\"\"\n",
    "print(\"Geeta University\")"
   ]
  },
  {
   "cell_type": "code",
   "execution_count": 25,
   "id": "3b3c9a8f-b8e7-4841-bbc4-21ddf647211c",
   "metadata": {},
   "outputs": [
    {
     "name": "stdout",
     "output_type": "stream",
     "text": [
      "hey girl\n"
     ]
    }
   ],
   "source": [
    "''' this is\n",
    "single cot multi \n",
    "comment'''\n",
    "print(\"hey girl\")"
   ]
  },
  {
   "cell_type": "markdown",
   "id": "cda1f390-4955-49cd-a9b1-025903c49c38",
   "metadata": {},
   "source": [
    "# id() and() function"
   ]
  },
  {
   "cell_type": "code",
   "execution_count": 26,
   "id": "4fbb091c-40e9-4604-8cd2-9517df5f2730",
   "metadata": {},
   "outputs": [],
   "source": [
    "a = 9\n",
    "b = 34\n",
    "c = \"s\"\n"
   ]
  },
  {
   "cell_type": "code",
   "execution_count": 27,
   "id": "0ad24bc0-4089-4102-ba6d-0691fd427884",
   "metadata": {},
   "outputs": [
    {
     "data": {
      "text/plain": [
       "140706656470056"
      ]
     },
     "execution_count": 27,
     "metadata": {},
     "output_type": "execute_result"
    }
   ],
   "source": [
    "id(a)"
   ]
  },
  {
   "cell_type": "code",
   "execution_count": 28,
   "id": "1b5e966b-bc4e-415a-b7f4-466f188d89e5",
   "metadata": {},
   "outputs": [
    {
     "data": {
      "text/plain": [
       "140706656470856"
      ]
     },
     "execution_count": 28,
     "metadata": {},
     "output_type": "execute_result"
    }
   ],
   "source": [
    "id(b)"
   ]
  },
  {
   "cell_type": "code",
   "execution_count": 29,
   "id": "2c20870e-dc60-43fb-8830-ae857d9d49b6",
   "metadata": {},
   "outputs": [
    {
     "data": {
      "text/plain": [
       "115"
      ]
     },
     "execution_count": 29,
     "metadata": {},
     "output_type": "execute_result"
    }
   ],
   "source": [
    "ord(c)"
   ]
  },
  {
   "cell_type": "code",
   "execution_count": 30,
   "id": "30b6a39e-27a7-421a-a43a-84bbeb5fdba7",
   "metadata": {},
   "outputs": [
    {
     "data": {
      "text/plain": [
       "'C'"
      ]
     },
     "execution_count": 30,
     "metadata": {},
     "output_type": "execute_result"
    }
   ],
   "source": [
    "chr(67)"
   ]
  },
  {
   "cell_type": "code",
   "execution_count": 31,
   "id": "cd60a0e9-e444-461b-a8e9-ed560a640f8e",
   "metadata": {},
   "outputs": [
    {
     "data": {
      "text/plain": [
       "100"
      ]
     },
     "execution_count": 31,
     "metadata": {},
     "output_type": "execute_result"
    }
   ],
   "source": [
    "ord('d')"
   ]
  },
  {
   "cell_type": "markdown",
   "id": "6d64c4d6-117c-45c3-891a-b1b7e9c0c598",
   "metadata": {},
   "source": [
    "# Control Flow Structure"
   ]
  },
  {
   "cell_type": "markdown",
   "id": "120cc3b2-df0c-48f2-af4c-310fa6a820d6",
   "metadata": {},
   "source": [
    "# indentation\n"
   ]
  },
  {
   "cell_type": "code",
   "execution_count": 32,
   "id": "f18f5426-109a-4097-a221-8ab4b4401373",
   "metadata": {},
   "outputs": [
    {
     "name": "stdin",
     "output_type": "stream",
     "text": [
      "enter a number: 4\n"
     ]
    },
    {
     "name": "stdout",
     "output_type": "stream",
     "text": [
      "even number\n"
     ]
    }
   ],
   "source": [
    " a= int (input(\"enter a number:\"))\n",
    "if a%2==0 :\n",
    "    print(\"even number\")\n",
    "else:\n",
    "    print(\"odd number\")"
   ]
  },
  {
   "cell_type": "markdown",
   "id": "6465353e-57bb-403d-8143-dc2abe682cd4",
   "metadata": {},
   "source": [
    "# Nested if statement"
   ]
  },
  {
   "cell_type": "code",
   "execution_count": null,
   "id": "ec08ca86-803b-4359-be0d-4ee4aacb4377",
   "metadata": {},
   "outputs": [],
   "source": [
    "citizen = input(\"Are you citizen of India Press y or n\")\n",
    "age = int (input(\"Your age:\"))\n",
    "if citizen == 'y':\n",
    "    if age>=18:\n",
    "        print(\"you can cast vote\")\n",
    "    else:\n",
    "        print(\"you can not cast vote\")\n",
    "else:\n",
    "    print(\"you are not the citizen of india\")\n",
    "\n",
    "\n"
   ]
  },
  {
   "cell_type": "markdown",
   "id": "19b19f0a-4525-44d2-afc4-07630ddf0943",
   "metadata": {},
   "source": [
    "year=int(input(\"Enter the year:\"))\n",
    "if year%4==0:\n",
    "    if year%100==0:\n",
    "        if year%400==0:\n",
    "            print(\"Leap year\")\n",
    "        else:\n",
    "            print(\"Not a Leap year\")\n",
    "    else:\n",
    "        print(\"Leap year\")\n",
    "else:\n",
    "   print(\"Not a leap year\")\n",
    "    \n",
    "        "
   ]
  },
  {
   "cell_type": "markdown",
   "id": "4740a7ec-4c87-404f-a165-8c0306e332e2",
   "metadata": {},
   "source": [
    "# if elif statement"
   ]
  },
  {
   "cell_type": "code",
   "execution_count": 81,
   "id": "39d9df77-c465-4ee6-9985-4a8a218b5da9",
   "metadata": {},
   "outputs": [
    {
     "name": "stdin",
     "output_type": "stream",
     "text": [
      "Enter a number: 67\n"
     ]
    },
    {
     "name": "stdout",
     "output_type": "stream",
     "text": [
      "positive number\n"
     ]
    }
   ],
   "source": [
    "num = int (input(\"Enter a number:\"))\n",
    "if num>0:\n",
    "    print(\"positive number\")\n",
    "elif num == 0:\n",
    "     print(\"number is 0\")\n",
    "else:\n",
    "    print(\"negative number\")"
   ]
  },
  {
   "cell_type": "code",
   "execution_count": 88,
   "id": "35d69078-2a64-42f2-90cd-a3bd215dcf5f",
   "metadata": {},
   "outputs": [
    {
     "name": "stdin",
     "output_type": "stream",
     "text": [
      "enter marks: -19\n"
     ]
    },
    {
     "name": "stdout",
     "output_type": "stream",
     "text": [
      "Invalid marks\n"
     ]
    }
   ],
   "source": [
    "marks = int(input(\"enter marks:\"))\n",
    "if marks >= 90 and marks <=100:\n",
    "    print(\"A\")\n",
    "elif marks >= 80 and marks <90:\n",
    "    print(\"B\")\n",
    "elif marks >= 70 and marks <80:\n",
    "    print(\"C\")\n",
    "elif marks >= 60 and marks <70:\n",
    "    print(\"D\")\n",
    "elif marks <60 and marks >0:\n",
    "    print(\"E\")\n",
    "else:\n",
    "    print(\"Invalid marks\")\n",
    "    \n",
    "    \n"
   ]
  },
  {
   "cell_type": "code",
   "execution_count": null,
   "id": "25afb0b8-881c-4e30-a9ee-d7c13be03296",
   "metadata": {},
   "outputs": [],
   "source": []
  }
 ],
 "metadata": {
  "kernelspec": {
   "display_name": "Python 3 (ipykernel)",
   "language": "python",
   "name": "python3"
  },
  "language_info": {
   "codemirror_mode": {
    "name": "ipython",
    "version": 3
   },
   "file_extension": ".py",
   "mimetype": "text/x-python",
   "name": "python",
   "nbconvert_exporter": "python",
   "pygments_lexer": "ipython3",
   "version": "3.11.7"
  }
 },
 "nbformat": 4,
 "nbformat_minor": 5
}
