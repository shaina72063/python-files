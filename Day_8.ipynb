{
 "cells": [
  {
   "cell_type": "markdown",
   "id": "393eddec-49a3-4e0f-a612-bbb1c490d221",
   "metadata": {},
   "source": [
    "# File Handling"
   ]
  },
  {
   "cell_type": "code",
   "execution_count": 1,
   "id": "34945592-0edb-4057-af4c-ea2e461e6b37",
   "metadata": {},
   "outputs": [],
   "source": [
    "# File handling is important for any web application . It is used to read and write data in a file"
   ]
  },
  {
   "cell_type": "code",
   "execution_count": 2,
   "id": "0ecf15a7-0a6b-4819-9932-33b8cca88fb4",
   "metadata": {},
   "outputs": [],
   "source": [
    "# Opening a file - open() function is used to open a file. \n",
    "# It takes two parameters - \"name of file\" and mode"
   ]
  },
  {
   "cell_type": "code",
   "execution_count": 3,
   "id": "f3061d2c-2cbc-4c9a-ac07-4719e1206b95",
   "metadata": {},
   "outputs": [],
   "source": [
    "f = open(\"day_8.txt\",\"w\")"
   ]
  },
  {
   "cell_type": "code",
   "execution_count": 4,
   "id": "0133c151-dea8-4d26-aeac-0577fd7f3381",
   "metadata": {},
   "outputs": [
    {
     "data": {
      "text/plain": [
       "42"
      ]
     },
     "execution_count": 4,
     "metadata": {},
     "output_type": "execute_result"
    }
   ],
   "source": [
    "f.write(\"Hi! I am doing summer internship of python\")"
   ]
  },
  {
   "cell_type": "code",
   "execution_count": 5,
   "id": "4ca6be0d-f886-4366-8fc9-2f1118a4b3f4",
   "metadata": {},
   "outputs": [],
   "source": [
    "f.close()"
   ]
  },
  {
   "cell_type": "code",
   "execution_count": 6,
   "id": "f0ff0ab0-8fc2-436a-99f1-6c1678a026f8",
   "metadata": {},
   "outputs": [
    {
     "data": {
      "text/plain": [
       "True"
      ]
     },
     "execution_count": 6,
     "metadata": {},
     "output_type": "execute_result"
    }
   ],
   "source": [
    "f.closed"
   ]
  },
  {
   "cell_type": "code",
   "execution_count": 7,
   "id": "1f44913c-d26c-4496-accb-3ff4c95444ba",
   "metadata": {},
   "outputs": [],
   "source": [
    "f = open(\"Day_8.txt\",\"r\")"
   ]
  },
  {
   "cell_type": "code",
   "execution_count": 8,
   "id": "89fd5c30-3cbf-482b-8828-f12ad55479a9",
   "metadata": {},
   "outputs": [],
   "source": [
    "data = f.read()"
   ]
  },
  {
   "cell_type": "code",
   "execution_count": 9,
   "id": "78033f5a-cbd7-4d6f-8216-72fce4301b12",
   "metadata": {},
   "outputs": [
    {
     "name": "stdout",
     "output_type": "stream",
     "text": [
      "Hi! I am doing summer internship of python\n"
     ]
    }
   ],
   "source": [
    "print(data)"
   ]
  },
  {
   "cell_type": "code",
   "execution_count": 10,
   "id": "5fed6c9e-f6b2-4b7a-9be4-3b0711484714",
   "metadata": {},
   "outputs": [],
   "source": [
    "f.close()"
   ]
  },
  {
   "cell_type": "code",
   "execution_count": 11,
   "id": "28d761aa-b679-4f51-b168-db354e71a894",
   "metadata": {},
   "outputs": [
    {
     "name": "stdout",
     "output_type": "stream",
     "text": [
      "Hi! I am doing summer internship of python\n"
     ]
    }
   ],
   "source": [
    "with open(\"day_8.txt\",\"r\") as f:\n",
    "    print(f.read())"
   ]
  },
  {
   "cell_type": "code",
   "execution_count": 12,
   "id": "acf788c3-2e27-444d-833f-076ff2ca3262",
   "metadata": {},
   "outputs": [
    {
     "data": {
      "text/plain": [
       "True"
      ]
     },
     "execution_count": 12,
     "metadata": {},
     "output_type": "execute_result"
    }
   ],
   "source": [
    "f.closed"
   ]
  },
  {
   "cell_type": "code",
   "execution_count": 16,
   "id": "c28e68a3-ac4e-4e89-8236-9293de049b37",
   "metadata": {},
   "outputs": [],
   "source": [
    "with open(\"day_8.txt\",\"a\") as f:\n",
    "    f.write(\" WWWWWWWOOOOOOOOOOWWWWWWWWWWWWW\")"
   ]
  },
  {
   "cell_type": "code",
   "execution_count": 18,
   "id": "5b95b4cd-938d-410d-9fd5-0825a373a556",
   "metadata": {},
   "outputs": [
    {
     "name": "stdout",
     "output_type": "stream",
     "text": [
      "Hi! I am doing summer internship of pythonWOWWWWWWWWWWWWWWWWWWWWOOOOOOOOOOWWWWWWWWWWWWW WWWWWWWOOOOOOOOOOWWWWWWWWWWWWW\n"
     ]
    }
   ],
   "source": [
    "with open(\"day_8.txt\") as f:\n",
    "    print(f.read())"
   ]
  },
  {
   "cell_type": "code",
   "execution_count": 19,
   "id": "888471df-dd9b-4992-80a0-c0f10e7aab35",
   "metadata": {},
   "outputs": [],
   "source": [
    "# openning a file from a specific location"
   ]
  },
  {
   "cell_type": "code",
   "execution_count": 23,
   "id": "74473ab9-768e-46bf-b1d2-12495ba5e00a",
   "metadata": {},
   "outputs": [
    {
     "name": "stdout",
     "output_type": "stream",
     "text": [
      "HI SHAINA ! HOW ARE YOU\n"
     ]
    }
   ],
   "source": [
    "with open(\"C:\\\\Users\\\\Shaina Hussain\\\\OneDrive\\\\Documents\\\\Python Scripts\\\\greeting.txt\") as f:\n",
    "    print(f.read())"
   ]
  },
  {
   "cell_type": "code",
   "execution_count": 24,
   "id": "d8c9d185-53ce-44f0-a8f3-b47ea37acb1e",
   "metadata": {},
   "outputs": [],
   "source": [
    "# creating a file in a specific location"
   ]
  },
  {
   "cell_type": "code",
   "execution_count": 28,
   "id": "01cc6344-7344-4bb2-a7b7-d4b0388b7dca",
   "metadata": {},
   "outputs": [],
   "source": [
    "with open(\"C:\\\\Users\\\\Shaina Hussain\\\\OneDrive\\\\Documents\\\\Python Scripts\\\\welcome.txt\",\"w\") as f:\n",
    "    f.write(\"Welcome in Geeta university\")"
   ]
  },
  {
   "cell_type": "code",
   "execution_count": 30,
   "id": "078ed4ba-25ca-4d6f-90c6-36bb040cc2ac",
   "metadata": {},
   "outputs": [
    {
     "name": "stdout",
     "output_type": "stream",
     "text": [
      "Welcome in Geeta university------------------\n"
     ]
    }
   ],
   "source": [
    "with open(\"C:\\\\Users\\\\Shaina Hussain\\\\OneDrive\\\\Documents\\\\Python Scripts\\\\welcome.txt\") as f:\n",
    "    print(f.read())"
   ]
  },
  {
   "cell_type": "code",
   "execution_count": 44,
   "id": "687f5068-c56d-4103-98df-c3c147415115",
   "metadata": {},
   "outputs": [
    {
     "name": "stdout",
     "output_type": "stream",
     "text": [
      "[\"Upon the crest of night's ethereal wing,\\n\"]\n"
     ]
    }
   ],
   "source": [
    "with open(\"C:\\\\Users\\\\Shaina Hussain\\\\OneDrive\\\\Documents\\\\Python Scripts\\\\welcome.txt\") as f:\n",
    "    print(f.readlines(5))"
   ]
  },
  {
   "cell_type": "code",
   "execution_count": 40,
   "id": "5f677c25-94ea-4f5b-ba12-d24de59daff5",
   "metadata": {},
   "outputs": [
    {
     "data": {
      "text/plain": [
       "'mode of file - \"r\" - read only\\n                \"rt\" - read text\\n                \"w\" - open the file in write mode and write the text. if text is already written in file. it over write on it.\\n                \"a\"- append'"
      ]
     },
     "execution_count": 40,
     "metadata": {},
     "output_type": "execute_result"
    }
   ],
   "source": [
    "'''mode of file - \"r\" - read only\n",
    "                \"rt\" - read text\n",
    "                \"w\" - open the file in write mode and write the text. if text is already written in file. it over write on it.\n",
    "                \"a\"- append'''"
   ]
  },
  {
   "cell_type": "code",
   "execution_count": null,
   "id": "4666cd0b-3e95-4d97-8a57-fd3f6e396332",
   "metadata": {},
   "outputs": [],
   "source": []
  }
 ],
 "metadata": {
  "kernelspec": {
   "display_name": "Python 3 (ipykernel)",
   "language": "python",
   "name": "python3"
  },
  "language_info": {
   "codemirror_mode": {
    "name": "ipython",
    "version": 3
   },
   "file_extension": ".py",
   "mimetype": "text/x-python",
   "name": "python",
   "nbconvert_exporter": "python",
   "pygments_lexer": "ipython3",
   "version": "3.11.7"
  }
 },
 "nbformat": 4,
 "nbformat_minor": 5
}
