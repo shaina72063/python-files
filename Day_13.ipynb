{
 "cells": [
  {
   "cell_type": "markdown",
   "id": "0e4789da-b6ab-42eb-abec-2735a50a02b9",
   "metadata": {},
   "source": [
    "# Pandas"
   ]
  },
  {
   "cell_type": "markdown",
   "id": "1cf77f29-5794-4d4a-9875-c586e7de0da0",
   "metadata": {},
   "source": [
    "#*Pandas is a python library used for manipulation of data sets. It has functions for data analysis , manipulation and visulization*"
   ]
  },
  {
   "cell_type": "code",
   "execution_count": 39,
   "id": "d60863c2-9c81-4cb0-909a-3cb6cb8f101c",
   "metadata": {},
   "outputs": [],
   "source": [
    "import pandas as pd\n",
    "import numpy as np\n",
    "import random"
   ]
  },
  {
   "cell_type": "code",
   "execution_count": 40,
   "id": "ee730a4b-94e1-4aa0-8c1c-834dffa89825",
   "metadata": {},
   "outputs": [
    {
     "data": {
      "text/plain": [
       "x    10\n",
       "y    20\n",
       "z    30\n",
       "dtype: int64"
      ]
     },
     "execution_count": 40,
     "metadata": {},
     "output_type": "execute_result"
    }
   ],
   "source": [
    "se1 = pd.Series([10,20,30],index = ['x','y','z'])\n",
    "se1"
   ]
  },
  {
   "cell_type": "code",
   "execution_count": 41,
   "id": "dd95440e-24d9-422b-b940-75af0b2c9757",
   "metadata": {},
   "outputs": [
    {
     "data": {
      "text/plain": [
       "pandas.core.series.Series"
      ]
     },
     "execution_count": 41,
     "metadata": {},
     "output_type": "execute_result"
    }
   ],
   "source": [
    "type(se1)"
   ]
  },
  {
   "cell_type": "markdown",
   "id": "c1069fc4-d81a-4b76-946e-f0a580272761",
   "metadata": {},
   "source": [
    "# DataFrame "
   ]
  },
  {
   "cell_type": "markdown",
   "id": "e7955054-be09-4235-99e9-b1060641abc4",
   "metadata": {},
   "source": [
    "#*dataframe is a data structure that store the data in two dimensional form*"
   ]
  },
  {
   "cell_type": "code",
   "execution_count": 42,
   "id": "979da204-cac2-4c5f-8619-b80298b2d19e",
   "metadata": {},
   "outputs": [
    {
     "data": {
      "text/plain": [
       "pandas.core.frame.DataFrame"
      ]
     },
     "execution_count": 42,
     "metadata": {},
     "output_type": "execute_result"
    }
   ],
   "source": [
    "pd.DataFrame"
   ]
  },
  {
   "cell_type": "code",
   "execution_count": 43,
   "id": "08961fa6-43a4-4191-a610-eae19d22c20d",
   "metadata": {},
   "outputs": [
    {
     "name": "stdout",
     "output_type": "stream",
     "text": [
      "[61 62 63 64 65 66 67 68 69 70 71 72 73 74 75 76 77 78 79 80 81 82 83 84\n",
      " 85 86 87 88 89 90]\n"
     ]
    }
   ],
   "source": [
    "marks = np.arange(61,91)\n",
    "print(marks)"
   ]
  },
  {
   "cell_type": "code",
   "execution_count": 52,
   "id": "68553fe7-47dc-413c-b7a5-3e54106a36da",
   "metadata": {},
   "outputs": [
    {
     "name": "stdout",
     "output_type": "stream",
     "text": [
      "[[62 88 64 66 69]\n",
      " [90 74 75 79 78]\n",
      " [76 67 86 63 61]\n",
      " [72 65 87 71 80]\n",
      " [83 85 73 84 82]\n",
      " [77 81 68 89 70]]\n"
     ]
    }
   ],
   "source": [
    "marks = np.arange(61,91)\n",
    "shuffle(marks)\n",
    "marks = marks.reshape(6,5)\n",
    "print(marks)"
   ]
  },
  {
   "cell_type": "code",
   "execution_count": 53,
   "id": "638ad5ba-181e-4240-9d35-92998b609020",
   "metadata": {},
   "outputs": [],
   "source": [
    "name = ['shaina','yogita','divya','aditya','tanishq','harsh']\n",
    "subject = ['hindi','english','physics','maths','bio']\n"
   ]
  },
  {
   "cell_type": "code",
   "execution_count": 59,
   "id": "c9fb99de-53cd-4f85-9bd7-3947ce87d25b",
   "metadata": {},
   "outputs": [
    {
     "data": {
      "text/html": [
       "<div>\n",
       "<style scoped>\n",
       "    .dataframe tbody tr th:only-of-type {\n",
       "        vertical-align: middle;\n",
       "    }\n",
       "\n",
       "    .dataframe tbody tr th {\n",
       "        vertical-align: top;\n",
       "    }\n",
       "\n",
       "    .dataframe thead th {\n",
       "        text-align: right;\n",
       "    }\n",
       "</style>\n",
       "<table border=\"1\" class=\"dataframe\">\n",
       "  <thead>\n",
       "    <tr style=\"text-align: right;\">\n",
       "      <th></th>\n",
       "      <th>hindi</th>\n",
       "      <th>english</th>\n",
       "      <th>physics</th>\n",
       "      <th>maths</th>\n",
       "      <th>bio</th>\n",
       "    </tr>\n",
       "  </thead>\n",
       "  <tbody>\n",
       "    <tr>\n",
       "      <th>shaina</th>\n",
       "      <td>62</td>\n",
       "      <td>88</td>\n",
       "      <td>64</td>\n",
       "      <td>66</td>\n",
       "      <td>69</td>\n",
       "    </tr>\n",
       "    <tr>\n",
       "      <th>yogita</th>\n",
       "      <td>90</td>\n",
       "      <td>74</td>\n",
       "      <td>75</td>\n",
       "      <td>79</td>\n",
       "      <td>78</td>\n",
       "    </tr>\n",
       "    <tr>\n",
       "      <th>divya</th>\n",
       "      <td>76</td>\n",
       "      <td>67</td>\n",
       "      <td>86</td>\n",
       "      <td>63</td>\n",
       "      <td>61</td>\n",
       "    </tr>\n",
       "    <tr>\n",
       "      <th>aditya</th>\n",
       "      <td>72</td>\n",
       "      <td>65</td>\n",
       "      <td>87</td>\n",
       "      <td>71</td>\n",
       "      <td>80</td>\n",
       "    </tr>\n",
       "    <tr>\n",
       "      <th>tanishq</th>\n",
       "      <td>83</td>\n",
       "      <td>85</td>\n",
       "      <td>73</td>\n",
       "      <td>84</td>\n",
       "      <td>82</td>\n",
       "    </tr>\n",
       "    <tr>\n",
       "      <th>harsh</th>\n",
       "      <td>77</td>\n",
       "      <td>81</td>\n",
       "      <td>68</td>\n",
       "      <td>89</td>\n",
       "      <td>70</td>\n",
       "    </tr>\n",
       "  </tbody>\n",
       "</table>\n",
       "</div>"
      ],
      "text/plain": [
       "         hindi  english  physics  maths  bio\n",
       "shaina      62       88       64     66   69\n",
       "yogita      90       74       75     79   78\n",
       "divya       76       67       86     63   61\n",
       "aditya      72       65       87     71   80\n",
       "tanishq     83       85       73     84   82\n",
       "harsh       77       81       68     89   70"
      ]
     },
     "execution_count": 59,
     "metadata": {},
     "output_type": "execute_result"
    }
   ],
   "source": [
    "grade = pd.DataFrame(data = marks,index = name,columns = subject)\n",
    "grade"
   ]
  },
  {
   "cell_type": "code",
   "execution_count": 58,
   "id": "e86d2c38-7397-41fb-9c3e-7e1dd4480cd2",
   "metadata": {},
   "outputs": [
    {
     "data": {
      "text/html": [
       "<div>\n",
       "<style scoped>\n",
       "    .dataframe tbody tr th:only-of-type {\n",
       "        vertical-align: middle;\n",
       "    }\n",
       "\n",
       "    .dataframe tbody tr th {\n",
       "        vertical-align: top;\n",
       "    }\n",
       "\n",
       "    .dataframe thead th {\n",
       "        text-align: right;\n",
       "    }\n",
       "</style>\n",
       "<table border=\"1\" class=\"dataframe\">\n",
       "  <thead>\n",
       "    <tr style=\"text-align: right;\">\n",
       "      <th></th>\n",
       "      <th>hindi</th>\n",
       "      <th>english</th>\n",
       "      <th>physics</th>\n",
       "      <th>maths</th>\n",
       "      <th>bio</th>\n",
       "    </tr>\n",
       "  </thead>\n",
       "  <tbody>\n",
       "    <tr>\n",
       "      <th>shaina</th>\n",
       "      <td>62</td>\n",
       "      <td>88</td>\n",
       "      <td>64</td>\n",
       "      <td>66</td>\n",
       "      <td>69</td>\n",
       "    </tr>\n",
       "    <tr>\n",
       "      <th>yogita</th>\n",
       "      <td>90</td>\n",
       "      <td>74</td>\n",
       "      <td>75</td>\n",
       "      <td>79</td>\n",
       "      <td>78</td>\n",
       "    </tr>\n",
       "  </tbody>\n",
       "</table>\n",
       "</div>"
      ],
      "text/plain": [
       "        hindi  english  physics  maths  bio\n",
       "shaina     62       88       64     66   69\n",
       "yogita     90       74       75     79   78"
      ]
     },
     "execution_count": 58,
     "metadata": {},
     "output_type": "execute_result"
    }
   ],
   "source": [
    "grade.head(2)"
   ]
  },
  {
   "cell_type": "code",
   "execution_count": 57,
   "id": "ff7ba58d-163e-4c49-b656-f25d98c7a3e7",
   "metadata": {},
   "outputs": [
    {
     "data": {
      "text/html": [
       "<div>\n",
       "<style scoped>\n",
       "    .dataframe tbody tr th:only-of-type {\n",
       "        vertical-align: middle;\n",
       "    }\n",
       "\n",
       "    .dataframe tbody tr th {\n",
       "        vertical-align: top;\n",
       "    }\n",
       "\n",
       "    .dataframe thead th {\n",
       "        text-align: right;\n",
       "    }\n",
       "</style>\n",
       "<table border=\"1\" class=\"dataframe\">\n",
       "  <thead>\n",
       "    <tr style=\"text-align: right;\">\n",
       "      <th></th>\n",
       "      <th>hindi</th>\n",
       "      <th>english</th>\n",
       "      <th>physics</th>\n",
       "      <th>maths</th>\n",
       "      <th>bio</th>\n",
       "    </tr>\n",
       "  </thead>\n",
       "  <tbody>\n",
       "    <tr>\n",
       "      <th>tanishq</th>\n",
       "      <td>83</td>\n",
       "      <td>85</td>\n",
       "      <td>73</td>\n",
       "      <td>84</td>\n",
       "      <td>82</td>\n",
       "    </tr>\n",
       "    <tr>\n",
       "      <th>harsh</th>\n",
       "      <td>77</td>\n",
       "      <td>81</td>\n",
       "      <td>68</td>\n",
       "      <td>89</td>\n",
       "      <td>70</td>\n",
       "    </tr>\n",
       "  </tbody>\n",
       "</table>\n",
       "</div>"
      ],
      "text/plain": [
       "         hindi  english  physics  maths  bio\n",
       "tanishq     83       85       73     84   82\n",
       "harsh       77       81       68     89   70"
      ]
     },
     "execution_count": 57,
     "metadata": {},
     "output_type": "execute_result"
    }
   ],
   "source": [
    "grade.tail(2)"
   ]
  },
  {
   "cell_type": "code",
   "execution_count": 60,
   "id": "e3e832f0-7f2f-452c-a342-76f86de9967c",
   "metadata": {},
   "outputs": [
    {
     "name": "stdout",
     "output_type": "stream",
     "text": [
      "<class 'pandas.core.frame.DataFrame'>\n",
      "Index: 6 entries, shaina to harsh\n",
      "Data columns (total 5 columns):\n",
      " #   Column   Non-Null Count  Dtype\n",
      "---  ------   --------------  -----\n",
      " 0   hindi    6 non-null      int32\n",
      " 1   english  6 non-null      int32\n",
      " 2   physics  6 non-null      int32\n",
      " 3   maths    6 non-null      int32\n",
      " 4   bio      6 non-null      int32\n",
      "dtypes: int32(5)\n",
      "memory usage: 168.0+ bytes\n"
     ]
    }
   ],
   "source": [
    "grade.info()"
   ]
  },
  {
   "cell_type": "code",
   "execution_count": 61,
   "id": "4db04c44-eae3-4595-8270-2dab927fbe3c",
   "metadata": {},
   "outputs": [
    {
     "data": {
      "text/html": [
       "<div>\n",
       "<style scoped>\n",
       "    .dataframe tbody tr th:only-of-type {\n",
       "        vertical-align: middle;\n",
       "    }\n",
       "\n",
       "    .dataframe tbody tr th {\n",
       "        vertical-align: top;\n",
       "    }\n",
       "\n",
       "    .dataframe thead th {\n",
       "        text-align: right;\n",
       "    }\n",
       "</style>\n",
       "<table border=\"1\" class=\"dataframe\">\n",
       "  <thead>\n",
       "    <tr style=\"text-align: right;\">\n",
       "      <th></th>\n",
       "      <th>hindi</th>\n",
       "      <th>english</th>\n",
       "      <th>physics</th>\n",
       "      <th>maths</th>\n",
       "      <th>bio</th>\n",
       "    </tr>\n",
       "  </thead>\n",
       "  <tbody>\n",
       "    <tr>\n",
       "      <th>count</th>\n",
       "      <td>6.000000</td>\n",
       "      <td>6.000000</td>\n",
       "      <td>6.000000</td>\n",
       "      <td>6.000000</td>\n",
       "      <td>6.000000</td>\n",
       "    </tr>\n",
       "    <tr>\n",
       "      <th>mean</th>\n",
       "      <td>76.666667</td>\n",
       "      <td>76.666667</td>\n",
       "      <td>75.500000</td>\n",
       "      <td>75.333333</td>\n",
       "      <td>73.333333</td>\n",
       "    </tr>\n",
       "    <tr>\n",
       "      <th>std</th>\n",
       "      <td>9.542886</td>\n",
       "      <td>9.521905</td>\n",
       "      <td>9.354143</td>\n",
       "      <td>10.327956</td>\n",
       "      <td>8.041559</td>\n",
       "    </tr>\n",
       "    <tr>\n",
       "      <th>min</th>\n",
       "      <td>62.000000</td>\n",
       "      <td>65.000000</td>\n",
       "      <td>64.000000</td>\n",
       "      <td>63.000000</td>\n",
       "      <td>61.000000</td>\n",
       "    </tr>\n",
       "    <tr>\n",
       "      <th>25%</th>\n",
       "      <td>73.000000</td>\n",
       "      <td>68.750000</td>\n",
       "      <td>69.250000</td>\n",
       "      <td>67.250000</td>\n",
       "      <td>69.250000</td>\n",
       "    </tr>\n",
       "    <tr>\n",
       "      <th>50%</th>\n",
       "      <td>76.500000</td>\n",
       "      <td>77.500000</td>\n",
       "      <td>74.000000</td>\n",
       "      <td>75.000000</td>\n",
       "      <td>74.000000</td>\n",
       "    </tr>\n",
       "    <tr>\n",
       "      <th>75%</th>\n",
       "      <td>81.500000</td>\n",
       "      <td>84.000000</td>\n",
       "      <td>83.250000</td>\n",
       "      <td>82.750000</td>\n",
       "      <td>79.500000</td>\n",
       "    </tr>\n",
       "    <tr>\n",
       "      <th>max</th>\n",
       "      <td>90.000000</td>\n",
       "      <td>88.000000</td>\n",
       "      <td>87.000000</td>\n",
       "      <td>89.000000</td>\n",
       "      <td>82.000000</td>\n",
       "    </tr>\n",
       "  </tbody>\n",
       "</table>\n",
       "</div>"
      ],
      "text/plain": [
       "           hindi    english    physics      maths        bio\n",
       "count   6.000000   6.000000   6.000000   6.000000   6.000000\n",
       "mean   76.666667  76.666667  75.500000  75.333333  73.333333\n",
       "std     9.542886   9.521905   9.354143  10.327956   8.041559\n",
       "min    62.000000  65.000000  64.000000  63.000000  61.000000\n",
       "25%    73.000000  68.750000  69.250000  67.250000  69.250000\n",
       "50%    76.500000  77.500000  74.000000  75.000000  74.000000\n",
       "75%    81.500000  84.000000  83.250000  82.750000  79.500000\n",
       "max    90.000000  88.000000  87.000000  89.000000  82.000000"
      ]
     },
     "execution_count": 61,
     "metadata": {},
     "output_type": "execute_result"
    }
   ],
   "source": [
    "grade.describe()"
   ]
  },
  {
   "cell_type": "markdown",
   "id": "64367cf9-0ed6-4030-a84d-8c4d02cced24",
   "metadata": {},
   "source": [
    "#*creating dataframe using dictionary*"
   ]
  },
  {
   "cell_type": "code",
   "execution_count": 62,
   "id": "3183b035-9d7f-4251-ac81-257519855e28",
   "metadata": {},
   "outputs": [],
   "source": [
    "dict = {\n",
    "    'Name':['Shaina','Tanni','Nonu','Nitin'],\n",
    "    'Roll_no':[1001,1002,1003,1004],\n",
    "    'Age':[14,15,17,13]\n",
    "}"
   ]
  },
  {
   "cell_type": "code",
   "execution_count": 65,
   "id": "2ad04f15-6829-4231-9d2b-a5d860a3f403",
   "metadata": {},
   "outputs": [
    {
     "data": {
      "text/html": [
       "<div>\n",
       "<style scoped>\n",
       "    .dataframe tbody tr th:only-of-type {\n",
       "        vertical-align: middle;\n",
       "    }\n",
       "\n",
       "    .dataframe tbody tr th {\n",
       "        vertical-align: top;\n",
       "    }\n",
       "\n",
       "    .dataframe thead th {\n",
       "        text-align: right;\n",
       "    }\n",
       "</style>\n",
       "<table border=\"1\" class=\"dataframe\">\n",
       "  <thead>\n",
       "    <tr style=\"text-align: right;\">\n",
       "      <th></th>\n",
       "      <th>Name</th>\n",
       "      <th>Roll_no</th>\n",
       "      <th>Age</th>\n",
       "    </tr>\n",
       "  </thead>\n",
       "  <tbody>\n",
       "    <tr>\n",
       "      <th>0</th>\n",
       "      <td>Shaina</td>\n",
       "      <td>1001</td>\n",
       "      <td>14</td>\n",
       "    </tr>\n",
       "    <tr>\n",
       "      <th>1</th>\n",
       "      <td>Tanni</td>\n",
       "      <td>1002</td>\n",
       "      <td>15</td>\n",
       "    </tr>\n",
       "    <tr>\n",
       "      <th>2</th>\n",
       "      <td>Nonu</td>\n",
       "      <td>1003</td>\n",
       "      <td>17</td>\n",
       "    </tr>\n",
       "    <tr>\n",
       "      <th>3</th>\n",
       "      <td>Nitin</td>\n",
       "      <td>1004</td>\n",
       "      <td>13</td>\n",
       "    </tr>\n",
       "  </tbody>\n",
       "</table>\n",
       "</div>"
      ],
      "text/plain": [
       "     Name  Roll_no  Age\n",
       "0  Shaina     1001   14\n",
       "1   Tanni     1002   15\n",
       "2    Nonu     1003   17\n",
       "3   Nitin     1004   13"
      ]
     },
     "execution_count": 65,
     "metadata": {},
     "output_type": "execute_result"
    }
   ],
   "source": [
    "students = pd.DataFrame(dict)\n",
    "students"
   ]
  },
  {
   "cell_type": "code",
   "execution_count": null,
   "id": "c128c2c6-dbb9-4d8c-9b51-9bcc40972df9",
   "metadata": {},
   "outputs": [],
   "source": []
  }
 ],
 "metadata": {
  "kernelspec": {
   "display_name": "Python 3 (ipykernel)",
   "language": "python",
   "name": "python3"
  },
  "language_info": {
   "codemirror_mode": {
    "name": "ipython",
    "version": 3
   },
   "file_extension": ".py",
   "mimetype": "text/x-python",
   "name": "python",
   "nbconvert_exporter": "python",
   "pygments_lexer": "ipython3",
   "version": "3.11.7"
  }
 },
 "nbformat": 4,
 "nbformat_minor": 5
}
