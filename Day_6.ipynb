{
 "cells": [
  {
   "cell_type": "markdown",
   "id": "41773d42-e067-4e6c-90b5-cffd95414f4c",
   "metadata": {},
   "source": [
    "# Function"
   ]
  },
  {
   "cell_type": "code",
   "execution_count": 1,
   "id": "42c0a755-8b66-4cea-88f1-8c744c30b27a",
   "metadata": {},
   "outputs": [],
   "source": [
    "# It is a block code that runs when it is called"
   ]
  },
  {
   "cell_type": "code",
   "execution_count": 4,
   "id": "bca341c7-788d-4897-928d-320c87582cb0",
   "metadata": {},
   "outputs": [
    {
     "name": "stdout",
     "output_type": "stream",
     "text": [
      "Hello World!\n"
     ]
    }
   ],
   "source": [
    "#defining a function\n",
    "def hello_world():\n",
    "    print(\"Hello World!\")\n",
    "\n",
    "hello_world()#function calling"
   ]
  },
  {
   "cell_type": "code",
   "execution_count": 13,
   "id": "a6badd7f-2c29-4180-a451-e972f21f230a",
   "metadata": {},
   "outputs": [
    {
     "name": "stdout",
     "output_type": "stream",
     "text": [
      "Hi!shaina  How are you\n"
     ]
    }
   ],
   "source": [
    "# function with parameter\n",
    "def hello(name):\n",
    "    print(f\"Hi!{name}  How are you\")\n",
    "\n",
    "hello(\"shaina\")\n",
    "\n",
    "    "
   ]
  },
  {
   "cell_type": "code",
   "execution_count": 18,
   "id": "2764d2dd-01fd-40aa-82d8-5f78b3f9a301",
   "metadata": {},
   "outputs": [
    {
     "name": "stdin",
     "output_type": "stream",
     "text": [
      "Your first name: SHAINA\n",
      "Your last name: HUSSAIN\n"
     ]
    },
    {
     "name": "stdout",
     "output_type": "stream",
     "text": [
      "Shaina Hussain\n"
     ]
    }
   ],
   "source": [
    "def formatted_name(fname,lname):\n",
    "    formatted_fname = fname.title()\n",
    "    formatted_lname = lname.title()\n",
    "    print(formatted_fname,formatted_lname)\n",
    "\n",
    "firstName = input(\"Your first name:\")\n",
    "lastName = input(\"Your last name:\")\n",
    "formatted_name(firstName,lastName)"
   ]
  },
  {
   "cell_type": "markdown",
   "id": "43642e85-2914-4ddf-8cb4-04ffe267a0f9",
   "metadata": {},
   "source": [
    "# Arbitrary argument * args"
   ]
  },
  {
   "cell_type": "code",
   "execution_count": 19,
   "id": "87e1f842-02a8-4403-9758-7122a1e843ff",
   "metadata": {},
   "outputs": [
    {
     "name": "stdout",
     "output_type": "stream",
     "text": [
      "Your eldest kid is:rama\n"
     ]
    }
   ],
   "source": [
    "#when you don't know how many argument will be passed by user at the timme of function calling.\n",
    "def family(*kids):\n",
    "    print(f\"Your eldest kid is:{kids[0]}\")\n",
    "\n",
    "family(\"rama\",\"shyama\",\"kama\")"
   ]
  },
  {
   "cell_type": "code",
   "execution_count": 21,
   "id": "12bbf372-2df3-4b87-a4ce-2a5caf3b46bf",
   "metadata": {},
   "outputs": [
    {
     "name": "stdout",
     "output_type": "stream",
     "text": [
      "Your first number is 3 and second number is 5 and addition = 8\n"
     ]
    }
   ],
   "source": [
    "def add(n1,n2):\n",
    "    print(f\"Your first number is {n1} and second number is {n2} and addition = {n1+n2}\")\n",
    "\n",
    "add(3,5)"
   ]
  },
  {
   "cell_type": "markdown",
   "id": "d7baf86e-5dcd-47cc-a6b1-77a1a0f17ab2",
   "metadata": {},
   "source": [
    "# lambda function"
   ]
  },
  {
   "cell_type": "code",
   "execution_count": 22,
   "id": "78543a6a-e71c-4477-a478-28e384aff925",
   "metadata": {},
   "outputs": [],
   "source": [
    "#It is an amonymous function which can have any number of argument but can have a single expression"
   ]
  },
  {
   "cell_type": "code",
   "execution_count": 24,
   "id": "e1cad815-1576-4f1e-a384-ad6ec3ccca7e",
   "metadata": {},
   "outputs": [
    {
     "data": {
      "text/plain": [
       "15"
      ]
     },
     "execution_count": 24,
     "metadata": {},
     "output_type": "execute_result"
    }
   ],
   "source": [
    "add = lambda x,y : x+y\n",
    "add(5,10)"
   ]
  },
  {
   "cell_type": "code",
   "execution_count": 27,
   "id": "85e4e0a8-e045-4899-a495-5996779a4887",
   "metadata": {},
   "outputs": [
    {
     "name": "stdout",
     "output_type": "stream",
     "text": [
      "My country name is: India\n",
      "My country name is: Brazil\n",
      "My country name is: Japan\n"
     ]
    }
   ],
   "source": [
    "# default parameters - it is used to pass a default argument if user forget to pass argument\n",
    "def my_country(name = \"India\"):\n",
    "    print(f\"My country name is: {name}\")\n",
    "\n",
    "my_country()\n",
    "my_country(\"Brazil\")\n",
    "my_country(\"Japan\")\n",
    "\n"
   ]
  },
  {
   "cell_type": "markdown",
   "id": "762f5870-3995-4dd3-94d6-29177ab50fba",
   "metadata": {},
   "source": [
    "# return value"
   ]
  },
  {
   "cell_type": "code",
   "execution_count": 28,
   "id": "79a60488-ea56-42b1-8aec-fab9d46d3a8a",
   "metadata": {},
   "outputs": [
    {
     "name": "stdout",
     "output_type": "stream",
     "text": [
      "30\n"
     ]
    }
   ],
   "source": [
    "def add(x,y):\n",
    "    return x+y\n",
    "print(add(10,20))"
   ]
  },
  {
   "cell_type": "code",
   "execution_count": null,
   "id": "b625eba0-455b-4573-a87e-beac1e75791d",
   "metadata": {},
   "outputs": [],
   "source": []
  }
 ],
 "metadata": {
  "kernelspec": {
   "display_name": "Python 3 (ipykernel)",
   "language": "python",
   "name": "python3"
  },
  "language_info": {
   "codemirror_mode": {
    "name": "ipython",
    "version": 3
   },
   "file_extension": ".py",
   "mimetype": "text/x-python",
   "name": "python",
   "nbconvert_exporter": "python",
   "pygments_lexer": "ipython3",
   "version": "3.11.7"
  }
 },
 "nbformat": 4,
 "nbformat_minor": 5
}
