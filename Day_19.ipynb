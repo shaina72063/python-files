{
 "cells": [
  {
   "cell_type": "code",
   "execution_count": 30,
   "id": "42ee801c-88ce-4ce4-818a-318c0a9a0933",
   "metadata": {},
   "outputs": [],
   "source": [
    "import pandas as pd\n",
    "import numpy as np"
   ]
  },
  {
   "cell_type": "code",
   "execution_count": 31,
   "id": "366835ef-9b58-41da-9d11-61709e3106fd",
   "metadata": {},
   "outputs": [
    {
     "data": {
      "text/plain": [
       "{'emp_id': [1001, 1002, 1003, 1004],\n",
       " 'name': ['anshul', 'abhay', 'amit', 'yash'],\n",
       " 'age': [18, 34, 31, 25]}"
      ]
     },
     "execution_count": 31,
     "metadata": {},
     "output_type": "execute_result"
    }
   ],
   "source": [
    "dict1 = {\n",
    "    'emp_id':[1001,1002,1003,1004],\n",
    "    'name':['anshul','abhay','amit','yash'],\n",
    "    'age':[18,34,31,25]\n",
    "}\n",
    "dict1"
   ]
  },
  {
   "cell_type": "code",
   "execution_count": 33,
   "id": "dfb0a8ef-b6b1-4481-a445-641ed6c1549f",
   "metadata": {},
   "outputs": [
    {
     "data": {
      "text/html": [
       "<div>\n",
       "<style scoped>\n",
       "    .dataframe tbody tr th:only-of-type {\n",
       "        vertical-align: middle;\n",
       "    }\n",
       "\n",
       "    .dataframe tbody tr th {\n",
       "        vertical-align: top;\n",
       "    }\n",
       "\n",
       "    .dataframe thead th {\n",
       "        text-align: right;\n",
       "    }\n",
       "</style>\n",
       "<table border=\"1\" class=\"dataframe\">\n",
       "  <thead>\n",
       "    <tr style=\"text-align: right;\">\n",
       "      <th></th>\n",
       "      <th>emp_id</th>\n",
       "      <th>name</th>\n",
       "      <th>age</th>\n",
       "    </tr>\n",
       "  </thead>\n",
       "  <tbody>\n",
       "    <tr>\n",
       "      <th>0</th>\n",
       "      <td>1001</td>\n",
       "      <td>anshul</td>\n",
       "      <td>18</td>\n",
       "    </tr>\n",
       "    <tr>\n",
       "      <th>1</th>\n",
       "      <td>1002</td>\n",
       "      <td>abhay</td>\n",
       "      <td>34</td>\n",
       "    </tr>\n",
       "    <tr>\n",
       "      <th>2</th>\n",
       "      <td>1003</td>\n",
       "      <td>amit</td>\n",
       "      <td>31</td>\n",
       "    </tr>\n",
       "    <tr>\n",
       "      <th>3</th>\n",
       "      <td>1004</td>\n",
       "      <td>yash</td>\n",
       "      <td>25</td>\n",
       "    </tr>\n",
       "  </tbody>\n",
       "</table>\n",
       "</div>"
      ],
      "text/plain": [
       "   emp_id    name  age\n",
       "0    1001  anshul   18\n",
       "1    1002   abhay   34\n",
       "2    1003    amit   31\n",
       "3    1004    yash   25"
      ]
     },
     "execution_count": 33,
     "metadata": {},
     "output_type": "execute_result"
    }
   ],
   "source": [
    "df1 = pd.DataFrame(dict1)\n",
    "df1"
   ]
  },
  {
   "cell_type": "code",
   "execution_count": 34,
   "id": "94f2a699-1fcf-4e5b-ae54-db311554aa55",
   "metadata": {},
   "outputs": [
    {
     "data": {
      "text/plain": [
       "{'emp_id': [1001, 1002, 1005, 1006],\n",
       " 'sal': [20000, 30000, 40000, 50000],\n",
       " 'address': ['panipat', 'mohali', 'lucknow', 'noida']}"
      ]
     },
     "execution_count": 34,
     "metadata": {},
     "output_type": "execute_result"
    }
   ],
   "source": [
    "dict2 = {\n",
    "    'emp_id':[1001,1002,1005,1006],\n",
    "    'sal':[20000,30000,40000,50000],\n",
    "    'address':['panipat','mohali','lucknow','noida']\n",
    "}\n",
    "dict2"
   ]
  },
  {
   "cell_type": "code",
   "execution_count": 35,
   "id": "be5724eb-219b-4abc-a82f-65c44c22223b",
   "metadata": {},
   "outputs": [
    {
     "data": {
      "text/html": [
       "<div>\n",
       "<style scoped>\n",
       "    .dataframe tbody tr th:only-of-type {\n",
       "        vertical-align: middle;\n",
       "    }\n",
       "\n",
       "    .dataframe tbody tr th {\n",
       "        vertical-align: top;\n",
       "    }\n",
       "\n",
       "    .dataframe thead th {\n",
       "        text-align: right;\n",
       "    }\n",
       "</style>\n",
       "<table border=\"1\" class=\"dataframe\">\n",
       "  <thead>\n",
       "    <tr style=\"text-align: right;\">\n",
       "      <th></th>\n",
       "      <th>emp_id</th>\n",
       "      <th>sal</th>\n",
       "      <th>address</th>\n",
       "    </tr>\n",
       "  </thead>\n",
       "  <tbody>\n",
       "    <tr>\n",
       "      <th>0</th>\n",
       "      <td>1001</td>\n",
       "      <td>20000</td>\n",
       "      <td>panipat</td>\n",
       "    </tr>\n",
       "    <tr>\n",
       "      <th>1</th>\n",
       "      <td>1002</td>\n",
       "      <td>30000</td>\n",
       "      <td>mohali</td>\n",
       "    </tr>\n",
       "    <tr>\n",
       "      <th>2</th>\n",
       "      <td>1005</td>\n",
       "      <td>40000</td>\n",
       "      <td>lucknow</td>\n",
       "    </tr>\n",
       "    <tr>\n",
       "      <th>3</th>\n",
       "      <td>1006</td>\n",
       "      <td>50000</td>\n",
       "      <td>noida</td>\n",
       "    </tr>\n",
       "  </tbody>\n",
       "</table>\n",
       "</div>"
      ],
      "text/plain": [
       "   emp_id    sal  address\n",
       "0    1001  20000  panipat\n",
       "1    1002  30000   mohali\n",
       "2    1005  40000  lucknow\n",
       "3    1006  50000    noida"
      ]
     },
     "execution_count": 35,
     "metadata": {},
     "output_type": "execute_result"
    }
   ],
   "source": [
    "df2 = pd.DataFrame(dict2)\n",
    "df2"
   ]
  },
  {
   "cell_type": "code",
   "execution_count": null,
   "id": "8799960c-c014-4505-8d1c-8cea3eb59385",
   "metadata": {},
   "outputs": [],
   "source": [
    "# inner merge"
   ]
  },
  {
   "cell_type": "code",
   "execution_count": 42,
   "id": "b86492fb-bbb7-4c33-af02-120313716143",
   "metadata": {},
   "outputs": [
    {
     "data": {
      "text/html": [
       "<div>\n",
       "<style scoped>\n",
       "    .dataframe tbody tr th:only-of-type {\n",
       "        vertical-align: middle;\n",
       "    }\n",
       "\n",
       "    .dataframe tbody tr th {\n",
       "        vertical-align: top;\n",
       "    }\n",
       "\n",
       "    .dataframe thead th {\n",
       "        text-align: right;\n",
       "    }\n",
       "</style>\n",
       "<table border=\"1\" class=\"dataframe\">\n",
       "  <thead>\n",
       "    <tr style=\"text-align: right;\">\n",
       "      <th></th>\n",
       "      <th>emp_id</th>\n",
       "      <th>name</th>\n",
       "      <th>age</th>\n",
       "      <th>sal</th>\n",
       "      <th>address</th>\n",
       "    </tr>\n",
       "  </thead>\n",
       "  <tbody>\n",
       "    <tr>\n",
       "      <th>0</th>\n",
       "      <td>1001</td>\n",
       "      <td>anshul</td>\n",
       "      <td>18</td>\n",
       "      <td>20000</td>\n",
       "      <td>panipat</td>\n",
       "    </tr>\n",
       "    <tr>\n",
       "      <th>1</th>\n",
       "      <td>1002</td>\n",
       "      <td>abhay</td>\n",
       "      <td>34</td>\n",
       "      <td>30000</td>\n",
       "      <td>mohali</td>\n",
       "    </tr>\n",
       "  </tbody>\n",
       "</table>\n",
       "</div>"
      ],
      "text/plain": [
       "   emp_id    name  age    sal  address\n",
       "0    1001  anshul   18  20000  panipat\n",
       "1    1002   abhay   34  30000   mohali"
      ]
     },
     "execution_count": 42,
     "metadata": {},
     "output_type": "execute_result"
    }
   ],
   "source": [
    "pd.merge(df1,df2,how ='inner',on='emp_id')"
   ]
  },
  {
   "cell_type": "code",
   "execution_count": 43,
   "id": "0b3bf684-5187-49e5-bd54-24e446bc6fc2",
   "metadata": {},
   "outputs": [],
   "source": [
    "# outer merge"
   ]
  },
  {
   "cell_type": "code",
   "execution_count": 44,
   "id": "575cf714-0ecf-4ae6-855c-039c7fcccc17",
   "metadata": {},
   "outputs": [
    {
     "data": {
      "text/html": [
       "<div>\n",
       "<style scoped>\n",
       "    .dataframe tbody tr th:only-of-type {\n",
       "        vertical-align: middle;\n",
       "    }\n",
       "\n",
       "    .dataframe tbody tr th {\n",
       "        vertical-align: top;\n",
       "    }\n",
       "\n",
       "    .dataframe thead th {\n",
       "        text-align: right;\n",
       "    }\n",
       "</style>\n",
       "<table border=\"1\" class=\"dataframe\">\n",
       "  <thead>\n",
       "    <tr style=\"text-align: right;\">\n",
       "      <th></th>\n",
       "      <th>emp_id</th>\n",
       "      <th>name</th>\n",
       "      <th>age</th>\n",
       "      <th>sal</th>\n",
       "      <th>address</th>\n",
       "    </tr>\n",
       "  </thead>\n",
       "  <tbody>\n",
       "    <tr>\n",
       "      <th>0</th>\n",
       "      <td>1001</td>\n",
       "      <td>anshul</td>\n",
       "      <td>18.0</td>\n",
       "      <td>20000.0</td>\n",
       "      <td>panipat</td>\n",
       "    </tr>\n",
       "    <tr>\n",
       "      <th>1</th>\n",
       "      <td>1002</td>\n",
       "      <td>abhay</td>\n",
       "      <td>34.0</td>\n",
       "      <td>30000.0</td>\n",
       "      <td>mohali</td>\n",
       "    </tr>\n",
       "    <tr>\n",
       "      <th>2</th>\n",
       "      <td>1003</td>\n",
       "      <td>amit</td>\n",
       "      <td>31.0</td>\n",
       "      <td>NaN</td>\n",
       "      <td>NaN</td>\n",
       "    </tr>\n",
       "    <tr>\n",
       "      <th>3</th>\n",
       "      <td>1004</td>\n",
       "      <td>yash</td>\n",
       "      <td>25.0</td>\n",
       "      <td>NaN</td>\n",
       "      <td>NaN</td>\n",
       "    </tr>\n",
       "    <tr>\n",
       "      <th>4</th>\n",
       "      <td>1005</td>\n",
       "      <td>NaN</td>\n",
       "      <td>NaN</td>\n",
       "      <td>40000.0</td>\n",
       "      <td>lucknow</td>\n",
       "    </tr>\n",
       "    <tr>\n",
       "      <th>5</th>\n",
       "      <td>1006</td>\n",
       "      <td>NaN</td>\n",
       "      <td>NaN</td>\n",
       "      <td>50000.0</td>\n",
       "      <td>noida</td>\n",
       "    </tr>\n",
       "  </tbody>\n",
       "</table>\n",
       "</div>"
      ],
      "text/plain": [
       "   emp_id    name   age      sal  address\n",
       "0    1001  anshul  18.0  20000.0  panipat\n",
       "1    1002   abhay  34.0  30000.0   mohali\n",
       "2    1003    amit  31.0      NaN      NaN\n",
       "3    1004    yash  25.0      NaN      NaN\n",
       "4    1005     NaN   NaN  40000.0  lucknow\n",
       "5    1006     NaN   NaN  50000.0    noida"
      ]
     },
     "execution_count": 44,
     "metadata": {},
     "output_type": "execute_result"
    }
   ],
   "source": [
    "pd.merge(df1,df2,how='outer',on='emp_id')"
   ]
  },
  {
   "cell_type": "code",
   "execution_count": 45,
   "id": "8615da71-93f6-47b7-89ae-05ddd505a79e",
   "metadata": {},
   "outputs": [],
   "source": [
    "# left merge"
   ]
  },
  {
   "cell_type": "code",
   "execution_count": 50,
   "id": "9d346e8e-aaeb-4238-82c2-daa45f2e5180",
   "metadata": {},
   "outputs": [
    {
     "data": {
      "text/html": [
       "<div>\n",
       "<style scoped>\n",
       "    .dataframe tbody tr th:only-of-type {\n",
       "        vertical-align: middle;\n",
       "    }\n",
       "\n",
       "    .dataframe tbody tr th {\n",
       "        vertical-align: top;\n",
       "    }\n",
       "\n",
       "    .dataframe thead th {\n",
       "        text-align: right;\n",
       "    }\n",
       "</style>\n",
       "<table border=\"1\" class=\"dataframe\">\n",
       "  <thead>\n",
       "    <tr style=\"text-align: right;\">\n",
       "      <th></th>\n",
       "      <th>emp_id</th>\n",
       "      <th>name</th>\n",
       "      <th>age</th>\n",
       "      <th>sal</th>\n",
       "      <th>address</th>\n",
       "    </tr>\n",
       "  </thead>\n",
       "  <tbody>\n",
       "    <tr>\n",
       "      <th>0</th>\n",
       "      <td>1001</td>\n",
       "      <td>anshul</td>\n",
       "      <td>18</td>\n",
       "      <td>20000.0</td>\n",
       "      <td>panipat</td>\n",
       "    </tr>\n",
       "    <tr>\n",
       "      <th>1</th>\n",
       "      <td>1002</td>\n",
       "      <td>abhay</td>\n",
       "      <td>34</td>\n",
       "      <td>30000.0</td>\n",
       "      <td>mohali</td>\n",
       "    </tr>\n",
       "    <tr>\n",
       "      <th>2</th>\n",
       "      <td>1003</td>\n",
       "      <td>amit</td>\n",
       "      <td>31</td>\n",
       "      <td>NaN</td>\n",
       "      <td>NaN</td>\n",
       "    </tr>\n",
       "    <tr>\n",
       "      <th>3</th>\n",
       "      <td>1004</td>\n",
       "      <td>yash</td>\n",
       "      <td>25</td>\n",
       "      <td>NaN</td>\n",
       "      <td>NaN</td>\n",
       "    </tr>\n",
       "  </tbody>\n",
       "</table>\n",
       "</div>"
      ],
      "text/plain": [
       "   emp_id    name  age      sal  address\n",
       "0    1001  anshul   18  20000.0  panipat\n",
       "1    1002   abhay   34  30000.0   mohali\n",
       "2    1003    amit   31      NaN      NaN\n",
       "3    1004    yash   25      NaN      NaN"
      ]
     },
     "execution_count": 50,
     "metadata": {},
     "output_type": "execute_result"
    }
   ],
   "source": [
    "pd.merge(df1,df2,how='left',on= 'emp_id',suffixes = ('_x','_y'))"
   ]
  },
  {
   "cell_type": "code",
   "execution_count": 51,
   "id": "cb39c4cb-35a5-4dfc-a4d5-6b3e12a85bd7",
   "metadata": {},
   "outputs": [],
   "source": [
    "# right merge"
   ]
  },
  {
   "cell_type": "code",
   "execution_count": 53,
   "id": "614e45df-1853-4891-8f11-7cddf8b1799c",
   "metadata": {},
   "outputs": [
    {
     "data": {
      "text/html": [
       "<div>\n",
       "<style scoped>\n",
       "    .dataframe tbody tr th:only-of-type {\n",
       "        vertical-align: middle;\n",
       "    }\n",
       "\n",
       "    .dataframe tbody tr th {\n",
       "        vertical-align: top;\n",
       "    }\n",
       "\n",
       "    .dataframe thead th {\n",
       "        text-align: right;\n",
       "    }\n",
       "</style>\n",
       "<table border=\"1\" class=\"dataframe\">\n",
       "  <thead>\n",
       "    <tr style=\"text-align: right;\">\n",
       "      <th></th>\n",
       "      <th>emp_id</th>\n",
       "      <th>name</th>\n",
       "      <th>age</th>\n",
       "      <th>sal</th>\n",
       "      <th>address</th>\n",
       "    </tr>\n",
       "  </thead>\n",
       "  <tbody>\n",
       "    <tr>\n",
       "      <th>0</th>\n",
       "      <td>1001</td>\n",
       "      <td>anshul</td>\n",
       "      <td>18.0</td>\n",
       "      <td>20000</td>\n",
       "      <td>panipat</td>\n",
       "    </tr>\n",
       "    <tr>\n",
       "      <th>1</th>\n",
       "      <td>1002</td>\n",
       "      <td>abhay</td>\n",
       "      <td>34.0</td>\n",
       "      <td>30000</td>\n",
       "      <td>mohali</td>\n",
       "    </tr>\n",
       "    <tr>\n",
       "      <th>2</th>\n",
       "      <td>1005</td>\n",
       "      <td>NaN</td>\n",
       "      <td>NaN</td>\n",
       "      <td>40000</td>\n",
       "      <td>lucknow</td>\n",
       "    </tr>\n",
       "    <tr>\n",
       "      <th>3</th>\n",
       "      <td>1006</td>\n",
       "      <td>NaN</td>\n",
       "      <td>NaN</td>\n",
       "      <td>50000</td>\n",
       "      <td>noida</td>\n",
       "    </tr>\n",
       "  </tbody>\n",
       "</table>\n",
       "</div>"
      ],
      "text/plain": [
       "   emp_id    name   age    sal  address\n",
       "0    1001  anshul  18.0  20000  panipat\n",
       "1    1002   abhay  34.0  30000   mohali\n",
       "2    1005     NaN   NaN  40000  lucknow\n",
       "3    1006     NaN   NaN  50000    noida"
      ]
     },
     "execution_count": 53,
     "metadata": {},
     "output_type": "execute_result"
    }
   ],
   "source": [
    "pd.merge(df1,df2,how = 'right')"
   ]
  },
  {
   "cell_type": "code",
   "execution_count": 54,
   "id": "667fb006-b08a-4fc7-8320-8bb729573bf2",
   "metadata": {},
   "outputs": [],
   "source": [
    "# cross merge"
   ]
  },
  {
   "cell_type": "code",
   "execution_count": 56,
   "id": "73852fc8-e1d8-4ee1-baeb-abd7ae3b8256",
   "metadata": {},
   "outputs": [
    {
     "data": {
      "text/html": [
       "<div>\n",
       "<style scoped>\n",
       "    .dataframe tbody tr th:only-of-type {\n",
       "        vertical-align: middle;\n",
       "    }\n",
       "\n",
       "    .dataframe tbody tr th {\n",
       "        vertical-align: top;\n",
       "    }\n",
       "\n",
       "    .dataframe thead th {\n",
       "        text-align: right;\n",
       "    }\n",
       "</style>\n",
       "<table border=\"1\" class=\"dataframe\">\n",
       "  <thead>\n",
       "    <tr style=\"text-align: right;\">\n",
       "      <th></th>\n",
       "      <th>emp_id_x</th>\n",
       "      <th>name</th>\n",
       "      <th>age</th>\n",
       "      <th>emp_id_y</th>\n",
       "      <th>sal</th>\n",
       "      <th>address</th>\n",
       "    </tr>\n",
       "  </thead>\n",
       "  <tbody>\n",
       "    <tr>\n",
       "      <th>0</th>\n",
       "      <td>1001</td>\n",
       "      <td>anshul</td>\n",
       "      <td>18</td>\n",
       "      <td>1001</td>\n",
       "      <td>20000</td>\n",
       "      <td>panipat</td>\n",
       "    </tr>\n",
       "    <tr>\n",
       "      <th>1</th>\n",
       "      <td>1001</td>\n",
       "      <td>anshul</td>\n",
       "      <td>18</td>\n",
       "      <td>1002</td>\n",
       "      <td>30000</td>\n",
       "      <td>mohali</td>\n",
       "    </tr>\n",
       "    <tr>\n",
       "      <th>2</th>\n",
       "      <td>1001</td>\n",
       "      <td>anshul</td>\n",
       "      <td>18</td>\n",
       "      <td>1005</td>\n",
       "      <td>40000</td>\n",
       "      <td>lucknow</td>\n",
       "    </tr>\n",
       "    <tr>\n",
       "      <th>3</th>\n",
       "      <td>1001</td>\n",
       "      <td>anshul</td>\n",
       "      <td>18</td>\n",
       "      <td>1006</td>\n",
       "      <td>50000</td>\n",
       "      <td>noida</td>\n",
       "    </tr>\n",
       "    <tr>\n",
       "      <th>4</th>\n",
       "      <td>1002</td>\n",
       "      <td>abhay</td>\n",
       "      <td>34</td>\n",
       "      <td>1001</td>\n",
       "      <td>20000</td>\n",
       "      <td>panipat</td>\n",
       "    </tr>\n",
       "    <tr>\n",
       "      <th>5</th>\n",
       "      <td>1002</td>\n",
       "      <td>abhay</td>\n",
       "      <td>34</td>\n",
       "      <td>1002</td>\n",
       "      <td>30000</td>\n",
       "      <td>mohali</td>\n",
       "    </tr>\n",
       "    <tr>\n",
       "      <th>6</th>\n",
       "      <td>1002</td>\n",
       "      <td>abhay</td>\n",
       "      <td>34</td>\n",
       "      <td>1005</td>\n",
       "      <td>40000</td>\n",
       "      <td>lucknow</td>\n",
       "    </tr>\n",
       "    <tr>\n",
       "      <th>7</th>\n",
       "      <td>1002</td>\n",
       "      <td>abhay</td>\n",
       "      <td>34</td>\n",
       "      <td>1006</td>\n",
       "      <td>50000</td>\n",
       "      <td>noida</td>\n",
       "    </tr>\n",
       "    <tr>\n",
       "      <th>8</th>\n",
       "      <td>1003</td>\n",
       "      <td>amit</td>\n",
       "      <td>31</td>\n",
       "      <td>1001</td>\n",
       "      <td>20000</td>\n",
       "      <td>panipat</td>\n",
       "    </tr>\n",
       "    <tr>\n",
       "      <th>9</th>\n",
       "      <td>1003</td>\n",
       "      <td>amit</td>\n",
       "      <td>31</td>\n",
       "      <td>1002</td>\n",
       "      <td>30000</td>\n",
       "      <td>mohali</td>\n",
       "    </tr>\n",
       "    <tr>\n",
       "      <th>10</th>\n",
       "      <td>1003</td>\n",
       "      <td>amit</td>\n",
       "      <td>31</td>\n",
       "      <td>1005</td>\n",
       "      <td>40000</td>\n",
       "      <td>lucknow</td>\n",
       "    </tr>\n",
       "    <tr>\n",
       "      <th>11</th>\n",
       "      <td>1003</td>\n",
       "      <td>amit</td>\n",
       "      <td>31</td>\n",
       "      <td>1006</td>\n",
       "      <td>50000</td>\n",
       "      <td>noida</td>\n",
       "    </tr>\n",
       "    <tr>\n",
       "      <th>12</th>\n",
       "      <td>1004</td>\n",
       "      <td>yash</td>\n",
       "      <td>25</td>\n",
       "      <td>1001</td>\n",
       "      <td>20000</td>\n",
       "      <td>panipat</td>\n",
       "    </tr>\n",
       "    <tr>\n",
       "      <th>13</th>\n",
       "      <td>1004</td>\n",
       "      <td>yash</td>\n",
       "      <td>25</td>\n",
       "      <td>1002</td>\n",
       "      <td>30000</td>\n",
       "      <td>mohali</td>\n",
       "    </tr>\n",
       "    <tr>\n",
       "      <th>14</th>\n",
       "      <td>1004</td>\n",
       "      <td>yash</td>\n",
       "      <td>25</td>\n",
       "      <td>1005</td>\n",
       "      <td>40000</td>\n",
       "      <td>lucknow</td>\n",
       "    </tr>\n",
       "    <tr>\n",
       "      <th>15</th>\n",
       "      <td>1004</td>\n",
       "      <td>yash</td>\n",
       "      <td>25</td>\n",
       "      <td>1006</td>\n",
       "      <td>50000</td>\n",
       "      <td>noida</td>\n",
       "    </tr>\n",
       "  </tbody>\n",
       "</table>\n",
       "</div>"
      ],
      "text/plain": [
       "    emp_id_x    name  age  emp_id_y    sal  address\n",
       "0       1001  anshul   18      1001  20000  panipat\n",
       "1       1001  anshul   18      1002  30000   mohali\n",
       "2       1001  anshul   18      1005  40000  lucknow\n",
       "3       1001  anshul   18      1006  50000    noida\n",
       "4       1002   abhay   34      1001  20000  panipat\n",
       "5       1002   abhay   34      1002  30000   mohali\n",
       "6       1002   abhay   34      1005  40000  lucknow\n",
       "7       1002   abhay   34      1006  50000    noida\n",
       "8       1003    amit   31      1001  20000  panipat\n",
       "9       1003    amit   31      1002  30000   mohali\n",
       "10      1003    amit   31      1005  40000  lucknow\n",
       "11      1003    amit   31      1006  50000    noida\n",
       "12      1004    yash   25      1001  20000  panipat\n",
       "13      1004    yash   25      1002  30000   mohali\n",
       "14      1004    yash   25      1005  40000  lucknow\n",
       "15      1004    yash   25      1006  50000    noida"
      ]
     },
     "execution_count": 56,
     "metadata": {},
     "output_type": "execute_result"
    }
   ],
   "source": [
    "pd.merge(df1,df2,how='cross')"
   ]
  },
  {
   "cell_type": "code",
   "execution_count": 1,
   "id": "7c983b8d-9d9d-4c15-aec5-dc7038dfd0bb",
   "metadata": {},
   "outputs": [],
   "source": [
    "import pandas as pd\n",
    "import datetime as dt"
   ]
  },
  {
   "cell_type": "code",
   "execution_count": 3,
   "id": "4893d84e-415e-4829-b045-5246409ac392",
   "metadata": {},
   "outputs": [
    {
     "data": {
      "text/plain": [
       "datetime.date(2024, 7, 4)"
      ]
     },
     "execution_count": 3,
     "metadata": {},
     "output_type": "execute_result"
    }
   ],
   "source": [
    "today = dt.date(2024,7,4)\n",
    "today"
   ]
  },
  {
   "cell_type": "code",
   "execution_count": 4,
   "id": "29f5c10e-1c2d-48ab-9ef3-c5bc09cf7d6a",
   "metadata": {},
   "outputs": [
    {
     "data": {
      "text/plain": [
       "4"
      ]
     },
     "execution_count": 4,
     "metadata": {},
     "output_type": "execute_result"
    }
   ],
   "source": [
    "today.day"
   ]
  },
  {
   "cell_type": "code",
   "execution_count": 5,
   "id": "34b0b095-a598-4e50-b227-1a42cf71d7fb",
   "metadata": {},
   "outputs": [
    {
     "data": {
      "text/plain": [
       "7"
      ]
     },
     "execution_count": 5,
     "metadata": {},
     "output_type": "execute_result"
    }
   ],
   "source": [
    "today.month"
   ]
  },
  {
   "cell_type": "code",
   "execution_count": 6,
   "id": "3cafbbcf-f61d-45c3-bc3a-c7dbd11f6820",
   "metadata": {},
   "outputs": [
    {
     "data": {
      "text/plain": [
       "2024"
      ]
     },
     "execution_count": 6,
     "metadata": {},
     "output_type": "execute_result"
    }
   ],
   "source": [
    "today.year"
   ]
  },
  {
   "cell_type": "code",
   "execution_count": 11,
   "id": "750ef4d3-6626-4cb2-96f3-6cbbec051dd4",
   "metadata": {},
   "outputs": [
    {
     "data": {
      "text/plain": [
       "datetime.datetime(2024, 7, 4, 10, 39, 12)"
      ]
     },
     "execution_count": 11,
     "metadata": {},
     "output_type": "execute_result"
    }
   ],
   "source": [
    "today = dt.datetime(2024,7,4,10,39,12)\n",
    "today"
   ]
  },
  {
   "cell_type": "code",
   "execution_count": 12,
   "id": "0f893381-92a1-49df-81ed-90d60fb97306",
   "metadata": {},
   "outputs": [
    {
     "data": {
      "text/plain": [
       "Timestamp('2024-07-04 10:41:31')"
      ]
     },
     "execution_count": 12,
     "metadata": {},
     "output_type": "execute_result"
    }
   ],
   "source": [
    "pd.Timestamp(\"2024/07/04 10:41:31\")"
   ]
  },
  {
   "cell_type": "code",
   "execution_count": 14,
   "id": "aa03ecee-5380-413a-9d67-67c507a5c7bc",
   "metadata": {},
   "outputs": [
    {
     "data": {
      "text/plain": [
       "DatetimeIndex(['2024-07-04', '2024-07-03', '2024-07-02', '2024-07-01'], dtype='datetime64[ns]', freq=None)"
      ]
     },
     "execution_count": 14,
     "metadata": {},
     "output_type": "execute_result"
    }
   ],
   "source": [
    "dateindex = pd.DatetimeIndex(['2024/07/04','2024/07/03','2024/07/02','2024/07/01'])\n",
    "dateindex"
   ]
  },
  {
   "cell_type": "code",
   "execution_count": 15,
   "id": "dc6d635b-cf91-4fce-8e79-b401d250e2e2",
   "metadata": {},
   "outputs": [],
   "source": [
    "temp = [35,37,38,39]"
   ]
  },
  {
   "cell_type": "code",
   "execution_count": 19,
   "id": "b1a54c84-617a-4cad-9154-2906f6d80539",
   "metadata": {},
   "outputs": [],
   "source": [
    "temp_day = pd.Series(data = temp , index = dateindex)"
   ]
  },
  {
   "cell_type": "code",
   "execution_count": 20,
   "id": "61fc31bc-4ba2-4b74-9c00-b03617463d45",
   "metadata": {},
   "outputs": [
    {
     "data": {
      "text/plain": [
       "2024-07-04    35\n",
       "2024-07-03    37\n",
       "2024-07-02    38\n",
       "2024-07-01    39\n",
       "dtype: int64"
      ]
     },
     "execution_count": 20,
     "metadata": {},
     "output_type": "execute_result"
    }
   ],
   "source": [
    "temp_day"
   ]
  },
  {
   "cell_type": "code",
   "execution_count": 26,
   "id": "22570ea1-1355-45c3-b125-e16ddd486a3b",
   "metadata": {},
   "outputs": [
    {
     "name": "stderr",
     "output_type": "stream",
     "text": [
      "C:\\Users\\Shaina Hussain\\AppData\\Local\\Temp\\ipykernel_21228\\1388553324.py:1: UserWarning: Could not infer format, so each element will be parsed individually, falling back to `dateutil`. To ensure parsing is consistent and as-expected, please specify a format.\n",
      "  pd.to_datetime(['july 4 2024','2024/07/04','6th dec 2023','today'],errors = 'ignore')\n"
     ]
    },
    {
     "data": {
      "text/plain": [
       "DatetimeIndex([       '2024-07-04 00:00:00',        '2024-07-04 00:00:00',\n",
       "                      '2023-12-06 00:00:00', '2024-07-04 11:06:08.777592'],\n",
       "              dtype='datetime64[ns]', freq=None)"
      ]
     },
     "execution_count": 26,
     "metadata": {},
     "output_type": "execute_result"
    }
   ],
   "source": [
    "pd.to_datetime(['july 4 2024','2024/07/04','6th dec 2023','today'],errors = 'ignore')"
   ]
  },
  {
   "cell_type": "code",
   "execution_count": 37,
   "id": "c157b952-ea18-445e-a7ba-dd6e688f978e",
   "metadata": {},
   "outputs": [
    {
     "data": {
      "text/plain": [
       "DatetimeIndex([          '2024-07-04 00:00:00',\n",
       "               '2024-07-18 21:49:05.454545454',\n",
       "               '2024-08-02 19:38:10.909090909',\n",
       "               '2024-08-17 17:27:16.363636363',\n",
       "               '2024-09-01 15:16:21.818181818',\n",
       "               '2024-09-16 13:05:27.272727272',\n",
       "               '2024-10-01 10:54:32.727272727',\n",
       "               '2024-10-16 08:43:38.181818182',\n",
       "               '2024-10-31 06:32:43.636363636',\n",
       "               '2024-11-15 04:21:49.090909090',\n",
       "               '2024-11-30 02:10:54.545454544',\n",
       "                         '2024-12-15 00:00:00'],\n",
       "              dtype='datetime64[ns]', freq=None)"
      ]
     },
     "execution_count": 37,
     "metadata": {},
     "output_type": "execute_result"
    }
   ],
   "source": [
    "pd.date_range(start = '2024/07/04',end = '2024/12/15' , periods = 12)"
   ]
  },
  {
   "cell_type": "code",
   "execution_count": null,
   "id": "47ba7aa3-cff2-4a76-8522-11ebc46588f2",
   "metadata": {},
   "outputs": [],
   "source": []
  }
 ],
 "metadata": {
  "kernelspec": {
   "display_name": "Python 3 (ipykernel)",
   "language": "python",
   "name": "python3"
  },
  "language_info": {
   "codemirror_mode": {
    "name": "ipython",
    "version": 3
   },
   "file_extension": ".py",
   "mimetype": "text/x-python",
   "name": "python",
   "nbconvert_exporter": "python",
   "pygments_lexer": "ipython3",
   "version": "3.11.7"
  }
 },
 "nbformat": 4,
 "nbformat_minor": 5
}
