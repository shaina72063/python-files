{
 "cells": [
  {
   "cell_type": "markdown",
   "id": "c5bf0ac8-e76d-461a-8121-912070140b43",
   "metadata": {},
   "source": [
    "# random module"
   ]
  },
  {
   "cell_type": "code",
   "execution_count": 3,
   "id": "727db1a7-f410-41a2-aeca-5635e2b8a14a",
   "metadata": {},
   "outputs": [],
   "source": [
    "# numpy offers a random module to generate a random number"
   ]
  },
  {
   "cell_type": "code",
   "execution_count": 4,
   "id": "6a9a9311-e61d-4124-9f24-5cc31822d153",
   "metadata": {},
   "outputs": [],
   "source": [
    "import numpy as np\n",
    "from numpy import random"
   ]
  },
  {
   "cell_type": "code",
   "execution_count": 5,
   "id": "b29b6615-2632-49d9-b787-8147e4bb2a28",
   "metadata": {},
   "outputs": [
    {
     "name": "stdout",
     "output_type": "stream",
     "text": [
      "80\n"
     ]
    }
   ],
   "source": [
    "x = np.random.randint(100)\n",
    "print(x)"
   ]
  },
  {
   "cell_type": "markdown",
   "id": "28a0b808-bef9-4318-ba60-046c8f285da0",
   "metadata": {},
   "source": [
    "## *generating array of random nummbers*"
   ]
  },
  {
   "cell_type": "code",
   "execution_count": 6,
   "id": "e10172c5-b82d-4192-8bff-f5b1a45b3ab6",
   "metadata": {},
   "outputs": [
    {
     "name": "stdout",
     "output_type": "stream",
     "text": [
      "[86 97 70 39 90]\n"
     ]
    }
   ],
   "source": [
    "a = np.random.randint(100,size =5)\n",
    "print(a)"
   ]
  },
  {
   "cell_type": "code",
   "execution_count": 7,
   "id": "238306cb-1fd6-4180-ac35-6e57ae038536",
   "metadata": {},
   "outputs": [],
   "source": [
    "# generating 2-d array using random module"
   ]
  },
  {
   "cell_type": "code",
   "execution_count": 8,
   "id": "58852432-8739-4cfa-bf89-fdaed7999eb3",
   "metadata": {},
   "outputs": [
    {
     "name": "stdout",
     "output_type": "stream",
     "text": [
      "[[11 57 99 11]\n",
      " [99 82 28 83]\n",
      " [79 94 10 95]]\n"
     ]
    }
   ],
   "source": [
    "p = random.randint(100,size = (3,4))\n",
    "print(p)"
   ]
  },
  {
   "cell_type": "code",
   "execution_count": 9,
   "id": "e186b825-e995-4763-b93c-85c1e50b3323",
   "metadata": {},
   "outputs": [
    {
     "name": "stdout",
     "output_type": "stream",
     "text": [
      "0.37287839357419883\n"
     ]
    }
   ],
   "source": [
    "# generating random float \n",
    "c = random.rand()\n",
    "print(c)"
   ]
  },
  {
   "cell_type": "code",
   "execution_count": 10,
   "id": "2295bb76-8fa3-4b5b-ad8d-5a1479c58eb6",
   "metadata": {},
   "outputs": [
    {
     "name": "stdout",
     "output_type": "stream",
     "text": [
      "[0.96067483 0.95395557 0.74937069 0.74126209 0.3007419 ]\n"
     ]
    }
   ],
   "source": [
    "#generating random float\n",
    "d = random.rand(5)\n",
    "print(d)"
   ]
  },
  {
   "cell_type": "code",
   "execution_count": 11,
   "id": "efed89ae-f866-4860-acb7-6247a3fd3061",
   "metadata": {},
   "outputs": [
    {
     "name": "stdout",
     "output_type": "stream",
     "text": [
      "[[0.8629588  0.75761966 0.56190527 0.28035239]\n",
      " [0.56951456 0.7186699  0.05654216 0.2782779 ]\n",
      " [0.7623408  0.72190947 0.06024416 0.06449482]]\n"
     ]
    }
   ],
   "source": [
    "# genrating 2-d float random array\n",
    "float_array = random.rand(3,4)\n",
    "print(float_array)"
   ]
  },
  {
   "cell_type": "code",
   "execution_count": 12,
   "id": "93540463-a6e2-41f1-aa85-a00fd7a176fa",
   "metadata": {},
   "outputs": [
    {
     "name": "stdout",
     "output_type": "stream",
     "text": [
      "56\n"
     ]
    }
   ],
   "source": [
    "# selecting a random number from given array\n",
    "rand_num = random.choice([2,4,56,7,8,9])\n",
    "print(rand_num)"
   ]
  },
  {
   "cell_type": "code",
   "execution_count": 13,
   "id": "8445913f-a2cf-4b02-bb71-2df0890e10f1",
   "metadata": {},
   "outputs": [
    {
     "name": "stdout",
     "output_type": "stream",
     "text": [
      "black\n"
     ]
    }
   ],
   "source": [
    "colors = ['red','green','purple','black','grey','brown','mahroon','indigo','pink']\n",
    "select_color = random.choice(colors)\n",
    "print(select_color)"
   ]
  },
  {
   "cell_type": "code",
   "execution_count": 14,
   "id": "27f5e2a3-f805-4a9f-ade3-7720d9097898",
   "metadata": {},
   "outputs": [
    {
     "name": "stdout",
     "output_type": "stream",
     "text": [
      "[[0 5 1]\n",
      " [0 2 0]\n",
      " [1 1 2]\n",
      " [2 2 1]\n",
      " [0 0 0]]\n"
     ]
    }
   ],
   "source": [
    "security_breaches = np.array([[0,5,1],[0,2,0],[1,1,2],[2,2,1],[0,0,0]])\n",
    "print(security_breaches)"
   ]
  },
  {
   "cell_type": "code",
   "execution_count": 15,
   "id": "6d5b27c6-c1d6-4bb9-8075-7cee87ba6745",
   "metadata": {},
   "outputs": [
    {
     "name": "stdout",
     "output_type": "stream",
     "text": [
      "[6 2 4 5 0]\n"
     ]
    }
   ],
   "source": [
    "print(security_breaches.sum(axis = 1))"
   ]
  },
  {
   "cell_type": "code",
   "execution_count": 16,
   "id": "934ece96-c34d-4b0e-9409-3283e148797e",
   "metadata": {},
   "outputs": [
    {
     "name": "stdout",
     "output_type": "stream",
     "text": [
      "[ 3 10  4]\n"
     ]
    }
   ],
   "source": [
    "print(security_breaches.sum(axis = 0))"
   ]
  },
  {
   "cell_type": "code",
   "execution_count": 17,
   "id": "ea04bce9-5f09-480d-b21d-c3bfc51276ce",
   "metadata": {},
   "outputs": [
    {
     "name": "stdout",
     "output_type": "stream",
     "text": [
      "[0 0 1 1 0]\n"
     ]
    }
   ],
   "source": [
    "print(security_breaches.min(axis = 1))\n"
   ]
  },
  {
   "cell_type": "code",
   "execution_count": 18,
   "id": "1fbd477f-966e-4088-9a6e-1f517a1c59d8",
   "metadata": {},
   "outputs": [
    {
     "name": "stdout",
     "output_type": "stream",
     "text": [
      "[0 0 0]\n"
     ]
    }
   ],
   "source": [
    "print(security_breaches.min(axis = 0))\n"
   ]
  },
  {
   "cell_type": "code",
   "execution_count": 19,
   "id": "337dccc1-139b-44d4-bcd4-f6c984f3e26c",
   "metadata": {},
   "outputs": [
    {
     "name": "stdout",
     "output_type": "stream",
     "text": [
      "[2.         0.66666667 1.33333333 1.66666667 0.        ]\n"
     ]
    }
   ],
   "source": [
    "# finding mean\n",
    "print(security_breaches.mean(axis = 1))"
   ]
  },
  {
   "cell_type": "code",
   "execution_count": 20,
   "id": "ab47ed56-aecc-4f3d-98be-d4fa15d44fa5",
   "metadata": {},
   "outputs": [
    {
     "name": "stdout",
     "output_type": "stream",
     "text": [
      "[[ 3 10  4]]\n"
     ]
    }
   ],
   "source": [
    "print(security_breaches.sum(axis = 0,keepdims = True))"
   ]
  },
  {
   "cell_type": "code",
   "execution_count": 21,
   "id": "baabd563-ec0a-4ef1-b2e8-7110dbbe6151",
   "metadata": {},
   "outputs": [
    {
     "name": "stdout",
     "output_type": "stream",
     "text": [
      "[[6]\n",
      " [2]\n",
      " [4]\n",
      " [5]\n",
      " [0]]\n"
     ]
    }
   ],
   "source": [
    "print(security_breaches.sum(axis = 1 , keepdims = True))"
   ]
  },
  {
   "cell_type": "code",
   "execution_count": 22,
   "id": "70a57636-e74e-4207-848c-e7c1beb99b5b",
   "metadata": {},
   "outputs": [
    {
     "data": {
      "text/plain": [
       "array([[ 3,  6,  9],\n",
       "       [12, 15, 21]])"
      ]
     },
     "execution_count": 22,
     "metadata": {},
     "output_type": "execute_result"
    }
   ],
   "source": [
    "array = np.array([[1,2,3],[4,5,7]])\n",
    "array*3"
   ]
  },
  {
   "cell_type": "code",
   "execution_count": 23,
   "id": "cc9b02d3-d3cf-4132-bf23-91cf1ec9114e",
   "metadata": {},
   "outputs": [
    {
     "data": {
      "text/plain": [
       "array([[0, 2, 0],\n",
       "       [4, 0, 6]])"
      ]
     },
     "execution_count": 23,
     "metadata": {},
     "output_type": "execute_result"
    }
   ],
   "source": [
    "# multiplying and addition of two array\n",
    "array_a = np.array([[1,2,3],[4,5,6]])\n",
    "array_b = np.array([[0,1,0],[1,0,1]])\n",
    "array_a + array_b\n",
    "array_a*array_b"
   ]
  },
  {
   "cell_type": "code",
   "execution_count": 24,
   "id": "4c3cec1f-5007-4741-80a3-df8b8245af62",
   "metadata": {},
   "outputs": [
    {
     "data": {
      "text/plain": [
       "array([[False, False,  True],\n",
       "       [ True,  True,  True]])"
      ]
     },
     "execution_count": 24,
     "metadata": {},
     "output_type": "execute_result"
    }
   ],
   "source": [
    "array = np.array([[1,2,3],[4,5,6]])\n",
    "array >2"
   ]
  },
  {
   "cell_type": "code",
   "execution_count": 25,
   "id": "8d504659-d5ed-4604-93d6-e93e53e6e02e",
   "metadata": {},
   "outputs": [
    {
     "data": {
      "text/plain": [
       "True"
      ]
     },
     "execution_count": 25,
     "metadata": {},
     "output_type": "execute_result"
    }
   ],
   "source": [
    "array = np.array([\"shaina\" ,\"is\" ,\"awesome\"])\n",
    "len(array)>2"
   ]
  },
  {
   "cell_type": "code",
   "execution_count": 26,
   "id": "3c73948f-c38b-47ba-9430-3a8848de80a5",
   "metadata": {},
   "outputs": [
    {
     "data": {
      "text/plain": [
       "array([ True, False,  True])"
      ]
     },
     "execution_count": 26,
     "metadata": {},
     "output_type": "execute_result"
    }
   ],
   "source": [
    "vectorized_len = np.vectorize(len)\n",
    "vectorized_len(array)>2"
   ]
  }
 ],
 "metadata": {
  "kernelspec": {
   "display_name": "Python 3 (ipykernel)",
   "language": "python",
   "name": "python3"
  },
  "language_info": {
   "codemirror_mode": {
    "name": "ipython",
    "version": 3
   },
   "file_extension": ".py",
   "mimetype": "text/x-python",
   "name": "python",
   "nbconvert_exporter": "python",
   "pygments_lexer": "ipython3",
   "version": "3.11.7"
  }
 },
 "nbformat": 4,
 "nbformat_minor": 5
}
