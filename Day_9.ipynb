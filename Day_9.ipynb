{
 "cells": [
  {
   "cell_type": "code",
   "execution_count": 1,
   "id": "e6719e90-4a2d-4869-a684-dc685065cd33",
   "metadata": {},
   "outputs": [
    {
     "name": "stdout",
     "output_type": "stream",
     "text": [
      "Requirement already satisfied: numpy in c:\\users\\shaina hussain\\anaconda3\\lib\\site-packages (1.26.4)\n",
      "Note: you may need to restart the kernel to use updated packages.\n"
     ]
    }
   ],
   "source": [
    "pip install numpy"
   ]
  },
  {
   "cell_type": "code",
   "execution_count": 3,
   "id": "251349ea-7496-47ba-b5e5-19fab775f3dc",
   "metadata": {},
   "outputs": [],
   "source": [
    "import numpy as np"
   ]
  },
  {
   "cell_type": "code",
   "execution_count": 4,
   "id": "4c320ab1-1a27-4972-b150-cfada8b59644",
   "metadata": {},
   "outputs": [],
   "source": [
    "arr = np.array([1,2,3,4,5])"
   ]
  },
  {
   "cell_type": "code",
   "execution_count": 5,
   "id": "3de30193-daea-429c-b0de-d814cca53e67",
   "metadata": {},
   "outputs": [
    {
     "data": {
      "text/plain": [
       "array([1, 2, 3, 4, 5])"
      ]
     },
     "execution_count": 5,
     "metadata": {},
     "output_type": "execute_result"
    }
   ],
   "source": [
    "arr"
   ]
  },
  {
   "cell_type": "code",
   "execution_count": 6,
   "id": "82702244-b089-4c0c-9968-c212de5adc05",
   "metadata": {},
   "outputs": [],
   "source": [
    "# Creating array using tuple"
   ]
  },
  {
   "cell_type": "code",
   "execution_count": 7,
   "id": "ec3ea2be-86f9-4cb7-800a-704ba5526874",
   "metadata": {},
   "outputs": [],
   "source": [
    "arr1 = np.array((4,5,6,7,3))"
   ]
  },
  {
   "cell_type": "code",
   "execution_count": 8,
   "id": "765dda3e-e134-4e90-9156-3d3e9d64de15",
   "metadata": {},
   "outputs": [
    {
     "data": {
      "text/plain": [
       "array([4, 5, 6, 7, 3])"
      ]
     },
     "execution_count": 8,
     "metadata": {},
     "output_type": "execute_result"
    }
   ],
   "source": [
    "arr1"
   ]
  },
  {
   "cell_type": "code",
   "execution_count": 9,
   "id": "934d4e4f-4dfb-4cb5-bbbe-658e8b34ad77",
   "metadata": {},
   "outputs": [
    {
     "data": {
      "text/plain": [
       "(5,)"
      ]
     },
     "execution_count": 9,
     "metadata": {},
     "output_type": "execute_result"
    }
   ],
   "source": [
    "arr1.shape"
   ]
  },
  {
   "cell_type": "code",
   "execution_count": 10,
   "id": "6eae14cc-2c69-44de-bb03-ccedbb085174",
   "metadata": {},
   "outputs": [
    {
     "data": {
      "text/plain": [
       "(5,)"
      ]
     },
     "execution_count": 10,
     "metadata": {},
     "output_type": "execute_result"
    }
   ],
   "source": [
    "arr.shape"
   ]
  },
  {
   "cell_type": "code",
   "execution_count": 11,
   "id": "35cdf8ea-93c9-40d9-b711-21549ecf1c9c",
   "metadata": {},
   "outputs": [
    {
     "data": {
      "text/plain": [
       "numpy.ndarray"
      ]
     },
     "execution_count": 11,
     "metadata": {},
     "output_type": "execute_result"
    }
   ],
   "source": [
    "type(arr1)"
   ]
  },
  {
   "cell_type": "code",
   "execution_count": 12,
   "id": "9521d8ba-36a9-4bf4-8891-b748c58c89fe",
   "metadata": {},
   "outputs": [],
   "source": [
    "#Accessing element of 1 d array"
   ]
  },
  {
   "cell_type": "code",
   "execution_count": 13,
   "id": "a89bad63-4bae-4313-b276-901c13902dbc",
   "metadata": {},
   "outputs": [
    {
     "data": {
      "text/plain": [
       "1"
      ]
     },
     "execution_count": 13,
     "metadata": {},
     "output_type": "execute_result"
    }
   ],
   "source": [
    "arr[0]"
   ]
  },
  {
   "cell_type": "code",
   "execution_count": 14,
   "id": "bd51545f-bd30-4fcb-99d5-8ce4381d32d5",
   "metadata": {},
   "outputs": [
    {
     "data": {
      "text/plain": [
       "5"
      ]
     },
     "execution_count": 14,
     "metadata": {},
     "output_type": "execute_result"
    }
   ],
   "source": [
    "arr[-1]"
   ]
  },
  {
   "cell_type": "code",
   "execution_count": 15,
   "id": "f338b69c-2ead-475b-8d8c-5b26177049ba",
   "metadata": {},
   "outputs": [],
   "source": [
    "#slicing 1-d array"
   ]
  },
  {
   "cell_type": "code",
   "execution_count": 16,
   "id": "fd964be6-3798-4bae-9781-a295e77d979e",
   "metadata": {},
   "outputs": [
    {
     "data": {
      "text/plain": [
       "array([1, 2, 3])"
      ]
     },
     "execution_count": 16,
     "metadata": {},
     "output_type": "execute_result"
    }
   ],
   "source": [
    "arr[0:3]"
   ]
  },
  {
   "cell_type": "code",
   "execution_count": 17,
   "id": "d47701e1-38c7-4140-8b95-dad6422e30e6",
   "metadata": {},
   "outputs": [
    {
     "data": {
      "text/plain": [
       "array([3, 4])"
      ]
     },
     "execution_count": 17,
     "metadata": {},
     "output_type": "execute_result"
    }
   ],
   "source": [
    "arr[-3:-1]"
   ]
  },
  {
   "cell_type": "code",
   "execution_count": 18,
   "id": "e796fa4c-a7d9-4c75-958b-62aae762917f",
   "metadata": {},
   "outputs": [
    {
     "data": {
      "text/plain": [
       "array([1, 2, 3, 4])"
      ]
     },
     "execution_count": 18,
     "metadata": {},
     "output_type": "execute_result"
    }
   ],
   "source": [
    "arr[:4]"
   ]
  },
  {
   "cell_type": "code",
   "execution_count": 19,
   "id": "32fd5530-8ed3-4f7e-a11a-ac294327d67a",
   "metadata": {},
   "outputs": [
    {
     "data": {
      "text/plain": [
       "array([3, 4, 5])"
      ]
     },
     "execution_count": 19,
     "metadata": {},
     "output_type": "execute_result"
    }
   ],
   "source": [
    "arr[2:]"
   ]
  },
  {
   "cell_type": "code",
   "execution_count": 20,
   "id": "99dc56c2-d3d5-45e8-960e-d3959e025423",
   "metadata": {},
   "outputs": [],
   "source": [
    "marks = np.array([1,2,3,4,5,6,7,8])"
   ]
  },
  {
   "cell_type": "code",
   "execution_count": 21,
   "id": "60f0f2a1-e238-4825-bb21-ca6b2517f0a9",
   "metadata": {},
   "outputs": [
    {
     "data": {
      "text/plain": [
       "array([1, 2, 3, 4])"
      ]
     },
     "execution_count": 21,
     "metadata": {},
     "output_type": "execute_result"
    }
   ],
   "source": [
    "marks[:4]"
   ]
  },
  {
   "cell_type": "code",
   "execution_count": 22,
   "id": "fbe1a17e-9948-4a92-b665-e68df3e3c35a",
   "metadata": {},
   "outputs": [
    {
     "data": {
      "text/plain": [
       "array([5, 6, 7, 8])"
      ]
     },
     "execution_count": 22,
     "metadata": {},
     "output_type": "execute_result"
    }
   ],
   "source": [
    "marks[4:]"
   ]
  },
  {
   "cell_type": "code",
   "execution_count": 23,
   "id": "6e882b4e-cd25-4d3d-954e-e82fad77d906",
   "metadata": {},
   "outputs": [
    {
     "data": {
      "text/plain": [
       "array([5, 6])"
      ]
     },
     "execution_count": 23,
     "metadata": {},
     "output_type": "execute_result"
    }
   ],
   "source": [
    "marks[-4:-2]"
   ]
  },
  {
   "cell_type": "markdown",
   "id": "89e3a155-d3e0-445d-b9f5-6482f09642ce",
   "metadata": {},
   "source": [
    "## *creating 2-d array*"
   ]
  },
  {
   "cell_type": "code",
   "execution_count": 24,
   "id": "5050b9a6-2285-41d5-afa1-532e9f5ce3ab",
   "metadata": {},
   "outputs": [],
   "source": [
    "array = np.array([[1,2,3,4],[5,6,7,8]])"
   ]
  },
  {
   "cell_type": "code",
   "execution_count": 25,
   "id": "991532cb-8d59-46f0-881a-9b21cfad76dd",
   "metadata": {},
   "outputs": [
    {
     "data": {
      "text/plain": [
       "array([[1, 2, 3, 4],\n",
       "       [5, 6, 7, 8]])"
      ]
     },
     "execution_count": 25,
     "metadata": {},
     "output_type": "execute_result"
    }
   ],
   "source": [
    "array"
   ]
  },
  {
   "cell_type": "code",
   "execution_count": 26,
   "id": "e5ea37f2-17f4-406d-a93f-0f428305d1d1",
   "metadata": {},
   "outputs": [
    {
     "data": {
      "text/plain": [
       "(2, 4)"
      ]
     },
     "execution_count": 26,
     "metadata": {},
     "output_type": "execute_result"
    }
   ],
   "source": [
    "array.shape"
   ]
  },
  {
   "cell_type": "code",
   "execution_count": 27,
   "id": "488c196c-ead9-47b8-be48-9fafd2615b4b",
   "metadata": {},
   "outputs": [],
   "source": [
    "# creating 2-d array using tuple"
   ]
  },
  {
   "cell_type": "code",
   "execution_count": 28,
   "id": "65f5b526-da90-4d72-9f18-8ddcf9b760ca",
   "metadata": {},
   "outputs": [],
   "source": [
    "arr2 = np.array(((1,2,3),(3,4,5)))"
   ]
  },
  {
   "cell_type": "code",
   "execution_count": 29,
   "id": "7be43c12-acd2-41a1-99ac-7633c07b0fc8",
   "metadata": {},
   "outputs": [
    {
     "data": {
      "text/plain": [
       "array([[1, 2, 3],\n",
       "       [3, 4, 5]])"
      ]
     },
     "execution_count": 29,
     "metadata": {},
     "output_type": "execute_result"
    }
   ],
   "source": [
    "arr2"
   ]
  },
  {
   "cell_type": "code",
   "execution_count": 30,
   "id": "05165246-efba-4e7d-8cad-e164d2259a9e",
   "metadata": {},
   "outputs": [
    {
     "data": {
      "text/plain": [
       "(2, 3)"
      ]
     },
     "execution_count": 30,
     "metadata": {},
     "output_type": "execute_result"
    }
   ],
   "source": [
    "arr2.shape"
   ]
  },
  {
   "cell_type": "code",
   "execution_count": 32,
   "id": "af63c3ed-f933-4d89-bae1-79a51508a581",
   "metadata": {},
   "outputs": [
    {
     "data": {
      "text/plain": [
       "numpy.ndarray"
      ]
     },
     "execution_count": 32,
     "metadata": {},
     "output_type": "execute_result"
    }
   ],
   "source": [
    "type(arr2)"
   ]
  },
  {
   "cell_type": "code",
   "execution_count": 33,
   "id": "c918f601-0b7f-4563-8f43-cecbf06e4d57",
   "metadata": {},
   "outputs": [
    {
     "data": {
      "text/plain": [
       "3"
      ]
     },
     "execution_count": 33,
     "metadata": {},
     "output_type": "execute_result"
    }
   ],
   "source": [
    "arr2[0][2]"
   ]
  },
  {
   "cell_type": "code",
   "execution_count": 40,
   "id": "7e6d68b1-f5d3-4501-be65-5396ccf71995",
   "metadata": {},
   "outputs": [
    {
     "data": {
      "text/plain": [
       "array([], shape=(0, 3), dtype=int32)"
      ]
     },
     "execution_count": 40,
     "metadata": {},
     "output_type": "execute_result"
    }
   ],
   "source": [
    "arr2[-1:-2]"
   ]
  },
  {
   "cell_type": "code",
   "execution_count": 43,
   "id": "378feb51-16d5-4957-81d2-24387cedb379",
   "metadata": {},
   "outputs": [
    {
     "data": {
      "text/plain": [
       "array([[2, 3]])"
      ]
     },
     "execution_count": 43,
     "metadata": {},
     "output_type": "execute_result"
    }
   ],
   "source": [
    "#slicing 2-d array\n",
    "arr2[0:1,1:3]"
   ]
  },
  {
   "cell_type": "code",
   "execution_count": null,
   "id": "a497db03-569b-4867-b634-24bba283cad5",
   "metadata": {},
   "outputs": [],
   "source": [
    "h"
   ]
  },
  {
   "cell_type": "code",
   "execution_count": null,
   "id": "a25415e7-6fa1-4067-a756-eb7f65af0b8f",
   "metadata": {},
   "outputs": [],
   "source": []
  }
 ],
 "metadata": {
  "kernelspec": {
   "display_name": "Python 3 (ipykernel)",
   "language": "python",
   "name": "python3"
  },
  "language_info": {
   "codemirror_mode": {
    "name": "ipython",
    "version": 3
   },
   "file_extension": ".py",
   "mimetype": "text/x-python",
   "name": "python",
   "nbconvert_exporter": "python",
   "pygments_lexer": "ipython3",
   "version": "3.11.7"
  }
 },
 "nbformat": 4,
 "nbformat_minor": 5
}
