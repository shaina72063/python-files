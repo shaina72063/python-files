{
 "cells": [
  {
   "cell_type": "code",
   "execution_count": 1,
   "id": "d1749dca-e267-4f45-ad1b-072fd27c88d2",
   "metadata": {},
   "outputs": [
    {
     "name": "stdin",
     "output_type": "stream",
     "text": [
      "Enter temperature for celcius: 34\n"
     ]
    },
    {
     "name": "stdout",
     "output_type": "stream",
     "text": [
      "93.2\n"
     ]
    }
   ],
   "source": [
    "c = int(input(\"Enter temperature for celcius:\"))\n",
    "f = (9/5)*c + 32\n",
    "print(f)\n"
   ]
  },
  {
   "cell_type": "code",
   "execution_count": 2,
   "id": "9459fb9a-17fb-49ba-8251-dc0e19feebfe",
   "metadata": {},
   "outputs": [
    {
     "name": "stdin",
     "output_type": "stream",
     "text": [
      "Enter a number: 3\n",
      "Enter the power: 2\n"
     ]
    },
    {
     "name": "stdout",
     "output_type": "stream",
     "text": [
      "9\n"
     ]
    }
   ],
   "source": [
    "i = int(input(\"Enter a number:\"))\n",
    "j = int(input(\"Enter the power:\"))\n",
    "print\n"
   ]
  },
  {
   "cell_type": "code",
   "execution_count": 17,
   "id": "403ebcd6-5bab-4bb6-8355-9e0b1176133f",
   "metadata": {},
   "outputs": [
    {
     "name": "stdout",
     "output_type": "stream",
     "text": [
      "[56, 67, 78, 79, 88]\n"
     ]
    }
   ],
   "source": [
    "a = [78,79,88,67,56]\n",
    "b = [66,77,90,45,55]\n",
    "a.sort()\n",
    "print(a)"
   ]
  },
  {
   "cell_type": "code",
   "execution_count": 19,
   "id": "5619c3d6-f079-4994-bafd-8c83c29a802e",
   "metadata": {},
   "outputs": [
    {
     "name": "stdout",
     "output_type": "stream",
     "text": [
      "[45, 55, 66, 77, 90]\n"
     ]
    }
   ],
   "source": [
    "b.sort()\n",
    "print(b)"
   ]
  },
  {
   "cell_type": "code",
   "execution_count": 20,
   "id": "2ccdf23a-5969-44c6-9ad0-1abef807eb86",
   "metadata": {},
   "outputs": [
    {
     "name": "stdout",
     "output_type": "stream",
     "text": [
      "[45, 55, 56, 66, 67, 77, 78, 79, 88, 90]\n"
     ]
    }
   ],
   "source": [
    "c = a+b\n",
    "c.sort()\n",
    "print(c)"
   ]
  },
  {
   "cell_type": "code",
   "execution_count": 26,
   "id": "478486da-cdaa-46f4-ae4b-eef705e30185",
   "metadata": {},
   "outputs": [
    {
     "name": "stdin",
     "output_type": "stream",
     "text": [
      "Enter the starting number:  12\n",
      "Enter the ending number:  25\n"
     ]
    },
    {
     "name": "stdout",
     "output_type": "stream",
     "text": [
      "Prime numbers within the range: [13, 17, 19, 23]\n"
     ]
    }
   ],
   "source": [
    "start = int(input(\"Enter the starting number: \"))\n",
    "end = int(input(\"Enter the ending number: \"))\n",
    "\n",
    "prime_numbers = []\n",
    "\n",
    "for num in range(start, end + 1):\n",
    "    if num > 1:\n",
    "        for i in range(2, num):\n",
    "            if (num % i) == 0:\n",
    "                break\n",
    "        else:\n",
    "            prime_numbers.append(num)\n",
    "\n",
    "print(\"Prime numbers within the range:\", prime_numbers)\n"
   ]
  },
  {
   "cell_type": "code",
   "execution_count": 30,
   "id": "c5b48c4f-d6d1-44e3-ac18-f0f188cca498",
   "metadata": {},
   "outputs": [
    {
     "name": "stdin",
     "output_type": "stream",
     "text": [
      "Enter a number:  21\n"
     ]
    },
    {
     "name": "stdout",
     "output_type": "stream",
     "text": [
      "sum  = 231\n"
     ]
    }
   ],
   "source": [
    "n = int(input(\"Enter a number: \"))\n",
    "\n",
    "sum = 0\n",
    "for i in range(1, n+1):\n",
    "    sum += i\n",
    "\n",
    "print(f\"sum  = {sum}\")"
   ]
  },
  {
   "cell_type": "code",
   "execution_count": 35,
   "id": "3b3fc2e7-d3d4-43e5-ac34-edfcefae774e",
   "metadata": {},
   "outputs": [
    {
     "name": "stdin",
     "output_type": "stream",
     "text": [
      "Enter a number:  4\n",
      "Enter a number:  5\n",
      "Enter a number:  6\n",
      "Enter a number:  7\n",
      "Enter a number:  8\n"
     ]
    },
    {
     "name": "stdout",
     "output_type": "stream",
     "text": [
      "Largest number: 8\n",
      "Smallest number: 4\n"
     ]
    }
   ],
   "source": [
    "numb = []\n",
    "\n",
    "for i in range(5):\n",
    "    num = int(input(\"Enter a number: \"))\n",
    "    numb.append(num)\n",
    "\n",
    "largest = max(numb)\n",
    "smallest = min(numb)\n",
    "\n",
    "print(f\"Largest number: {largest}\")\n",
    "print(f\"Smallest number: {smallest}\")"
   ]
  },
  {
   "cell_type": "code",
   "execution_count": 38,
   "id": "b86133ee-e2b4-47ef-ad3b-2335e69ee8f8",
   "metadata": {},
   "outputs": [
    {
     "name": "stdin",
     "output_type": "stream",
     "text": [
      "Enter a anumber: 21\n",
      "Enter a anumber: 23\n",
      "Enter a anumber: 45\n",
      "Enter a anumber: 32\n",
      "Enter a anumber: 11\n"
     ]
    },
    {
     "name": "stdout",
     "output_type": "stream",
     "text": [
      "[23, 11]\n"
     ]
    }
   ],
   "source": [
    "# sir logic\n",
    "data = []\n",
    "for i in range(5):\n",
    "    n=int(input(\"Enter a anumber:\"))\n",
    "    data.append(n)\n",
    "prime = []\n",
    "for n in data:\n",
    "    c = 0\n",
    "    for i in range(2,n):\n",
    "        if(n%i == 0):\n",
    "            c = 1\n",
    "            break\n",
    "    if(c == 0):\n",
    "        prime.append(n)\n",
    "\n",
    "print(prime)"
   ]
  },
  {
   "cell_type": "code",
   "execution_count": null,
   "id": "e14be11d-4ec8-48cf-bac4-aca080e3af5a",
   "metadata": {},
   "outputs": [],
   "source": []
  }
 ],
 "metadata": {
  "kernelspec": {
   "display_name": "Python 3 (ipykernel)",
   "language": "python",
   "name": "python3"
  },
  "language_info": {
   "codemirror_mode": {
    "name": "ipython",
    "version": 3
   },
   "file_extension": ".py",
   "mimetype": "text/x-python",
   "name": "python",
   "nbconvert_exporter": "python",
   "pygments_lexer": "ipython3",
   "version": "3.11.7"
  }
 },
 "nbformat": 4,
 "nbformat_minor": 5
}
