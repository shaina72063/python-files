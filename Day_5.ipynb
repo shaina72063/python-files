{
 "cells": [
  {
   "cell_type": "code",
   "execution_count": 1,
   "id": "7b449664-66d3-4b1c-b567-3a8a92c4abaa",
   "metadata": {},
   "outputs": [
    {
     "data": {
      "text/plain": [
       "'set is used to store multiple data items in a single variable. The items stores in set are unordered/unimdexed and unchangeable but we can add and \\nremove the data items.'"
      ]
     },
     "execution_count": 1,
     "metadata": {},
     "output_type": "execute_result"
    }
   ],
   "source": [
    "'''set is used to store multiple data items in a single variable. The items stores in set are unordered/unimdexed and unchangeable but we can add and \n",
    "remove the data items.'''\n"
   ]
  },
  {
   "cell_type": "code",
   "execution_count": 4,
   "id": "fe104f75-4d16-4cd6-b859-65e48c2e59cf",
   "metadata": {},
   "outputs": [],
   "source": [
    "#creating a set\n",
    "company = {'tcs','wipro','itm','satyam','black rock','flip cart'}"
   ]
  },
  {
   "cell_type": "code",
   "execution_count": 5,
   "id": "c0131873-e78e-4182-94e9-cd2c65477f17",
   "metadata": {},
   "outputs": [
    {
     "name": "stdout",
     "output_type": "stream",
     "text": [
      "{'satyam', 'tcs', 'wipro', 'itm', 'flip cart', 'black rock'}\n"
     ]
    }
   ],
   "source": [
    "print(company)"
   ]
  },
  {
   "cell_type": "code",
   "execution_count": 6,
   "id": "89f954b7-039b-4ef8-b67d-23be59f707c9",
   "metadata": {},
   "outputs": [
    {
     "ename": "NameError",
     "evalue": "name 'set1' is not defined",
     "output_type": "error",
     "traceback": [
      "\u001b[1;31m---------------------------------------------------------------------------\u001b[0m",
      "\u001b[1;31mNameError\u001b[0m                                 Traceback (most recent call last)",
      "Cell \u001b[1;32mIn[6], line 1\u001b[0m\n\u001b[1;32m----> 1\u001b[0m set1[\u001b[38;5;241m0\u001b[39m] \u001b[38;5;241m=\u001b[39m \u001b[38;5;124m'\u001b[39m\u001b[38;5;124mapple\u001b[39m\u001b[38;5;124m'\u001b[39m\n",
      "\u001b[1;31mNameError\u001b[0m: name 'set1' is not defined"
     ]
    }
   ],
   "source": [
    "set1[0] = 'apple'"
   ]
  },
  {
   "cell_type": "code",
   "execution_count": 7,
   "id": "1dcb5cda-1973-4d36-acf2-935217a5f342",
   "metadata": {},
   "outputs": [
    {
     "data": {
      "text/plain": [
       "set"
      ]
     },
     "execution_count": 7,
     "metadata": {},
     "output_type": "execute_result"
    }
   ],
   "source": [
    "type(company)"
   ]
  },
  {
   "cell_type": "code",
   "execution_count": 8,
   "id": "239e410d-bd00-4bb9-a492-540c56bc6673",
   "metadata": {},
   "outputs": [],
   "source": [
    "top_companies = set(('wipro', 'flip cart', 'tcs', 'black rock', 'satyam', 'itm'))"
   ]
  },
  {
   "cell_type": "code",
   "execution_count": 9,
   "id": "2e92db6d-b073-4ecd-9ad0-e39f531753dc",
   "metadata": {},
   "outputs": [
    {
     "name": "stdout",
     "output_type": "stream",
     "text": [
      "{'satyam', 'flip cart', 'black rock', 'tcs', 'wipro', 'itm'}\n"
     ]
    }
   ],
   "source": [
    "print(top_companies)"
   ]
  },
  {
   "cell_type": "code",
   "execution_count": 10,
   "id": "6be92640-88e9-4043-8b51-5a1085a81ca9",
   "metadata": {},
   "outputs": [
    {
     "data": {
      "text/plain": [
       "set"
      ]
     },
     "execution_count": 10,
     "metadata": {},
     "output_type": "execute_result"
    }
   ],
   "source": [
    "type(top_companies)\n"
   ]
  },
  {
   "cell_type": "code",
   "execution_count": 11,
   "id": "a5371436-048e-4490-b615-0e78132703ce",
   "metadata": {},
   "outputs": [],
   "source": [
    "#adding data items in set\n",
    "company.add(\"google\")"
   ]
  },
  {
   "cell_type": "code",
   "execution_count": 12,
   "id": "973029c4-7b94-464a-8bc3-82ee95e8a996",
   "metadata": {},
   "outputs": [
    {
     "name": "stdout",
     "output_type": "stream",
     "text": [
      "{'satyam', 'tcs', 'wipro', 'itm', 'google', 'flip cart', 'black rock'}\n"
     ]
    }
   ],
   "source": [
    "print(company)"
   ]
  },
  {
   "cell_type": "code",
   "execution_count": 13,
   "id": "a9698102-3432-495a-869d-753a0b232c77",
   "metadata": {},
   "outputs": [
    {
     "ename": "TypeError",
     "evalue": "set.add() takes exactly one argument (2 given)",
     "output_type": "error",
     "traceback": [
      "\u001b[1;31m---------------------------------------------------------------------------\u001b[0m",
      "\u001b[1;31mTypeError\u001b[0m                                 Traceback (most recent call last)",
      "Cell \u001b[1;32mIn[13], line 1\u001b[0m\n\u001b[1;32m----> 1\u001b[0m company\u001b[38;5;241m.\u001b[39madd(\u001b[38;5;124m\"\u001b[39m\u001b[38;5;124mmiso\u001b[39m\u001b[38;5;124m\"\u001b[39m,\u001b[38;5;124m\"\u001b[39m\u001b[38;5;124mfacebook\u001b[39m\u001b[38;5;124m\"\u001b[39m)\n",
      "\u001b[1;31mTypeError\u001b[0m: set.add() takes exactly one argument (2 given)"
     ]
    }
   ],
   "source": [
    "company.add(\"miso\",\"facebook\")"
   ]
  },
  {
   "cell_type": "code",
   "execution_count": 14,
   "id": "9c06657c-73e8-42cc-84e5-99944e43d780",
   "metadata": {},
   "outputs": [],
   "source": [
    "rank = {1,2,3,4,5}"
   ]
  },
  {
   "cell_type": "code",
   "execution_count": 15,
   "id": "ca633434-3920-4dc7-8a3a-f83c6d32e554",
   "metadata": {},
   "outputs": [],
   "source": [
    "company.update(rank)"
   ]
  },
  {
   "cell_type": "code",
   "execution_count": 16,
   "id": "7a8b21a9-329c-4cfe-94ec-a38cedb0b3c6",
   "metadata": {},
   "outputs": [
    {
     "name": "stdout",
     "output_type": "stream",
     "text": [
      "{'satyam', 1, 2, 3, 4, 5, 'flip cart', 'black rock', 'tcs', 'wipro', 'itm', 'google'}\n"
     ]
    }
   ],
   "source": [
    "print(company)"
   ]
  },
  {
   "cell_type": "code",
   "execution_count": 17,
   "id": "5ec55b47-cc81-45a1-9c74-91e423022510",
   "metadata": {},
   "outputs": [],
   "source": [
    "fruits = {'banana','apple'}"
   ]
  },
  {
   "cell_type": "code",
   "execution_count": 18,
   "id": "e11b781e-07ff-4a46-9568-e9f8f2037536",
   "metadata": {},
   "outputs": [],
   "source": [
    "seasional_fruits = {'guava','grapes','mango'}"
   ]
  },
  {
   "cell_type": "code",
   "execution_count": 19,
   "id": "64d94c92-c7f2-4cb4-a75f-e818bd7b7a2b",
   "metadata": {},
   "outputs": [],
   "source": [
    "fruits.update(seasional_fruits)"
   ]
  },
  {
   "cell_type": "code",
   "execution_count": 20,
   "id": "94e68694-6b62-49c0-bca1-5ee19373a3b5",
   "metadata": {},
   "outputs": [
    {
     "name": "stdout",
     "output_type": "stream",
     "text": [
      "{'guava', 'mango', 'banana', 'apple', 'grapes'}\n"
     ]
    }
   ],
   "source": [
    "print(fruits)"
   ]
  },
  {
   "cell_type": "code",
   "execution_count": 21,
   "id": "58a453a1-f560-4456-8ced-e830c53c2bb2",
   "metadata": {},
   "outputs": [],
   "source": [
    "#remove items from set\n",
    "fruits.remove(\"grapes\")"
   ]
  },
  {
   "cell_type": "code",
   "execution_count": 22,
   "id": "1f5a6a46-eddd-46b3-8b73-0eb729efd7f7",
   "metadata": {},
   "outputs": [
    {
     "data": {
      "text/plain": [
       "{'apple', 'banana', 'guava', 'mango'}"
      ]
     },
     "execution_count": 22,
     "metadata": {},
     "output_type": "execute_result"
    }
   ],
   "source": [
    "fruits"
   ]
  },
  {
   "cell_type": "code",
   "execution_count": 23,
   "id": "bda949ec-5a7d-41ae-ab39-5d7690534fd1",
   "metadata": {},
   "outputs": [
    {
     "ename": "KeyError",
     "evalue": "'papaya'",
     "output_type": "error",
     "traceback": [
      "\u001b[1;31m---------------------------------------------------------------------------\u001b[0m",
      "\u001b[1;31mKeyError\u001b[0m                                  Traceback (most recent call last)",
      "Cell \u001b[1;32mIn[23], line 1\u001b[0m\n\u001b[1;32m----> 1\u001b[0m fruits\u001b[38;5;241m.\u001b[39mremove(\u001b[38;5;124m\"\u001b[39m\u001b[38;5;124mpapaya\u001b[39m\u001b[38;5;124m\"\u001b[39m)\n",
      "\u001b[1;31mKeyError\u001b[0m: 'papaya'"
     ]
    }
   ],
   "source": [
    "fruits.remove(\"papaya\")"
   ]
  },
  {
   "cell_type": "code",
   "execution_count": 24,
   "id": "be56c680-d9a9-478c-8bed-d3bea8ada9a7",
   "metadata": {},
   "outputs": [],
   "source": [
    "#discard() - is used to remove the data items from list if the given data item is not present in list , it will not display any error"
   ]
  },
  {
   "cell_type": "code",
   "execution_count": 25,
   "id": "1509fd66-15ef-4cf6-b119-01fd4c47c63e",
   "metadata": {},
   "outputs": [],
   "source": [
    "fruits.discard(\"apple\")"
   ]
  },
  {
   "cell_type": "code",
   "execution_count": 26,
   "id": "053fbf17-d8c1-4ddf-9893-bc4dd6b6d5c6",
   "metadata": {},
   "outputs": [
    {
     "data": {
      "text/plain": [
       "{'banana', 'guava', 'mango'}"
      ]
     },
     "execution_count": 26,
     "metadata": {},
     "output_type": "execute_result"
    }
   ],
   "source": [
    "fruits"
   ]
  },
  {
   "cell_type": "code",
   "execution_count": 27,
   "id": "594c9b2a-3509-464f-bff0-f42bfbc871b5",
   "metadata": {},
   "outputs": [],
   "source": [
    "fruits.discard(\"papaya\")"
   ]
  },
  {
   "cell_type": "code",
   "execution_count": 28,
   "id": "7969a888-f97f-433f-b65c-219dcb6e016a",
   "metadata": {},
   "outputs": [
    {
     "data": {
      "text/plain": [
       "{'banana', 'guava', 'mango'}"
      ]
     },
     "execution_count": 28,
     "metadata": {},
     "output_type": "execute_result"
    }
   ],
   "source": [
    "fruits"
   ]
  },
  {
   "cell_type": "code",
   "execution_count": 29,
   "id": "e765090b-21d4-45de-a704-84f179ee9d14",
   "metadata": {},
   "outputs": [],
   "source": [
    "drop = fruits.pop()"
   ]
  },
  {
   "cell_type": "code",
   "execution_count": 30,
   "id": "1f372909-bc99-4a51-85c3-4dee2d83d30d",
   "metadata": {},
   "outputs": [
    {
     "data": {
      "text/plain": [
       "'guava'"
      ]
     },
     "execution_count": 30,
     "metadata": {},
     "output_type": "execute_result"
    }
   ],
   "source": [
    "drop"
   ]
  },
  {
   "cell_type": "code",
   "execution_count": 32,
   "id": "6d552801-42be-478a-b5c4-d3ce91bed84d",
   "metadata": {},
   "outputs": [
    {
     "name": "stdout",
     "output_type": "stream",
     "text": [
      "{'satyam', 1, 2, 3, 4, 5, 'flip cart', 'black rock', 'tcs', 'wipro', 'itm', 'google'}\n"
     ]
    }
   ],
   "source": [
    "print(company)"
   ]
  },
  {
   "cell_type": "code",
   "execution_count": 33,
   "id": "6b0e581b-3c3a-422f-813e-528c3aefe6f7",
   "metadata": {},
   "outputs": [],
   "source": [
    "drop2 = company.pop()"
   ]
  },
  {
   "cell_type": "code",
   "execution_count": 34,
   "id": "186f0e30-892d-4b5d-9bea-ac0922d729f3",
   "metadata": {},
   "outputs": [
    {
     "data": {
      "text/plain": [
       "'satyam'"
      ]
     },
     "execution_count": 34,
     "metadata": {},
     "output_type": "execute_result"
    }
   ],
   "source": [
    "drop2"
   ]
  },
  {
   "cell_type": "code",
   "execution_count": 35,
   "id": "bb4cf642-b047-4f19-a585-87be06983890",
   "metadata": {},
   "outputs": [],
   "source": [
    "drop3 = company.pop()"
   ]
  },
  {
   "cell_type": "code",
   "execution_count": 36,
   "id": "6df2a02d-f50b-415d-87cf-1e84f8847dad",
   "metadata": {},
   "outputs": [
    {
     "data": {
      "text/plain": [
       "1"
      ]
     },
     "execution_count": 36,
     "metadata": {},
     "output_type": "execute_result"
    }
   ],
   "source": [
    "drop3"
   ]
  },
  {
   "cell_type": "markdown",
   "id": "32a899e1-e668-49c2-92dc-f439a3e96258",
   "metadata": {},
   "source": [
    "# join"
   ]
  },
  {
   "cell_type": "code",
   "execution_count": 38,
   "id": "797bd40e-9ae2-4481-a9c6-d86692733ae7",
   "metadata": {},
   "outputs": [],
   "source": [
    "s1 = {1,2,3,4,5,6}\n",
    "s2 = {5,6,7,8}\n",
    "s3 = {8,9,10,11}"
   ]
  },
  {
   "cell_type": "code",
   "execution_count": 39,
   "id": "c0de6708-012a-4a7e-a532-b0a63356c4c2",
   "metadata": {},
   "outputs": [
    {
     "data": {
      "text/plain": [
       "{1, 2, 3, 4, 5, 6, 7, 8}"
      ]
     },
     "execution_count": 39,
     "metadata": {},
     "output_type": "execute_result"
    }
   ],
   "source": [
    "s1.union(s2)"
   ]
  },
  {
   "cell_type": "code",
   "execution_count": 40,
   "id": "8c531557-4e7b-4a7a-a3b6-c1d694af5bd1",
   "metadata": {},
   "outputs": [
    {
     "data": {
      "text/plain": [
       "{1, 2, 3, 4, 5, 6, 7, 8, 9, 10, 11}"
      ]
     },
     "execution_count": 40,
     "metadata": {},
     "output_type": "execute_result"
    }
   ],
   "source": [
    "s1.union(s2,s3)"
   ]
  },
  {
   "cell_type": "code",
   "execution_count": 49,
   "id": "1de69808-c571-4894-8b72-ca0f9fdb4495",
   "metadata": {},
   "outputs": [],
   "source": [
    "set1 = {'ana','shaina','nonu','vani'}\n",
    "set2 = {'tanni','lakshi','anshul','nonu'}\n",
    "set3 = {'kajal','yash','vani','lakshi','nonu'}"
   ]
  },
  {
   "cell_type": "code",
   "execution_count": 42,
   "id": "cde2f659-98e3-47b6-baaa-7930ef5c20fb",
   "metadata": {},
   "outputs": [],
   "source": [
    "name = set1 | set2 | set3"
   ]
  },
  {
   "cell_type": "code",
   "execution_count": 43,
   "id": "a79be459-07af-4e3f-92c4-6840db4782f6",
   "metadata": {},
   "outputs": [
    {
     "name": "stdout",
     "output_type": "stream",
     "text": [
      "{'vani', 'anshul', 'nonu', 'tanni', 'kajal', 'lakshi', 'ana', 'shaina', 'yash'}\n"
     ]
    }
   ],
   "source": [
    "print(name)"
   ]
  },
  {
   "cell_type": "code",
   "execution_count": 47,
   "id": "fcdbd58f-a0ad-4884-84e1-25ab4e660d64",
   "metadata": {},
   "outputs": [
    {
     "data": {
      "text/plain": [
       "{'lakshi'}"
      ]
     },
     "execution_count": 47,
     "metadata": {},
     "output_type": "execute_result"
    }
   ],
   "source": [
    "#intersection\n",
    "set2.intersection(set3)"
   ]
  },
  {
   "cell_type": "code",
   "execution_count": 48,
   "id": "d9fa8559-2c6c-479b-811c-f6f2604f985d",
   "metadata": {},
   "outputs": [
    {
     "data": {
      "text/plain": [
       "{'nonu'}"
      ]
     },
     "execution_count": 48,
     "metadata": {},
     "output_type": "execute_result"
    }
   ],
   "source": [
    "set1.intersection(set2)"
   ]
  },
  {
   "cell_type": "code",
   "execution_count": 50,
   "id": "6dc63cd2-01b6-4e24-860e-5a18ce5e46b4",
   "metadata": {},
   "outputs": [],
   "source": [
    "common_name = set1 & set2 & set3"
   ]
  },
  {
   "cell_type": "code",
   "execution_count": 51,
   "id": "1abdd3ff-c625-4fce-ac45-80882238a3dd",
   "metadata": {},
   "outputs": [
    {
     "data": {
      "text/plain": [
       "{'nonu'}"
      ]
     },
     "execution_count": 51,
     "metadata": {},
     "output_type": "execute_result"
    }
   ],
   "source": [
    "common_name"
   ]
  },
  {
   "cell_type": "code",
   "execution_count": 52,
   "id": "ba9a9752-be7e-48ce-88d6-37acf3ef428d",
   "metadata": {},
   "outputs": [],
   "source": [
    "#difference\n",
    "dif = set1 - set2"
   ]
  },
  {
   "cell_type": "code",
   "execution_count": 53,
   "id": "2eb9cd34-58a0-4a62-ad33-88ff0ec2cc53",
   "metadata": {},
   "outputs": [
    {
     "name": "stdout",
     "output_type": "stream",
     "text": [
      "{'vani', 'ana', 'shaina'}\n"
     ]
    }
   ],
   "source": [
    "print(dif)"
   ]
  },
  {
   "cell_type": "code",
   "execution_count": null,
   "id": "d8948fff-8ad2-429c-9ade-f53a1b308698",
   "metadata": {},
   "outputs": [],
   "source": []
  }
 ],
 "metadata": {
  "kernelspec": {
   "display_name": "Python 3 (ipykernel)",
   "language": "python",
   "name": "python3"
  },
  "language_info": {
   "codemirror_mode": {
    "name": "ipython",
    "version": 3
   },
   "file_extension": ".py",
   "mimetype": "text/x-python",
   "name": "python",
   "nbconvert_exporter": "python",
   "pygments_lexer": "ipython3",
   "version": "3.11.7"
  }
 },
 "nbformat": 4,
 "nbformat_minor": 5
}
