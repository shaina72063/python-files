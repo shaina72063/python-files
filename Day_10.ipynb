{
 "cells": [
  {
   "cell_type": "code",
   "execution_count": 3,
   "id": "9e3a297b-c5ff-4091-b2d6-f8ccbb6e501b",
   "metadata": {},
   "outputs": [],
   "source": [
    "import numpy as np"
   ]
  },
  {
   "cell_type": "code",
   "execution_count": 4,
   "id": "48258270-4662-4da3-b4c7-00fefe0e4bea",
   "metadata": {},
   "outputs": [],
   "source": [
    "arr = np.array([[1,2,3,4],[5,6,7,8],[9,10,11,12]])\n"
   ]
  },
  {
   "cell_type": "code",
   "execution_count": 5,
   "id": "0887f520-d77b-4103-a3b6-d81a0ab5492d",
   "metadata": {},
   "outputs": [
    {
     "name": "stdout",
     "output_type": "stream",
     "text": [
      "[[ 1  2  3  4]\n",
      " [ 5  6  7  8]\n",
      " [ 9 10 11 12]]\n"
     ]
    }
   ],
   "source": [
    "print(arr)"
   ]
  },
  {
   "cell_type": "code",
   "execution_count": 6,
   "id": "84731ffd-31c0-4968-bdee-948358518638",
   "metadata": {},
   "outputs": [
    {
     "data": {
      "text/plain": [
       "(3, 4)"
      ]
     },
     "execution_count": 6,
     "metadata": {},
     "output_type": "execute_result"
    }
   ],
   "source": [
    "arr.shape"
   ]
  },
  {
   "cell_type": "code",
   "execution_count": 7,
   "id": "135873b4-d6b8-47ff-98b0-535c5b8b32b8",
   "metadata": {},
   "outputs": [
    {
     "data": {
      "text/plain": [
       "8"
      ]
     },
     "execution_count": 7,
     "metadata": {},
     "output_type": "execute_result"
    }
   ],
   "source": [
    "# accessing specific elements of 2d array - array[raws , columns]\n",
    "arr[1,3]"
   ]
  },
  {
   "cell_type": "code",
   "execution_count": 6,
   "id": "79d91c75-dcfc-408d-8f1b-49aed91caf5f",
   "metadata": {},
   "outputs": [
    {
     "data": {
      "text/plain": [
       "array([ 4,  8, 12])"
      ]
     },
     "execution_count": 6,
     "metadata": {},
     "output_type": "execute_result"
    }
   ],
   "source": [
    "arr[:,3]"
   ]
  },
  {
   "cell_type": "code",
   "execution_count": 9,
   "id": "1aa44216-7baf-4963-a157-9be0ba9754b0",
   "metadata": {},
   "outputs": [
    {
     "data": {
      "text/plain": [
       "array([[2, 3],\n",
       "       [6, 7]])"
      ]
     },
     "execution_count": 9,
     "metadata": {},
     "output_type": "execute_result"
    }
   ],
   "source": [
    "arr[:2,1:3]"
   ]
  },
  {
   "cell_type": "code",
   "execution_count": 14,
   "id": "92b27a41-3216-43e4-b6cc-892e3b5c59a7",
   "metadata": {},
   "outputs": [],
   "source": [
    "# creating all 0s matrix\n",
    "a = np.zeros((3,4),dtype = \"int32\")"
   ]
  },
  {
   "cell_type": "code",
   "execution_count": 15,
   "id": "ce51a5da-f167-41b3-96c0-098a3f9da9ba",
   "metadata": {},
   "outputs": [
    {
     "name": "stdout",
     "output_type": "stream",
     "text": [
      "[[0 0 0 0]\n",
      " [0 0 0 0]\n",
      " [0 0 0 0]]\n"
     ]
    }
   ],
   "source": [
    "print(a)"
   ]
  },
  {
   "cell_type": "code",
   "execution_count": 16,
   "id": "1490aa04-6024-4683-92ca-4ab0ea97233e",
   "metadata": {},
   "outputs": [],
   "source": [
    "#creating all ones matrix"
   ]
  },
  {
   "cell_type": "code",
   "execution_count": 18,
   "id": "608f80fe-c5b1-4458-8f7e-afb2c85a0dae",
   "metadata": {},
   "outputs": [
    {
     "name": "stdout",
     "output_type": "stream",
     "text": [
      "[[1 1 1 1 1]\n",
      " [1 1 1 1 1]\n",
      " [1 1 1 1 1]\n",
      " [1 1 1 1 1]]\n"
     ]
    }
   ],
   "source": [
    "b= np.ones((4,5),dtype=\"int32\")\n",
    "print(b)"
   ]
  },
  {
   "cell_type": "code",
   "execution_count": 26,
   "id": "6e537aa4-d60d-4f39-970d-a9856fc2d27e",
   "metadata": {},
   "outputs": [],
   "source": [
    "b[:,1:3] = 10"
   ]
  },
  {
   "cell_type": "code",
   "execution_count": 27,
   "id": "5da95d63-46be-409a-a780-3b9e096cb022",
   "metadata": {},
   "outputs": [
    {
     "name": "stdout",
     "output_type": "stream",
     "text": [
      "[[10 10 10  1  1]\n",
      " [10 10 10  1  1]\n",
      " [10 10 10  1  1]\n",
      " [10 10 10  1  1]]\n"
     ]
    }
   ],
   "source": [
    "print(b)"
   ]
  },
  {
   "cell_type": "code",
   "execution_count": 29,
   "id": "9fc081eb-f798-4251-afb0-60b7a6a240d8",
   "metadata": {},
   "outputs": [],
   "source": [
    "b[:2,3:5]=4"
   ]
  },
  {
   "cell_type": "code",
   "execution_count": 30,
   "id": "61499112-43d8-4fce-8232-58117e17ad04",
   "metadata": {},
   "outputs": [
    {
     "name": "stdout",
     "output_type": "stream",
     "text": [
      "[[10 10 10  4  4]\n",
      " [10 10 10  4  4]\n",
      " [10 10 10  1  1]\n",
      " [10 10 10  1  1]]\n"
     ]
    }
   ],
   "source": [
    "print(b)"
   ]
  },
  {
   "cell_type": "code",
   "execution_count": 31,
   "id": "19582179-452a-4294-b4ba-09fdc1ed564d",
   "metadata": {},
   "outputs": [
    {
     "name": "stdout",
     "output_type": "stream",
     "text": [
      "[[10 10 10  4  4]\n",
      " [10 10 10  4  4]\n",
      " [10 10 10  5  5]\n",
      " [10 10 10  5  5]]\n"
     ]
    }
   ],
   "source": [
    "b[2:4,3:5]=5\n",
    "print(b)"
   ]
  },
  {
   "cell_type": "code",
   "execution_count": 32,
   "id": "49b36f78-64bc-4ea6-b3d3-509fa323c9b7",
   "metadata": {},
   "outputs": [],
   "source": [
    "c = np.full(b.shape,99)"
   ]
  },
  {
   "cell_type": "code",
   "execution_count": 33,
   "id": "d968791e-d962-40af-bc19-1c814bd7e324",
   "metadata": {},
   "outputs": [
    {
     "name": "stdout",
     "output_type": "stream",
     "text": [
      "[[99 99 99 99 99]\n",
      " [99 99 99 99 99]\n",
      " [99 99 99 99 99]\n",
      " [99 99 99 99 99]]\n"
     ]
    }
   ],
   "source": [
    "print(c)"
   ]
  },
  {
   "cell_type": "code",
   "execution_count": 34,
   "id": "45b349b5-0eb5-4cf6-8f1c-9e999175d7dc",
   "metadata": {},
   "outputs": [],
   "source": [
    "d = np.full_like(c,5)"
   ]
  },
  {
   "cell_type": "code",
   "execution_count": 35,
   "id": "c7168a96-6482-4610-bfa2-cc0365e2a2d3",
   "metadata": {},
   "outputs": [
    {
     "name": "stdout",
     "output_type": "stream",
     "text": [
      "[[5 5 5 5 5]\n",
      " [5 5 5 5 5]\n",
      " [5 5 5 5 5]\n",
      " [5 5 5 5 5]]\n"
     ]
    }
   ],
   "source": [
    "print(d)"
   ]
  },
  {
   "cell_type": "code",
   "execution_count": 38,
   "id": "0693e756-709d-436e-b8d7-b3aba7ef1075",
   "metadata": {},
   "outputs": [
    {
     "name": "stdout",
     "output_type": "stream",
     "text": [
      "[[1 1 1]\n",
      " [1 1 1]\n",
      " [1 1 1]]\n"
     ]
    }
   ],
   "source": [
    "n1 = np.ones((3,3),dtype =\"int32\")\n",
    "print(n1)"
   ]
  },
  {
   "cell_type": "code",
   "execution_count": 39,
   "id": "856896b7-ce84-4529-84a9-445dbe006119",
   "metadata": {},
   "outputs": [
    {
     "name": "stdout",
     "output_type": "stream",
     "text": [
      "[[2 2 2]\n",
      " [2 2 2]\n",
      " [2 2 2]]\n"
     ]
    }
   ],
   "source": [
    "n2 = np.full_like(n1,2)\n",
    "print(n2)"
   ]
  },
  {
   "cell_type": "code",
   "execution_count": 40,
   "id": "cdba5a42-7da3-4fe6-b913-178db18c21d9",
   "metadata": {},
   "outputs": [],
   "source": [
    "n3 = n1+n2"
   ]
  },
  {
   "cell_type": "code",
   "execution_count": 41,
   "id": "b36a5dd0-16db-42ea-8de0-1ec240b8b64c",
   "metadata": {},
   "outputs": [
    {
     "name": "stdout",
     "output_type": "stream",
     "text": [
      "[[3 3 3]\n",
      " [3 3 3]\n",
      " [3 3 3]]\n"
     ]
    }
   ],
   "source": [
    "print(n3)"
   ]
  },
  {
   "cell_type": "code",
   "execution_count": 42,
   "id": "b495c537-2929-4b2d-87fb-8e75f414e3e6",
   "metadata": {},
   "outputs": [
    {
     "name": "stdout",
     "output_type": "stream",
     "text": [
      "[[6 6 6]\n",
      " [6 6 6]\n",
      " [6 6 6]]\n"
     ]
    }
   ],
   "source": [
    "n= n3*n2\n",
    "print(n)"
   ]
  },
  {
   "cell_type": "code",
   "execution_count": 43,
   "id": "750b60e4-fcc9-45fa-82c2-7ee8fff5aa55",
   "metadata": {},
   "outputs": [],
   "source": [
    "#creating 3d-array"
   ]
  },
  {
   "cell_type": "code",
   "execution_count": 46,
   "id": "4ac2ce0c-0d11-469e-afd3-112dd6536fb1",
   "metadata": {},
   "outputs": [],
   "source": [
    "arr = np.array([[[1,2,3],[4,5,6]],[[7,8,9],[10,11,12]]])"
   ]
  },
  {
   "cell_type": "code",
   "execution_count": 47,
   "id": "7b0673d8-ced5-4fc3-9702-709f77b35b1f",
   "metadata": {},
   "outputs": [
    {
     "name": "stdout",
     "output_type": "stream",
     "text": [
      "[[[ 1  2  3]\n",
      "  [ 4  5  6]]\n",
      "\n",
      " [[ 7  8  9]\n",
      "  [10 11 12]]]\n"
     ]
    }
   ],
   "source": [
    "print(arr)"
   ]
  },
  {
   "cell_type": "code",
   "execution_count": 49,
   "id": "2f3585e9-3b4d-44c0-9f7f-d72727a8b8be",
   "metadata": {},
   "outputs": [
    {
     "data": {
      "text/plain": [
       "5"
      ]
     },
     "execution_count": 49,
     "metadata": {},
     "output_type": "execute_result"
    }
   ],
   "source": [
    "arr[0,1,1]"
   ]
  },
  {
   "cell_type": "code",
   "execution_count": 50,
   "id": "9ef8b271-2c69-4120-a96d-62a4f728bb2e",
   "metadata": {},
   "outputs": [
    {
     "data": {
      "text/plain": [
       "12"
      ]
     },
     "execution_count": 50,
     "metadata": {},
     "output_type": "execute_result"
    }
   ],
   "source": [
    "arr[1,1,2]"
   ]
  },
  {
   "cell_type": "code",
   "execution_count": 51,
   "id": "54ffb0e9-297c-4106-947c-291657d2d2c4",
   "metadata": {},
   "outputs": [
    {
     "data": {
      "text/plain": [
       "8"
      ]
     },
     "execution_count": 51,
     "metadata": {},
     "output_type": "execute_result"
    }
   ],
   "source": [
    "arr[1,0,1]"
   ]
  },
  {
   "cell_type": "code",
   "execution_count": 52,
   "id": "1b454f8e-ebea-4359-a96c-43f7f35cab83",
   "metadata": {},
   "outputs": [
    {
     "data": {
      "text/plain": [
       "array([[2, 3],\n",
       "       [5, 6]])"
      ]
     },
     "execution_count": 52,
     "metadata": {},
     "output_type": "execute_result"
    }
   ],
   "source": [
    "arr[0,:,1:3]"
   ]
  },
  {
   "cell_type": "code",
   "execution_count": 54,
   "id": "5164fa18-15b0-4e82-9910-ef858927220a",
   "metadata": {},
   "outputs": [],
   "source": [
    "arr[:,:,1:3] = 10"
   ]
  },
  {
   "cell_type": "code",
   "execution_count": 55,
   "id": "70043dbb-1b70-4309-959a-935e4f246dd7",
   "metadata": {},
   "outputs": [
    {
     "name": "stdout",
     "output_type": "stream",
     "text": [
      "[[[ 1 10 10]\n",
      "  [ 4 10 10]]\n",
      "\n",
      " [[ 7 10 10]\n",
      "  [10 10 10]]]\n"
     ]
    }
   ],
   "source": [
    "print(arr)"
   ]
  },
  {
   "cell_type": "code",
   "execution_count": 75,
   "id": "6f30cd56-7f50-412b-8a76-292810dd24cc",
   "metadata": {},
   "outputs": [
    {
     "name": "stdout",
     "output_type": "stream",
     "text": [
      "[ 1  2  3  4  5  6  7  8  9 10 11 12]\n"
     ]
    }
   ],
   "source": [
    "a = np.array([1,2,3,4,5,6,7,8,9,10,11,12])\n",
    "print(a)"
   ]
  },
  {
   "cell_type": "code",
   "execution_count": 68,
   "id": "6e14ec76-3e1b-42b3-ba6c-417f5aed4c16",
   "metadata": {},
   "outputs": [],
   "source": [
    "b=a.reshape(2,3,2)"
   ]
  },
  {
   "cell_type": "code",
   "execution_count": 76,
   "id": "8b1409a6-0575-426f-a888-167228c291ee",
   "metadata": {},
   "outputs": [
    {
     "name": "stdout",
     "output_type": "stream",
     "text": [
      "[[[ 1  2]\n",
      "  [ 3 10]\n",
      "  [10 10]]\n",
      "\n",
      " [[ 7  8]\n",
      "  [ 9 10]\n",
      "  [11 12]]]\n"
     ]
    }
   ],
   "source": [
    "print(b)"
   ]
  },
  {
   "cell_type": "code",
   "execution_count": 62,
   "id": "f18273f4-f5cc-4ff7-9021-b33f4cc16594",
   "metadata": {},
   "outputs": [],
   "source": [
    "# copying a array"
   ]
  },
  {
   "cell_type": "code",
   "execution_count": 77,
   "id": "8e0a49f3-0dc1-42b8-a429-8d5180e9d3ec",
   "metadata": {},
   "outputs": [
    {
     "name": "stdout",
     "output_type": "stream",
     "text": [
      "[ 1  2  3  4  5  6  7  8  9 10 11 12]\n"
     ]
    }
   ],
   "source": [
    "x = a.copy()\n",
    "print(x)"
   ]
  },
  {
   "cell_type": "code",
   "execution_count": 79,
   "id": "ad34f659-8743-4d06-91b6-0990fe6658b2",
   "metadata": {},
   "outputs": [],
   "source": [
    "#copy v/s view\n",
    "x[3:6] = 10"
   ]
  },
  {
   "cell_type": "code",
   "execution_count": 80,
   "id": "d8fb30b8-2521-4490-8add-a089ac70aca3",
   "metadata": {},
   "outputs": [
    {
     "name": "stdout",
     "output_type": "stream",
     "text": [
      "[ 1  2  3 10 10 10  7  8  9 10 11 12]\n"
     ]
    }
   ],
   "source": [
    "print(x)"
   ]
  },
  {
   "cell_type": "code",
   "execution_count": 81,
   "id": "20e0aa06-9b32-491c-b05a-6828cb861886",
   "metadata": {},
   "outputs": [
    {
     "name": "stdout",
     "output_type": "stream",
     "text": [
      "[ 1  2  3  4  5  6  7  8  9 10 11 12]\n"
     ]
    }
   ],
   "source": [
    "print(a)"
   ]
  },
  {
   "cell_type": "code",
   "execution_count": 82,
   "id": "5e68f79a-dcae-49b7-8f06-61a58f7201b2",
   "metadata": {},
   "outputs": [],
   "source": [
    "y =a.view()"
   ]
  },
  {
   "cell_type": "code",
   "execution_count": 83,
   "id": "d5c20702-41b1-498f-be45-b720c03a1797",
   "metadata": {},
   "outputs": [
    {
     "name": "stdout",
     "output_type": "stream",
     "text": [
      "[ 1  2  3  4  5  6  7  8  9 10 11 12]\n"
     ]
    }
   ],
   "source": [
    "print(y)"
   ]
  },
  {
   "cell_type": "code",
   "execution_count": 86,
   "id": "470b7eff-be56-4de2-82a9-7c4f8b929659",
   "metadata": {},
   "outputs": [
    {
     "name": "stdout",
     "output_type": "stream",
     "text": [
      "[ 1  2  3  4  9  9  9  9  9  9 11 12]\n"
     ]
    }
   ],
   "source": [
    "y[4:10]=9\n",
    "print(y)"
   ]
  },
  {
   "cell_type": "code",
   "execution_count": 87,
   "id": "2d507380-1421-4c02-9682-37e65b835540",
   "metadata": {},
   "outputs": [
    {
     "name": "stdout",
     "output_type": "stream",
     "text": [
      "[ 1  2  3  4  9  9  9  9  9  9 11 12]\n"
     ]
    }
   ],
   "source": [
    "print(a)"
   ]
  },
  {
   "cell_type": "code",
   "execution_count": 89,
   "id": "bf9b5e7b-9f0c-4d70-8328-cf37ef1c3926",
   "metadata": {},
   "outputs": [
    {
     "name": "stdout",
     "output_type": "stream",
     "text": [
      "4\n",
      "5\n",
      "6\n",
      "7\n",
      "12\n",
      "12\n",
      "12\n",
      "12\n",
      "12\n",
      "12\n",
      "14\n",
      "15\n"
     ]
    }
   ],
   "source": [
    "# iterating array's elements\n",
    "for i in a:\n",
    "    print(i+3)"
   ]
  },
  {
   "cell_type": "code",
   "execution_count": 90,
   "id": "46c5efca-dbc4-4302-bef8-05542c0c5880",
   "metadata": {},
   "outputs": [],
   "source": [
    "#iteration in 2-d array\n",
    "b = a.reshape(4,3)"
   ]
  },
  {
   "cell_type": "code",
   "execution_count": 91,
   "id": "0d87bd51-17c8-4b7d-83f0-5c7671712005",
   "metadata": {},
   "outputs": [
    {
     "name": "stdout",
     "output_type": "stream",
     "text": [
      "[[ 1  2  3]\n",
      " [ 4  9  9]\n",
      " [ 9  9  9]\n",
      " [ 9 11 12]]\n"
     ]
    }
   ],
   "source": [
    "print(b)"
   ]
  },
  {
   "cell_type": "code",
   "execution_count": 93,
   "id": "f4e76f17-8a28-4475-a949-035797734a29",
   "metadata": {},
   "outputs": [
    {
     "name": "stdout",
     "output_type": "stream",
     "text": [
      "[1 2 3]\n",
      "[4 9 9]\n",
      "[9 9 9]\n",
      "[ 9 11 12]\n"
     ]
    }
   ],
   "source": [
    "for i in b:\n",
    "    print(i)"
   ]
  },
  {
   "cell_type": "code",
   "execution_count": 94,
   "id": "c1475422-0748-4a65-a868-5e5a1a10aee3",
   "metadata": {},
   "outputs": [],
   "source": [
    "a = np.array([1,2,3,4,5])\n",
    "b = np.array([6,7,8,9,10])"
   ]
  },
  {
   "cell_type": "code",
   "execution_count": 95,
   "id": "ade35293-ebda-4bb7-9886-b9b6e6bb78a2",
   "metadata": {},
   "outputs": [],
   "source": [
    "c = np.concatenate((a,b),axis = 0)"
   ]
  },
  {
   "cell_type": "code",
   "execution_count": 96,
   "id": "23ad21cc-41d8-4108-a942-2ee9fd07ce00",
   "metadata": {},
   "outputs": [
    {
     "name": "stdout",
     "output_type": "stream",
     "text": [
      "[ 1  2  3  4  5  6  7  8  9 10]\n"
     ]
    }
   ],
   "source": [
    "print(c)"
   ]
  },
  {
   "cell_type": "code",
   "execution_count": 97,
   "id": "ae6bdd41-cc70-4113-b5c6-3d1b25101ff0",
   "metadata": {},
   "outputs": [],
   "source": [
    "#joining 2-d array"
   ]
  },
  {
   "cell_type": "code",
   "execution_count": 98,
   "id": "bbdddff3-3f83-4fed-9de1-ef6c9c9048a4",
   "metadata": {},
   "outputs": [],
   "source": [
    "x = np.array([[1,2,3],[4,5,6]])\n",
    "y = np.array([[7,8,9],[10,11,12]])"
   ]
  },
  {
   "cell_type": "code",
   "execution_count": 103,
   "id": "06181de2-f31f-44b8-9f0f-f1ebda710247",
   "metadata": {},
   "outputs": [],
   "source": [
    "z = np.concatenate((x,y),axis = 0)"
   ]
  },
  {
   "cell_type": "code",
   "execution_count": 104,
   "id": "0e042167-b4f6-413a-82d1-4c9cf4a43559",
   "metadata": {},
   "outputs": [
    {
     "name": "stdout",
     "output_type": "stream",
     "text": [
      "[[ 1  2  3]\n",
      " [ 4  5  6]\n",
      " [ 7  8  9]\n",
      " [10 11 12]]\n"
     ]
    }
   ],
   "source": [
    "print(z)"
   ]
  },
  {
   "cell_type": "code",
   "execution_count": 101,
   "id": "2db68539-e471-4410-947d-cbb560ce14d6",
   "metadata": {},
   "outputs": [],
   "source": [
    "w = np.concatenate((x,y),axis = 1)"
   ]
  },
  {
   "cell_type": "code",
   "execution_count": 102,
   "id": "c2c6faad-8815-4324-bc39-3476bddd784a",
   "metadata": {},
   "outputs": [
    {
     "name": "stdout",
     "output_type": "stream",
     "text": [
      "[[ 1  2  3  7  8  9]\n",
      " [ 4  5  6 10 11 12]]\n"
     ]
    }
   ],
   "source": [
    "print(w)"
   ]
  },
  {
   "cell_type": "code",
   "execution_count": 117,
   "id": "ba348cf8-7d42-42dc-81c3-0f0e51fa00df",
   "metadata": {},
   "outputs": [],
   "source": [
    "#sorting an array\n",
    "arr1 = np.array([3,4,5,6,7,1,22,64,20,11,55,23])"
   ]
  },
  {
   "cell_type": "code",
   "execution_count": 118,
   "id": "72557dd1-9c62-4792-ba32-60401d9b0d2d",
   "metadata": {},
   "outputs": [],
   "source": [
    "arr2 = np.sort(arr1)"
   ]
  },
  {
   "cell_type": "code",
   "execution_count": 119,
   "id": "cf952665-0a15-4659-acaf-cdc4f33f7112",
   "metadata": {},
   "outputs": [
    {
     "name": "stdout",
     "output_type": "stream",
     "text": [
      "[ 1  3  4  5  6  7 11 20 22 23 55 64]\n"
     ]
    }
   ],
   "source": [
    "print(arr2)"
   ]
  },
  {
   "cell_type": "code",
   "execution_count": 120,
   "id": "3b6ab68f-9cd1-4d5e-9e23-0ba5c6ed2e62",
   "metadata": {},
   "outputs": [],
   "source": [
    "#sorting 2-d array\n"
   ]
  },
  {
   "cell_type": "code",
   "execution_count": 121,
   "id": "44b96389-11c8-4fe5-8169-d4d2d97e0a02",
   "metadata": {},
   "outputs": [
    {
     "name": "stdout",
     "output_type": "stream",
     "text": [
      "[[ 3  4  5  6]\n",
      " [ 7  1 22 64]\n",
      " [20 11 55 23]]\n"
     ]
    }
   ],
   "source": [
    "a = arr1.reshape(3,4)\n",
    "print(a)"
   ]
  },
  {
   "cell_type": "code",
   "execution_count": 122,
   "id": "d67a7014-0d21-4295-b3d4-656b438fc6d7",
   "metadata": {},
   "outputs": [
    {
     "name": "stdout",
     "output_type": "stream",
     "text": [
      "[[ 3  4  5  6]\n",
      " [ 1  7 22 64]\n",
      " [11 20 23 55]]\n"
     ]
    }
   ],
   "source": [
    "b = np.sort(a)\n",
    "print(b)"
   ]
  },
  {
   "cell_type": "code",
   "execution_count": null,
   "id": "b1b62da5-654b-4020-8137-0207c0ec3381",
   "metadata": {},
   "outputs": [],
   "source": []
  }
 ],
 "metadata": {
  "kernelspec": {
   "display_name": "Python 3 (ipykernel)",
   "language": "python",
   "name": "python3"
  },
  "language_info": {
   "codemirror_mode": {
    "name": "ipython",
    "version": 3
   },
   "file_extension": ".py",
   "mimetype": "text/x-python",
   "name": "python",
   "nbconvert_exporter": "python",
   "pygments_lexer": "ipython3",
   "version": "3.11.7"
  }
 },
 "nbformat": 4,
 "nbformat_minor": 5
}
